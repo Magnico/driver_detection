{
 "cells": [
  {
   "cell_type": "markdown",
   "metadata": {},
   "source": [
    "## Importing Libraries\n",
    "\n",
    "Importing the necessary libraries for the project\n",
    "\n",
    "And initializing constants\n",
    "\n",
    "```python\n",
    "\n",
    "```\n"
   ]
  },
  {
   "cell_type": "code",
   "execution_count": null,
   "metadata": {},
   "outputs": [],
   "source": [
    "!python -m venv venv"
   ]
  },
  {
   "cell_type": "code",
   "execution_count": null,
   "metadata": {},
   "outputs": [],
   "source": [
    "!python -m pip install --upgrade pip"
   ]
  },
  {
   "cell_type": "code",
   "execution_count": null,
   "metadata": {},
   "outputs": [],
   "source": [
    "%pip install opencv-python-headless numpy ultralytics Pillow ipywidgets wandb"
   ]
  },
  {
   "cell_type": "code",
   "execution_count": null,
   "metadata": {},
   "outputs": [],
   "source": [
    "import cv2\n",
    "import numpy as np\n",
    "import os\n",
    "from ultralytics import YOLO\n",
    "import pandas as pd\n",
    "import matplotlib.pyplot as plt\n",
    "from PIL import Image, ImageEnhance, ImageOps\n",
    "import wandb"
   ]
  },
  {
   "cell_type": "code",
   "execution_count": null,
   "metadata": {},
   "outputs": [],
   "source": [
    "### CONSTANTS\n",
    "# Image properties\n",
    "IMAGE_WIDTH = 640\n",
    "IMAGE_HEIGHT = 480\n",
    "IMAGE_CHANNELS = 3\n",
    "\n",
    "IMAGE_SIZE = (IMAGE_WIDTH, IMAGE_HEIGHT)\n",
    "\n",
    "IMAGE_EXT = ('.jpg', '.jpeg', '.png', '.bmp', '.tif', '.tiff', '.gif')\n",
    "\n",
    "\n",
    "# Director paths\n",
    "PROCESSED_DS_PATH_NM = './processed_dataset/NoMask'\n",
    "PROCESSED_DS_PATH_M = './processed_dataset/Mask'\n",
    "RAW_DS_PATH = './Data'\n",
    "\n",
    "## MODELS\n",
    "# Segmentation\n",
    "SEG_KWARGS = {\n",
    "    'classes':  0,\n",
    "    'imgsz': IMAGE_WIDTH,\n",
    "    'boxes':True,\n",
    "    'save':True,\n",
    "    'show_labels':False,\n",
    "    'show_conf':False,\n",
    "    'max_det':1,\n",
    "}\n",
    "# Classification\n",
    "CLASS_KWARGS = {\n",
    "    'epochs': 100,\n",
    "    'project': 'models',\n",
    "}\n",
    "MODEL_KWARGS = {\n",
    "    'save': True,\n",
    "    'project': './',\n",
    "    'name': 'tests',\n",
    "}"
   ]
  },
  {
   "cell_type": "markdown",
   "metadata": {},
   "source": [
    "## Preparig data for training\n"
   ]
  },
  {
   "cell_type": "markdown",
   "metadata": {},
   "source": [
    "### Preparing Models\n",
    "\n",
    "```python\n",
    "\n",
    "```\n"
   ]
  },
  {
   "cell_type": "code",
   "execution_count": null,
   "metadata": {},
   "outputs": [],
   "source": [
    "img_seg_model = YOLO('yolov8n-seg.pt')\n",
    "img_class_model = YOLO(\"yolov8s-cls.pt\")"
   ]
  },
  {
   "cell_type": "markdown",
   "metadata": {},
   "source": [
    "### Preparing dataset\n",
    "\n",
    "```python\n",
    "\n",
    "```\n"
   ]
  },
  {
   "cell_type": "code",
   "execution_count": null,
   "metadata": {},
   "outputs": [],
   "source": [
    "def process_images(\n",
    "        source_folder=RAW_DS_PATH, \n",
    "        destination_folder=PROCESSED_DS_PATH_NM, \n",
    "        grayscale=True, \n",
    "        resize=True,\n",
    "        resize_dimensions=IMAGE_SIZE):\n",
    "    if not os.path.exists(source_folder):\n",
    "        print(f\"Source folder does not exist: {source_folder}\")\n",
    "        return\n",
    "    if os.path.exists(destination_folder):\n",
    "        print(f\"Destination folder already exists: {destination_folder}\")\n",
    "        return\n",
    "\n",
    "    os.makedirs(destination_folder, exist_ok=True)\n",
    "\n",
    "    for subdir, dirs, files in os.walk(source_folder):\n",
    "        for file in files:\n",
    "            if file.lower().endswith(IMAGE_EXT):\n",
    "                source_path = os.path.join(subdir, file)\n",
    "                relative_path = os.path.relpath(subdir, source_folder)\n",
    "                destination_subdir = os.path.join(destination_folder, relative_path)\n",
    "                os.makedirs(destination_subdir, exist_ok=True)\n",
    "\n",
    "                destination_path = os.path.join(destination_subdir, file)\n",
    "\n",
    "                image = cv2.imread(source_path)\n",
    "                if image is None:\n",
    "                    print(f\"Unable to read image: {source_path}\")\n",
    "                    continue\n",
    "\n",
    "                if grayscale:\n",
    "                    image = cv2.cvtColor(image, cv2.COLOR_BGR2GRAY)\n",
    "\n",
    "                if resize:\n",
    "                    image = cv2.resize(image, resize_dimensions)\n",
    "\n",
    "                cv2.imwrite(destination_path, image)"
   ]
  },
  {
   "cell_type": "code",
   "execution_count": null,
   "metadata": {},
   "outputs": [],
   "source": [
    "def mask_images(\n",
    "        source_folder = PROCESSED_DS_PATH_NM,\n",
    "        destination_folder=PROCESSED_DS_PATH_M):\n",
    "    \n",
    "    if not os.path.exists(source_folder):\n",
    "        print(f\"Source folder does not exist: {source_folder}\")\n",
    "        return\n",
    "    if os.path.exists(destination_folder):\n",
    "        print(f\"Destination folder already exists: {destination_folder}\")\n",
    "        return\n",
    "\n",
    "    root_path_length = len(source_folder) + len(os.path.sep)\n",
    "\n",
    "    # Set comprehension to get only directories at depth 2\n",
    "    subdirs = {subdir[root_path_length:] for subdir, dirs, files in os.walk(source_folder)\n",
    "               if subdir.count(os.path.sep) == 2}\n",
    "    \n",
    "    for subdir in subdirs:\n",
    "        img_folder = os.path.join(source_folder, subdir)\n",
    "        print(img_folder)\n",
    "        img_seg_model(img_folder, project=destination_folder, name=subdir, **SEG_KWARGS)"
   ]
  },
  {
   "cell_type": "code",
   "execution_count": null,
   "metadata": {},
   "outputs": [],
   "source": [
    "process_images()\n",
    "\n",
    "mask_images()"
   ]
  },
  {
   "cell_type": "markdown",
   "metadata": {},
   "source": [
    "## Training\n",
    "\n",
    "```python\n",
    "\n",
    "```\n"
   ]
  },
  {
   "cell_type": "code",
   "execution_count": null,
   "metadata": {},
   "outputs": [],
   "source": [
    "wandb.init(mode='disabled');\n",
    "\n",
    "try:\n",
    "\n",
    "    run = max(os.listdir(CLASS_KWARGS['project']))\n",
    "\n",
    "    run = 1 + int(run)\n",
    "\n",
    "except:\n",
    "\n",
    "    run = 1\n",
    "\n",
    "\n",
    "img_class_model.train(data=PROCESSED_DS_PATH_M, name=run, **CLASS_KWARGS)"
   ]
  },
  {
   "cell_type": "markdown",
   "metadata": {},
   "source": [
    "## Prediction\n"
   ]
  },
  {
   "cell_type": "code",
   "execution_count": null,
   "metadata": {},
   "outputs": [],
   "source": [
    "def get_model(run, best=False):\n",
    "    weight = 'weights/best.pt' if best else 'weights/last.pt'\n",
    "    path = os.path.join(CLASS_KWARGS['project'], str(run), weight)\n",
    "    return YOLO(path)"
   ]
  },
  {
   "cell_type": "code",
   "execution_count": null,
   "metadata": {},
   "outputs": [],
   "source": [
    "def predict(image_path):\n",
    "    try:\n",
    "        runs = os.listdir(CLASS_KWARGS['project'])\n",
    "    except:\n",
    "        print(\"No runs found\")\n",
    "        return\n",
    "    i = input(f\"Choose a run from {runs}: \")\n",
    "\n",
    "    while i not in runs:\n",
    "        i = input(f\"Choose a run from {runs}: \")\n",
    "    \n",
    "    model = get_model(i)\n",
    "\n",
    "    model(image_path, **MODEL_KWARGS)"
   ]
  },
  {
   "cell_type": "code",
   "execution_count": null,
   "metadata": {},
   "outputs": [],
   "source": [
    "predict('./processed_dataset/Mask/val/6/')"
   ]
  }
 ],
 "metadata": {
  "kernelspec": {
   "display_name": "venv",
   "language": "python",
   "name": "python3"
  },
  "language_info": {
   "codemirror_mode": {
    "name": "ipython",
    "version": 3
   },
   "file_extension": ".py",
   "mimetype": "text/x-python",
   "name": "python",
   "nbconvert_exporter": "python",
   "pygments_lexer": "ipython3",
   "version": "3.9.13"
  }
 },
 "nbformat": 4,
 "nbformat_minor": 2
}
