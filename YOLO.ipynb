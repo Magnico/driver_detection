{
 "cells": [
  {
   "cell_type": "markdown",
   "metadata": {},
   "source": [
    "Image Segmentation use: https://docs.ultralytics.com/modes/predict/#inference-sources\n",
    "\n",
    "For model Training use: https://github.com/computervisioneng/image-classification-yolov8/tree/main/local_env\n",
    "\n",
    "Hyper parameter tuning: https://docs.ultralytics.com/guides/hyperparameter-tuning/\n"
   ]
  },
  {
   "cell_type": "markdown",
   "metadata": {},
   "source": [
    "## Importing Libraries\n",
    "\n",
    "Importing the necessary libraries for the project\n",
    "\n",
    "And initializing constants\n",
    "\n",
    "```python\n",
    "\n",
    "```\n"
   ]
  },
  {
   "cell_type": "code",
   "execution_count": 3,
   "metadata": {},
   "outputs": [
    {
     "name": "stdout",
     "output_type": "stream",
     "text": [
      "Requirement already satisfied: opencv-python-headless in c:\\users\\domai\\appdata\\local\\programs\\python\\python38\\lib\\site-packages (4.8.1.78)\n",
      "Requirement already satisfied: numpy in c:\\users\\domai\\appdata\\local\\programs\\python\\python38\\lib\\site-packages (1.24.4)\n",
      "Requirement already satisfied: ultralytics in c:\\users\\domai\\appdata\\local\\programs\\python\\python38\\lib\\site-packages (8.0.207)\n",
      "Requirement already satisfied: Pillow in c:\\users\\domai\\appdata\\local\\programs\\python\\python38\\lib\\site-packages (10.1.0)\n",
      "Requirement already satisfied: requests>=2.23.0 in c:\\users\\domai\\appdata\\local\\programs\\python\\python38\\lib\\site-packages (from ultralytics) (2.31.0)\n",
      "Requirement already satisfied: py-cpuinfo in c:\\users\\domai\\appdata\\local\\programs\\python\\python38\\lib\\site-packages (from ultralytics) (9.0.0)\n",
      "Requirement already satisfied: torch>=1.8.0 in c:\\users\\domai\\appdata\\local\\programs\\python\\python38\\lib\\site-packages (from ultralytics) (2.1.0)\n",
      "Requirement already satisfied: pyyaml>=5.3.1 in c:\\users\\domai\\appdata\\local\\programs\\python\\python38\\lib\\site-packages (from ultralytics) (6.0.1)\n",
      "Requirement already satisfied: scipy>=1.4.1 in c:\\users\\domai\\appdata\\local\\programs\\python\\python38\\lib\\site-packages (from ultralytics) (1.10.1)\n",
      "Requirement already satisfied: pandas>=1.1.4 in c:\\users\\domai\\appdata\\local\\programs\\python\\python38\\lib\\site-packages (from ultralytics) (2.0.3)\n",
      "Requirement already satisfied: thop>=0.1.1 in c:\\users\\domai\\appdata\\local\\programs\\python\\python38\\lib\\site-packages (from ultralytics) (0.1.1.post2209072238)\n",
      "Requirement already satisfied: opencv-python>=4.6.0 in c:\\users\\domai\\appdata\\local\\programs\\python\\python38\\lib\\site-packages (from ultralytics) (4.8.1.78)\n",
      "Requirement already satisfied: psutil in c:\\users\\domai\\appdata\\local\\programs\\python\\python38\\lib\\site-packages (from ultralytics) (5.9.6)\n",
      "Requirement already satisfied: matplotlib>=3.3.0 in c:\\users\\domai\\appdata\\local\\programs\\python\\python38\\lib\\site-packages (from ultralytics) (3.7.3)\n",
      "Requirement already satisfied: tqdm>=4.64.0 in c:\\users\\domai\\appdata\\local\\programs\\python\\python38\\lib\\site-packages (from ultralytics) (4.66.1)\n",
      "Requirement already satisfied: seaborn>=0.11.0 in c:\\users\\domai\\appdata\\local\\programs\\python\\python38\\lib\\site-packages (from ultralytics) (0.13.0)\n",
      "Requirement already satisfied: torchvision>=0.9.0 in c:\\users\\domai\\appdata\\local\\programs\\python\\python38\\lib\\site-packages (from ultralytics) (0.16.0)\n",
      "Requirement already satisfied: cycler>=0.10 in c:\\users\\domai\\appdata\\local\\programs\\python\\python38\\lib\\site-packages (from matplotlib>=3.3.0->ultralytics) (0.12.1)\n",
      "Requirement already satisfied: python-dateutil>=2.7 in c:\\users\\domai\\appdata\\local\\programs\\python\\python38\\lib\\site-packages (from matplotlib>=3.3.0->ultralytics) (2.8.2)\n",
      "Requirement already satisfied: kiwisolver>=1.0.1 in c:\\users\\domai\\appdata\\local\\programs\\python\\python38\\lib\\site-packages (from matplotlib>=3.3.0->ultralytics) (1.4.5)\n",
      "Requirement already satisfied: importlib-resources>=3.2.0 in c:\\users\\domai\\appdata\\local\\programs\\python\\python38\\lib\\site-packages (from matplotlib>=3.3.0->ultralytics) (6.1.0)\n",
      "Requirement already satisfied: packaging>=20.0 in c:\\users\\domai\\appdata\\local\\programs\\python\\python38\\lib\\site-packages (from matplotlib>=3.3.0->ultralytics) (23.2)\n",
      "Requirement already satisfied: pyparsing>=2.3.1 in c:\\users\\domai\\appdata\\local\\programs\\python\\python38\\lib\\site-packages (from matplotlib>=3.3.0->ultralytics) (3.1.1)\n",
      "Requirement already satisfied: contourpy>=1.0.1 in c:\\users\\domai\\appdata\\local\\programs\\python\\python38\\lib\\site-packages (from matplotlib>=3.3.0->ultralytics) (1.1.1)\n",
      "Requirement already satisfied: fonttools>=4.22.0 in c:\\users\\domai\\appdata\\local\\programs\\python\\python38\\lib\\site-packages (from matplotlib>=3.3.0->ultralytics) (4.44.0)\n",
      "Requirement already satisfied: zipp>=3.1.0 in c:\\users\\domai\\appdata\\local\\programs\\python\\python38\\lib\\site-packages (from importlib-resources>=3.2.0->matplotlib>=3.3.0->ultralytics) (3.17.0)\n",
      "Requirement already satisfied: pytz>=2020.1 in c:\\users\\domai\\appdata\\local\\programs\\python\\python38\\lib\\site-packages (from pandas>=1.1.4->ultralytics) (2023.3.post1)\n",
      "Requirement already satisfied: tzdata>=2022.1 in c:\\users\\domai\\appdata\\local\\programs\\python\\python38\\lib\\site-packages (from pandas>=1.1.4->ultralytics) (2023.3)\n",
      "Requirement already satisfied: six>=1.5 in c:\\users\\domai\\appdata\\local\\programs\\python\\python38\\lib\\site-packages (from python-dateutil>=2.7->matplotlib>=3.3.0->ultralytics) (1.16.0)\n",
      "Requirement already satisfied: urllib3<3,>=1.21.1 in c:\\users\\domai\\appdata\\local\\programs\\python\\python38\\lib\\site-packages (from requests>=2.23.0->ultralytics) (2.0.7)\n",
      "Requirement already satisfied: certifi>=2017.4.17 in c:\\users\\domai\\appdata\\local\\programs\\python\\python38\\lib\\site-packages (from requests>=2.23.0->ultralytics) (2023.7.22)\n",
      "Requirement already satisfied: charset-normalizer<4,>=2 in c:\\users\\domai\\appdata\\local\\programs\\python\\python38\\lib\\site-packages (from requests>=2.23.0->ultralytics) (3.3.2)\n",
      "Requirement already satisfied: idna<4,>=2.5 in c:\\users\\domai\\appdata\\local\\programs\\python\\python38\\lib\\site-packages (from requests>=2.23.0->ultralytics) (3.4)\n",
      "Requirement already satisfied: typing-extensions in c:\\users\\domai\\appdata\\local\\programs\\python\\python38\\lib\\site-packages (from torch>=1.8.0->ultralytics) (4.8.0)\n",
      "Requirement already satisfied: sympy in c:\\users\\domai\\appdata\\local\\programs\\python\\python38\\lib\\site-packages (from torch>=1.8.0->ultralytics) (1.12)\n",
      "Requirement already satisfied: jinja2 in c:\\users\\domai\\appdata\\local\\programs\\python\\python38\\lib\\site-packages (from torch>=1.8.0->ultralytics) (3.1.2)\n",
      "Requirement already satisfied: networkx in c:\\users\\domai\\appdata\\local\\programs\\python\\python38\\lib\\site-packages (from torch>=1.8.0->ultralytics) (3.1)\n",
      "Requirement already satisfied: fsspec in c:\\users\\domai\\appdata\\local\\programs\\python\\python38\\lib\\site-packages (from torch>=1.8.0->ultralytics) (2023.10.0)\n",
      "Requirement already satisfied: filelock in c:\\users\\domai\\appdata\\local\\programs\\python\\python38\\lib\\site-packages (from torch>=1.8.0->ultralytics) (3.13.1)\n",
      "Requirement already satisfied: colorama in c:\\users\\domai\\appdata\\local\\programs\\python\\python38\\lib\\site-packages (from tqdm>=4.64.0->ultralytics) (0.4.6)\n",
      "Requirement already satisfied: MarkupSafe>=2.0 in c:\\users\\domai\\appdata\\local\\programs\\python\\python38\\lib\\site-packages (from jinja2->torch>=1.8.0->ultralytics) (2.1.3)\n",
      "Requirement already satisfied: mpmath>=0.19 in c:\\users\\domai\\appdata\\local\\programs\\python\\python38\\lib\\site-packages (from sympy->torch>=1.8.0->ultralytics) (1.3.0)\n",
      "Note: you may need to restart the kernel to use updated packages.\n"
     ]
    },
    {
     "name": "stderr",
     "output_type": "stream",
     "text": [
      "WARNING: You are using pip version 21.1.1; however, version 23.3.1 is available.\n",
      "You should consider upgrading via the 'c:\\Users\\domai\\AppData\\Local\\Programs\\Python\\Python38\\python.exe -m pip install --upgrade pip' command.\n"
     ]
    }
   ],
   "source": [
    "%pip install opencv-python-headless numpy ultralytics Pillow"
   ]
  },
  {
   "cell_type": "code",
   "execution_count": 2,
   "metadata": {},
   "outputs": [],
   "source": [
    "import cv2\n",
    "import numpy as np\n",
    "import os\n",
    "from ultralytics import YOLO\n",
    "import pandas as pd\n",
    "import matplotlib.pyplot as plt\n",
    "from PIL import Image, ImageEnhance, ImageOps"
   ]
  },
  {
   "cell_type": "code",
   "execution_count": 103,
   "metadata": {},
   "outputs": [],
   "source": [
    "### CONSTANTS\n",
    "# Image properties\n",
    "IMAGE_WIDTH = 640\n",
    "IMAGE_HEIGHT = 480\n",
    "IMAGE_CHANNELS = 3\n",
    "\n",
    "IMAGE_SIZE = (IMAGE_WIDTH, IMAGE_HEIGHT)\n",
    "\n",
    "IMAGE_EXT = ('.jpg', '.jpeg', '.png', '.bmp', '.tif', '.tiff', '.gif')\n",
    "\n",
    "\n",
    "# Director paths\n",
    "PROCESSED_DS_PATH_NM = './processed_dataset/NoMask'\n",
    "PROCESSED_DS_PATH_M = './processed_dataset/Mask'\n",
    "RAW_DS_PATH = './Data'\n",
    "\n",
    "## MODELS\n",
    "# Segmentation\n",
    "SEG_KWARGS = {\n",
    "    'classes': 0,\n",
    "    'imgsz': IMAGE_SIZE,\n",
    "    'boxes':True,\n",
    "    'save':True,\n",
    "    'show_labels':False,\n",
    "    'show_conf':True,\n",
    "    'max_det':1,\n",
    "}\n",
    "# Classification\n",
    "CLASS_KWARGS = {\n",
    "    'epochs': 20,\n",
    "    'project': './models',\n",
    "}\n",
    "MODEL_KWARGS = {\n",
    "    'save': True,\n",
    "    'project': './',\n",
    "    'name': 'tests',\n",
    "}"
   ]
  },
  {
   "cell_type": "markdown",
   "metadata": {},
   "source": [
    "## Preparig data for training\n"
   ]
  },
  {
   "cell_type": "markdown",
   "metadata": {},
   "source": [
    "### Preparing Models\n",
    "\n",
    "```python\n",
    "\n",
    "```\n"
   ]
  },
  {
   "cell_type": "code",
   "execution_count": 4,
   "metadata": {},
   "outputs": [
    {
     "name": "stderr",
     "output_type": "stream",
     "text": [
      "Downloading https://github.com/ultralytics/assets/releases/download/v0.0.0/yolov8n-seg.pt to 'yolov8n-seg.pt'...\n",
      "100%|██████████| 6.73M/6.73M [00:00<00:00, 28.9MB/s]\n",
      "Downloading https://github.com/ultralytics/assets/releases/download/v0.0.0/yolov8n-cls.pt to 'yolov8n-cls.pt'...\n",
      "100%|██████████| 5.28M/5.28M [00:00<00:00, 31.4MB/s]\n"
     ]
    }
   ],
   "source": [
    "img_seg_model = YOLO('yolov8n-seg.pt')\n",
    "img_class_model = YOLO(\"yolov8n-cls.pt\")"
   ]
  },
  {
   "cell_type": "code",
   "execution_count": 55,
   "metadata": {},
   "outputs": [
    {
     "ename": "OSError",
     "evalue": "[Errno 22] Invalid argument: 'processed_dataset\\\\Mask\\x0bal\\x06\\\\sthephany_6_0.jpg'",
     "output_type": "error",
     "traceback": [
      "\u001b[1;31m---------------------------------------------------------------------------\u001b[0m",
      "\u001b[1;31mOSError\u001b[0m                                   Traceback (most recent call last)",
      "\u001b[1;32mc:\\Users\\domai\\Desktop\\PFJUPITER\\driver_detection\\YOLO.ipynb Cell 9\u001b[0m line \u001b[0;36m1\n\u001b[1;32m----> <a href='vscode-notebook-cell:/c%3A/Users/domai/Desktop/PFJUPITER/driver_detection/YOLO.ipynb#X11sZmlsZQ%3D%3D?line=0'>1</a>\u001b[0m \u001b[39mwith\u001b[39;00m Image\u001b[39m.\u001b[39;49mopen(\u001b[39m'\u001b[39;49m\u001b[39mprocessed_dataset\u001b[39;49m\u001b[39m\\\u001b[39;49m\u001b[39mMask\u001b[39;49m\u001b[39m\\v\u001b[39;49;00m\u001b[39mal\u001b[39;49m\u001b[39m\\6\u001b[39;49;00m\u001b[39m\\\u001b[39;49m\u001b[39msthephany_6_0.jpg\u001b[39;49m\u001b[39m'\u001b[39;49m) \u001b[39mas\u001b[39;00m img:\n\u001b[0;32m      <a href='vscode-notebook-cell:/c%3A/Users/domai/Desktop/PFJUPITER/driver_detection/YOLO.ipynb#X11sZmlsZQ%3D%3D?line=1'>2</a>\u001b[0m \n\u001b[0;32m      <a href='vscode-notebook-cell:/c%3A/Users/domai/Desktop/PFJUPITER/driver_detection/YOLO.ipynb#X11sZmlsZQ%3D%3D?line=2'>3</a>\u001b[0m     \u001b[39m# add a border\u001b[39;00m\n\u001b[0;32m      <a href='vscode-notebook-cell:/c%3A/Users/domai/Desktop/PFJUPITER/driver_detection/YOLO.ipynb#X11sZmlsZQ%3D%3D?line=3'>4</a>\u001b[0m     img \u001b[39m=\u001b[39m ImageOps\u001b[39m.\u001b[39mexpand(img,border\u001b[39m=\u001b[39m\u001b[39m50\u001b[39m,fill\u001b[39m=\u001b[39m\u001b[39m'\u001b[39m\u001b[39mblack\u001b[39m\u001b[39m'\u001b[39m)\n\u001b[0;32m      <a href='vscode-notebook-cell:/c%3A/Users/domai/Desktop/PFJUPITER/driver_detection/YOLO.ipynb#X11sZmlsZQ%3D%3D?line=5'>6</a>\u001b[0m     \u001b[39m# Enhancing the sharpness\u001b[39;00m\n",
      "File \u001b[1;32mc:\\Users\\domai\\AppData\\Local\\Programs\\Python\\Python38\\lib\\site-packages\\PIL\\Image.py:3243\u001b[0m, in \u001b[0;36mopen\u001b[1;34m(fp, mode, formats)\u001b[0m\n\u001b[0;32m   3240\u001b[0m     filename \u001b[39m=\u001b[39m fp\n\u001b[0;32m   3242\u001b[0m \u001b[39mif\u001b[39;00m filename:\n\u001b[1;32m-> 3243\u001b[0m     fp \u001b[39m=\u001b[39m builtins\u001b[39m.\u001b[39;49mopen(filename, \u001b[39m\"\u001b[39;49m\u001b[39mrb\u001b[39;49m\u001b[39m\"\u001b[39;49m)\n\u001b[0;32m   3244\u001b[0m     exclusive_fp \u001b[39m=\u001b[39m \u001b[39mTrue\u001b[39;00m\n\u001b[0;32m   3246\u001b[0m \u001b[39mtry\u001b[39;00m:\n",
      "\u001b[1;31mOSError\u001b[0m: [Errno 22] Invalid argument: 'processed_dataset\\\\Mask\\x0bal\\x06\\\\sthephany_6_0.jpg'"
     ]
    }
   ],
   "source": [
    "with Image.open('processed_dataset\\Mask\\val\\6\\sthephany_6_0.jpg') as img:\n",
    "\n",
    "    # add a border\n",
    "    img = ImageOps.expand(img,border=50,fill='black')\n",
    "\n",
    "    # Enhancing the sharpness\n",
    "    enhancer = ImageEnhance.Sharpness(img)\n",
    "    enhanced_img = enhancer.enhance(7)\n",
    "    \n",
    "    \n",
    "    # Save it to a new file\n",
    "    enhanced_img.save('./result.jpg')"
   ]
  },
  {
   "cell_type": "code",
   "execution_count": 85,
   "metadata": {},
   "outputs": [
    {
     "name": "stderr",
     "output_type": "stream",
     "text": [
      "\n"
     ]
    },
    {
     "ename": "FileNotFoundError",
     "evalue": "./result.jpg does not exist",
     "output_type": "error",
     "traceback": [
      "\u001b[1;31m---------------------------------------------------------------------------\u001b[0m",
      "\u001b[1;31mFileNotFoundError\u001b[0m                         Traceback (most recent call last)",
      "\u001b[1;32mc:\\Users\\domai\\Desktop\\PFJUPITER\\driver_detection\\YOLO.ipynb Cell 10\u001b[0m line \u001b[0;36m1\n\u001b[1;32m----> <a href='vscode-notebook-cell:/c%3A/Users/domai/Desktop/PFJUPITER/driver_detection/YOLO.ipynb#X12sZmlsZQ%3D%3D?line=0'>1</a>\u001b[0m img_seg_model(\u001b[39m'\u001b[39;49m\u001b[39m./result.jpg\u001b[39;49m\u001b[39m'\u001b[39;49m, \u001b[39m*\u001b[39;49m\u001b[39m*\u001b[39;49mSEG_KWARGS)\n",
      "File \u001b[1;32mc:\\Users\\domai\\AppData\\Local\\Programs\\Python\\Python38\\lib\\site-packages\\ultralytics\\engine\\model.py:98\u001b[0m, in \u001b[0;36mModel.__call__\u001b[1;34m(self, source, stream, **kwargs)\u001b[0m\n\u001b[0;32m     96\u001b[0m \u001b[39mdef\u001b[39;00m \u001b[39m__call__\u001b[39m(\u001b[39mself\u001b[39m, source\u001b[39m=\u001b[39m\u001b[39mNone\u001b[39;00m, stream\u001b[39m=\u001b[39m\u001b[39mFalse\u001b[39;00m, \u001b[39m*\u001b[39m\u001b[39m*\u001b[39mkwargs):\n\u001b[0;32m     97\u001b[0m \u001b[39m    \u001b[39m\u001b[39m\"\"\"Calls the 'predict' function with given arguments to perform object detection.\"\"\"\u001b[39;00m\n\u001b[1;32m---> 98\u001b[0m     \u001b[39mreturn\u001b[39;00m \u001b[39mself\u001b[39;49m\u001b[39m.\u001b[39;49mpredict(source, stream, \u001b[39m*\u001b[39;49m\u001b[39m*\u001b[39;49mkwargs)\n",
      "File \u001b[1;32mc:\\Users\\domai\\AppData\\Local\\Programs\\Python\\Python38\\lib\\site-packages\\ultralytics\\engine\\model.py:239\u001b[0m, in \u001b[0;36mModel.predict\u001b[1;34m(self, source, stream, predictor, **kwargs)\u001b[0m\n\u001b[0;32m    237\u001b[0m \u001b[39mif\u001b[39;00m prompts \u001b[39mand\u001b[39;00m \u001b[39mhasattr\u001b[39m(\u001b[39mself\u001b[39m\u001b[39m.\u001b[39mpredictor, \u001b[39m'\u001b[39m\u001b[39mset_prompts\u001b[39m\u001b[39m'\u001b[39m):  \u001b[39m# for SAM-type models\u001b[39;00m\n\u001b[0;32m    238\u001b[0m     \u001b[39mself\u001b[39m\u001b[39m.\u001b[39mpredictor\u001b[39m.\u001b[39mset_prompts(prompts)\n\u001b[1;32m--> 239\u001b[0m \u001b[39mreturn\u001b[39;00m \u001b[39mself\u001b[39m\u001b[39m.\u001b[39mpredictor\u001b[39m.\u001b[39mpredict_cli(source\u001b[39m=\u001b[39msource) \u001b[39mif\u001b[39;00m is_cli \u001b[39melse\u001b[39;00m \u001b[39mself\u001b[39;49m\u001b[39m.\u001b[39;49mpredictor(source\u001b[39m=\u001b[39;49msource, stream\u001b[39m=\u001b[39;49mstream)\n",
      "File \u001b[1;32mc:\\Users\\domai\\AppData\\Local\\Programs\\Python\\Python38\\lib\\site-packages\\ultralytics\\engine\\predictor.py:196\u001b[0m, in \u001b[0;36mBasePredictor.__call__\u001b[1;34m(self, source, model, stream, *args, **kwargs)\u001b[0m\n\u001b[0;32m    194\u001b[0m     \u001b[39mreturn\u001b[39;00m \u001b[39mself\u001b[39m\u001b[39m.\u001b[39mstream_inference(source, model, \u001b[39m*\u001b[39margs, \u001b[39m*\u001b[39m\u001b[39m*\u001b[39mkwargs)\n\u001b[0;32m    195\u001b[0m \u001b[39melse\u001b[39;00m:\n\u001b[1;32m--> 196\u001b[0m     \u001b[39mreturn\u001b[39;00m \u001b[39mlist\u001b[39;49m(\u001b[39mself\u001b[39;49m\u001b[39m.\u001b[39;49mstream_inference(source, model, \u001b[39m*\u001b[39;49margs, \u001b[39m*\u001b[39;49m\u001b[39m*\u001b[39;49mkwargs))\n",
      "File \u001b[1;32mc:\\Users\\domai\\AppData\\Local\\Programs\\Python\\Python38\\lib\\site-packages\\torch\\utils\\_contextlib.py:35\u001b[0m, in \u001b[0;36m_wrap_generator.<locals>.generator_context\u001b[1;34m(*args, **kwargs)\u001b[0m\n\u001b[0;32m     32\u001b[0m \u001b[39mtry\u001b[39;00m:\n\u001b[0;32m     33\u001b[0m     \u001b[39m# Issuing `None` to a generator fires it up\u001b[39;00m\n\u001b[0;32m     34\u001b[0m     \u001b[39mwith\u001b[39;00m ctx_factory():\n\u001b[1;32m---> 35\u001b[0m         response \u001b[39m=\u001b[39m gen\u001b[39m.\u001b[39;49msend(\u001b[39mNone\u001b[39;49;00m)\n\u001b[0;32m     37\u001b[0m     \u001b[39mwhile\u001b[39;00m \u001b[39mTrue\u001b[39;00m:\n\u001b[0;32m     38\u001b[0m         \u001b[39mtry\u001b[39;00m:\n\u001b[0;32m     39\u001b[0m             \u001b[39m# Forward the response to our caller and get its next request\u001b[39;00m\n",
      "File \u001b[1;32mc:\\Users\\domai\\AppData\\Local\\Programs\\Python\\Python38\\lib\\site-packages\\ultralytics\\engine\\predictor.py:235\u001b[0m, in \u001b[0;36mBasePredictor.stream_inference\u001b[1;34m(self, source, model, *args, **kwargs)\u001b[0m\n\u001b[0;32m    232\u001b[0m     \u001b[39mself\u001b[39m\u001b[39m.\u001b[39msetup_model(model)\n\u001b[0;32m    234\u001b[0m \u001b[39m# Setup source every time predict is called\u001b[39;00m\n\u001b[1;32m--> 235\u001b[0m \u001b[39mself\u001b[39;49m\u001b[39m.\u001b[39;49msetup_source(source \u001b[39mif\u001b[39;49;00m source \u001b[39mis\u001b[39;49;00m \u001b[39mnot\u001b[39;49;00m \u001b[39mNone\u001b[39;49;00m \u001b[39melse\u001b[39;49;00m \u001b[39mself\u001b[39;49m\u001b[39m.\u001b[39;49margs\u001b[39m.\u001b[39;49msource)\n\u001b[0;32m    237\u001b[0m \u001b[39m# Check if save_dir/ label file exists\u001b[39;00m\n\u001b[0;32m    238\u001b[0m \u001b[39mif\u001b[39;00m \u001b[39mself\u001b[39m\u001b[39m.\u001b[39margs\u001b[39m.\u001b[39msave \u001b[39mor\u001b[39;00m \u001b[39mself\u001b[39m\u001b[39m.\u001b[39margs\u001b[39m.\u001b[39msave_txt:\n",
      "File \u001b[1;32mc:\\Users\\domai\\AppData\\Local\\Programs\\Python\\Python38\\lib\\site-packages\\ultralytics\\engine\\predictor.py:213\u001b[0m, in \u001b[0;36mBasePredictor.setup_source\u001b[1;34m(self, source)\u001b[0m\n\u001b[0;32m    210\u001b[0m \u001b[39mself\u001b[39m\u001b[39m.\u001b[39mimgsz \u001b[39m=\u001b[39m check_imgsz(\u001b[39mself\u001b[39m\u001b[39m.\u001b[39margs\u001b[39m.\u001b[39mimgsz, stride\u001b[39m=\u001b[39m\u001b[39mself\u001b[39m\u001b[39m.\u001b[39mmodel\u001b[39m.\u001b[39mstride, min_dim\u001b[39m=\u001b[39m\u001b[39m2\u001b[39m)  \u001b[39m# check image size\u001b[39;00m\n\u001b[0;32m    211\u001b[0m \u001b[39mself\u001b[39m\u001b[39m.\u001b[39mtransforms \u001b[39m=\u001b[39m \u001b[39mgetattr\u001b[39m(\u001b[39mself\u001b[39m\u001b[39m.\u001b[39mmodel\u001b[39m.\u001b[39mmodel, \u001b[39m'\u001b[39m\u001b[39mtransforms\u001b[39m\u001b[39m'\u001b[39m, classify_transforms(\n\u001b[0;32m    212\u001b[0m     \u001b[39mself\u001b[39m\u001b[39m.\u001b[39mimgsz[\u001b[39m0\u001b[39m])) \u001b[39mif\u001b[39;00m \u001b[39mself\u001b[39m\u001b[39m.\u001b[39margs\u001b[39m.\u001b[39mtask \u001b[39m==\u001b[39m \u001b[39m'\u001b[39m\u001b[39mclassify\u001b[39m\u001b[39m'\u001b[39m \u001b[39melse\u001b[39;00m \u001b[39mNone\u001b[39;00m\n\u001b[1;32m--> 213\u001b[0m \u001b[39mself\u001b[39m\u001b[39m.\u001b[39mdataset \u001b[39m=\u001b[39m load_inference_source(source\u001b[39m=\u001b[39;49msource,\n\u001b[0;32m    214\u001b[0m                                      imgsz\u001b[39m=\u001b[39;49m\u001b[39mself\u001b[39;49m\u001b[39m.\u001b[39;49mimgsz,\n\u001b[0;32m    215\u001b[0m                                      vid_stride\u001b[39m=\u001b[39;49m\u001b[39mself\u001b[39;49m\u001b[39m.\u001b[39;49margs\u001b[39m.\u001b[39;49mvid_stride,\n\u001b[0;32m    216\u001b[0m                                      buffer\u001b[39m=\u001b[39;49m\u001b[39mself\u001b[39;49m\u001b[39m.\u001b[39;49margs\u001b[39m.\u001b[39;49mstream_buffer)\n\u001b[0;32m    217\u001b[0m \u001b[39mself\u001b[39m\u001b[39m.\u001b[39msource_type \u001b[39m=\u001b[39m \u001b[39mself\u001b[39m\u001b[39m.\u001b[39mdataset\u001b[39m.\u001b[39msource_type\n\u001b[0;32m    218\u001b[0m \u001b[39mif\u001b[39;00m \u001b[39mnot\u001b[39;00m \u001b[39mgetattr\u001b[39m(\u001b[39mself\u001b[39m, \u001b[39m'\u001b[39m\u001b[39mstream\u001b[39m\u001b[39m'\u001b[39m, \u001b[39mTrue\u001b[39;00m) \u001b[39mand\u001b[39;00m (\u001b[39mself\u001b[39m\u001b[39m.\u001b[39mdataset\u001b[39m.\u001b[39mmode \u001b[39m==\u001b[39m \u001b[39m'\u001b[39m\u001b[39mstream\u001b[39m\u001b[39m'\u001b[39m \u001b[39mor\u001b[39;00m  \u001b[39m# streams\u001b[39;00m\n\u001b[0;32m    219\u001b[0m                                           \u001b[39mlen\u001b[39m(\u001b[39mself\u001b[39m\u001b[39m.\u001b[39mdataset) \u001b[39m>\u001b[39m \u001b[39m1000\u001b[39m \u001b[39mor\u001b[39;00m  \u001b[39m# images\u001b[39;00m\n\u001b[0;32m    220\u001b[0m                                           \u001b[39many\u001b[39m(\u001b[39mgetattr\u001b[39m(\u001b[39mself\u001b[39m\u001b[39m.\u001b[39mdataset, \u001b[39m'\u001b[39m\u001b[39mvideo_flag\u001b[39m\u001b[39m'\u001b[39m, [\u001b[39mFalse\u001b[39;00m]))):  \u001b[39m# videos\u001b[39;00m\n",
      "File \u001b[1;32mc:\\Users\\domai\\AppData\\Local\\Programs\\Python\\Python38\\lib\\site-packages\\ultralytics\\data\\build.py:172\u001b[0m, in \u001b[0;36mload_inference_source\u001b[1;34m(source, imgsz, vid_stride, buffer)\u001b[0m\n\u001b[0;32m    170\u001b[0m     dataset \u001b[39m=\u001b[39m LoadPilAndNumpy(source, imgsz\u001b[39m=\u001b[39mimgsz)\n\u001b[0;32m    171\u001b[0m \u001b[39melse\u001b[39;00m:\n\u001b[1;32m--> 172\u001b[0m     dataset \u001b[39m=\u001b[39m LoadImages(source, imgsz\u001b[39m=\u001b[39;49mimgsz, vid_stride\u001b[39m=\u001b[39;49mvid_stride)\n\u001b[0;32m    174\u001b[0m \u001b[39m# Attach source types to the dataset\u001b[39;00m\n\u001b[0;32m    175\u001b[0m \u001b[39msetattr\u001b[39m(dataset, \u001b[39m'\u001b[39m\u001b[39msource_type\u001b[39m\u001b[39m'\u001b[39m, source_type)\n",
      "File \u001b[1;32mc:\\Users\\domai\\AppData\\Local\\Programs\\Python\\Python38\\lib\\site-packages\\ultralytics\\data\\loaders.py:287\u001b[0m, in \u001b[0;36mLoadImages.__init__\u001b[1;34m(self, path, imgsz, vid_stride)\u001b[0m\n\u001b[0;32m    285\u001b[0m         files\u001b[39m.\u001b[39mappend(\u001b[39mstr\u001b[39m((parent \u001b[39m/\u001b[39m p)\u001b[39m.\u001b[39mabsolute()))  \u001b[39m# files (relative to *.txt file parent)\u001b[39;00m\n\u001b[0;32m    286\u001b[0m     \u001b[39melse\u001b[39;00m:\n\u001b[1;32m--> 287\u001b[0m         \u001b[39mraise\u001b[39;00m \u001b[39mFileNotFoundError\u001b[39;00m(\u001b[39mf\u001b[39m\u001b[39m'\u001b[39m\u001b[39m{\u001b[39;00mp\u001b[39m}\u001b[39;00m\u001b[39m does not exist\u001b[39m\u001b[39m'\u001b[39m)\n\u001b[0;32m    289\u001b[0m images \u001b[39m=\u001b[39m [x \u001b[39mfor\u001b[39;00m x \u001b[39min\u001b[39;00m files \u001b[39mif\u001b[39;00m x\u001b[39m.\u001b[39msplit(\u001b[39m'\u001b[39m\u001b[39m.\u001b[39m\u001b[39m'\u001b[39m)[\u001b[39m-\u001b[39m\u001b[39m1\u001b[39m]\u001b[39m.\u001b[39mlower() \u001b[39min\u001b[39;00m IMG_FORMATS]\n\u001b[0;32m    290\u001b[0m videos \u001b[39m=\u001b[39m [x \u001b[39mfor\u001b[39;00m x \u001b[39min\u001b[39;00m files \u001b[39mif\u001b[39;00m x\u001b[39m.\u001b[39msplit(\u001b[39m'\u001b[39m\u001b[39m.\u001b[39m\u001b[39m'\u001b[39m)[\u001b[39m-\u001b[39m\u001b[39m1\u001b[39m]\u001b[39m.\u001b[39mlower() \u001b[39min\u001b[39;00m VID_FORMATS]\n",
      "\u001b[1;31mFileNotFoundError\u001b[0m: ./result.jpg does not exist"
     ]
    }
   ],
   "source": [
    "img_seg_model('./result.jpg', **SEG_KWARGS)"
   ]
  },
  {
   "cell_type": "markdown",
   "metadata": {},
   "source": [
    "### Preparing dataset\n",
    "\n",
    "```python\n",
    "\n",
    "```\n"
   ]
  },
  {
   "cell_type": "code",
   "execution_count": 86,
   "metadata": {},
   "outputs": [],
   "source": [
    "def process_images(\n",
    "        source_folder=RAW_DS_PATH, \n",
    "        destination_folder=PROCESSED_DS_PATH_NM, \n",
    "        grayscale=True, \n",
    "        resize=True,\n",
    "        resize_dimensions=IMAGE_SIZE):\n",
    "    if not os.path.exists(source_folder):\n",
    "        print(f\"Source folder does not exist: {source_folder}\")\n",
    "        return\n",
    "    if os.path.exists(destination_folder):\n",
    "        print(f\"Destination folder already exists: {destination_folder}\")\n",
    "        return\n",
    "\n",
    "    os.makedirs(destination_folder, exist_ok=True)\n",
    "\n",
    "    for subdir, dirs, files in os.walk(source_folder):\n",
    "        for file in files:\n",
    "            if file.lower().endswith(IMAGE_EXT):\n",
    "                source_path = os.path.join(subdir, file)\n",
    "                relative_path = os.path.relpath(subdir, source_folder)\n",
    "                destination_subdir = os.path.join(destination_folder, relative_path)\n",
    "                os.makedirs(destination_subdir, exist_ok=True)\n",
    "\n",
    "                destination_path = os.path.join(destination_subdir, file)\n",
    "\n",
    "                image = cv2.imread(source_path)\n",
    "                if image is None:\n",
    "                    print(f\"Unable to read image: {source_path}\")\n",
    "                    continue\n",
    "\n",
    "                if grayscale:\n",
    "                    image = cv2.cvtColor(image, cv2.COLOR_BGR2GRAY)\n",
    "\n",
    "                if resize:\n",
    "                    image = cv2.resize(image, resize_dimensions)\n",
    "\n",
    "                cv2.imwrite(destination_path, image)"
   ]
  },
  {
   "cell_type": "code",
   "execution_count": 123,
   "metadata": {},
   "outputs": [],
   "source": [
    "def mask_images(\n",
    "        source_folder = PROCESSED_DS_PATH_NM,\n",
    "        destination_folder=PROCESSED_DS_PATH_M):\n",
    "    \n",
    "    if not os.path.exists(source_folder):\n",
    "        print(f\"Source folder does not exist: {source_folder}\")\n",
    "        return\n",
    "    if os.path.exists(destination_folder):\n",
    "        print(f\"Destination folder already exists: {destination_folder}\")\n",
    "        return\n",
    "\n",
    "    root_path_length = len(source_folder) + len(os.path.sep)\n",
    "\n",
    "    # Set comprehension to get only directories at depth 2\n",
    "    subdirs = {subdir[root_path_length:] for subdir, dirs, files in os.walk(source_folder)\n",
    "               if subdir.count(os.path.sep) == 2}\n",
    "    \n",
    "    for subdir in subdirs:\n",
    "        img_folder = os.path.join(source_folder, subdir)\n",
    "        print(img_folder)\n",
    "        img_seg_model(img_folder, project=destination_folder, name=subdir, **SEG_KWARGS)\n",
    "    "
   ]
  },
  {
   "cell_type": "code",
   "execution_count": 88,
   "metadata": {},
   "outputs": [],
   "source": [
    "process_images()"
   ]
  },
  {
   "cell_type": "code",
   "execution_count": 104,
   "metadata": {},
   "outputs": [
    {
     "data": {
      "text/plain": [
       "{'classes': 0,\n",
       " 'imgsz': (640, 480),\n",
       " 'boxes': True,\n",
       " 'save': True,\n",
       " 'show_labels': False,\n",
       " 'show_conf': True,\n",
       " 'max_det': 1}"
      ]
     },
     "execution_count": 104,
     "metadata": {},
     "output_type": "execute_result"
    }
   ],
   "source": [
    "SEG_KWARGS"
   ]
  },
  {
   "cell_type": "code",
   "execution_count": 105,
   "metadata": {},
   "outputs": [
    {
     "name": "stdout",
     "output_type": "stream",
     "text": [
      "Destination folder already exists: ./processed_dataset/Mask\n"
     ]
    }
   ],
   "source": [
    "mask_images()"
   ]
  },
  {
   "cell_type": "markdown",
   "metadata": {},
   "source": [
    "## Training\n",
    "\n",
    "```python\n",
    "\n",
    "```\n"
   ]
  },
  {
   "cell_type": "code",
   "execution_count": 140,
   "metadata": {},
   "outputs": [
    {
     "name": "stderr",
     "output_type": "stream",
     "text": [
      "Ultralytics YOLOv8.0.207  Python-3.8.10 torch-2.1.0+cpu CPU (AMD Ryzen 5 5600 6-Core Processor)\n",
      "\u001b[34m\u001b[1mengine\\trainer: \u001b[0mtask=classify, mode=train, model=yolov8n-cls.pt, data=./processed_dataset/Mask, epochs=20, patience=50, batch=16, imgsz=224, save=True, save_period=-1, cache=False, device=None, workers=0, project=./models, name=4, exist_ok=False, pretrained=True, optimizer=auto, verbose=True, seed=0, deterministic=True, single_cls=False, rect=False, cos_lr=False, close_mosaic=10, resume=False, amp=True, fraction=1.0, profile=False, freeze=None, overlap_mask=True, mask_ratio=4, dropout=0.0, val=True, split=val, save_json=False, save_hybrid=False, conf=None, iou=0.7, max_det=300, half=False, dnn=False, plots=True, source=None, show=False, save_txt=False, save_conf=False, save_crop=False, show_labels=True, show_conf=True, vid_stride=1, stream_buffer=False, line_width=None, visualize=False, augment=False, agnostic_nms=False, classes=None, retina_masks=False, boxes=True, format=torchscript, keras=False, optimize=False, int8=False, dynamic=False, simplify=False, opset=None, workspace=4, nms=False, lr0=0.01, lrf=0.01, momentum=0.937, weight_decay=0.0005, warmup_epochs=3.0, warmup_momentum=0.8, warmup_bias_lr=0.0, box=7.5, cls=0.5, dfl=1.5, pose=12.0, kobj=1.0, label_smoothing=0.0, nbs=64, hsv_h=0.015, hsv_s=0.7, hsv_v=0.4, degrees=0.0, translate=0.1, scale=0.5, shear=0.0, perspective=0.0, flipud=0.0, fliplr=0.5, mosaic=1.0, mixup=0.0, copy_paste=0.0, cfg=None, tracker=botsort.yaml, save_dir=models\\4\n",
      "\u001b[34m\u001b[1mtrain:\u001b[0m C:\\Users\\domai\\Desktop\\PFJUPITER\\driver_detection\\processed_dataset\\Mask\\train... found 5290 images in 6 classes  \n",
      "\u001b[34m\u001b[1mval:\u001b[0m C:\\Users\\domai\\Desktop\\PFJUPITER\\driver_detection\\processed_dataset\\Mask\\val... found 227 images in 6 classes  \n",
      "\u001b[34m\u001b[1mtest:\u001b[0m None...\n",
      "\n",
      "                   from  n    params  module                                       arguments                     \n",
      "  0                  -1  1       464  ultralytics.nn.modules.conv.Conv             [3, 16, 3, 2]                 \n",
      "  1                  -1  1      4672  ultralytics.nn.modules.conv.Conv             [16, 32, 3, 2]                \n",
      "  2                  -1  1      7360  ultralytics.nn.modules.block.C2f             [32, 32, 1, True]             \n",
      "  3                  -1  1     18560  ultralytics.nn.modules.conv.Conv             [32, 64, 3, 2]                \n",
      "  4                  -1  2     49664  ultralytics.nn.modules.block.C2f             [64, 64, 2, True]             \n",
      "  5                  -1  1     73984  ultralytics.nn.modules.conv.Conv             [64, 128, 3, 2]               \n",
      "  6                  -1  2    197632  ultralytics.nn.modules.block.C2f             [128, 128, 2, True]           \n",
      "  7                  -1  1    295424  ultralytics.nn.modules.conv.Conv             [128, 256, 3, 2]              \n",
      "  8                  -1  1    460288  ultralytics.nn.modules.block.C2f             [256, 256, 1, True]           \n",
      "  9                  -1  1    337926  ultralytics.nn.modules.head.Classify         [256, 6]                      \n",
      "YOLOv8n-cls summary: 99 layers, 1445974 parameters, 1445974 gradients, 3.4 GFLOPs\n",
      "Transferred 158/158 items from pretrained weights\n",
      "\u001b[34m\u001b[1mtrain: \u001b[0mScanning C:\\Users\\domai\\Desktop\\PFJUPITER\\driver_detection\\processed_dataset\\Mask\\train... 5290 images, 0 corrupt: 100%|██████████| 5290/5290 [00:00<?, ?it/s]\n",
      "\u001b[34m\u001b[1mval: \u001b[0mScanning C:\\Users\\domai\\Desktop\\PFJUPITER\\driver_detection\\processed_dataset\\Mask\\val... 227 images, 0 corrupt: 100%|██████████| 227/227 [00:00<00:00, 4934.68it/s]\n",
      "\u001b[34m\u001b[1mval: \u001b[0mNew cache created: C:\\Users\\domai\\Desktop\\PFJUPITER\\driver_detection\\processed_dataset\\Mask\\val.cache\n",
      "\u001b[34m\u001b[1moptimizer:\u001b[0m 'optimizer=auto' found, ignoring 'lr0=0.01' and 'momentum=0.937' and determining best 'optimizer', 'lr0' and 'momentum' automatically... \n",
      "\u001b[34m\u001b[1moptimizer:\u001b[0m AdamW(lr=0.000714, momentum=0.9) with parameter groups 26 weight(decay=0.0), 27 weight(decay=0.0005), 27 bias(decay=0.0)\n",
      "Image sizes 224 train, 224 val\n",
      "Using 0 dataloader workers\n",
      "Logging results to \u001b[1mmodels\\4\u001b[0m\n",
      "Starting training for 20 epochs...\n",
      "\n",
      "      Epoch    GPU_mem       loss  Instances       Size\n",
      "       1/20         0G   0.007027         10        224: 100%|██████████| 331/331 [01:15<00:00,  4.39it/s]\n",
      "               classes   top1_acc   top5_acc: 100%|██████████| 8/8 [00:01<00:00,  5.43it/s]\n",
      "                   all      0.445      0.952\n",
      "\n",
      "      Epoch    GPU_mem       loss  Instances       Size\n",
      "       2/20         0G   0.006621         10        224: 100%|██████████| 331/331 [01:15<00:00,  4.39it/s]\n",
      "               classes   top1_acc   top5_acc: 100%|██████████| 8/8 [00:01<00:00,  5.25it/s]\n",
      "                   all      0.507      0.921\n",
      "\n",
      "      Epoch    GPU_mem       loss  Instances       Size\n",
      "       3/20         0G    0.01663         10        224: 100%|██████████| 331/331 [01:20<00:00,  4.09it/s]\n",
      "               classes   top1_acc   top5_acc: 100%|██████████| 8/8 [00:01<00:00,  5.81it/s]\n",
      "                   all      0.529      0.987\n",
      "\n",
      "      Epoch    GPU_mem       loss  Instances       Size\n",
      "       4/20         0G     0.0191         10        224: 100%|██████████| 331/331 [01:08<00:00,  4.83it/s]\n",
      "               classes   top1_acc   top5_acc: 100%|██████████| 8/8 [00:01<00:00,  5.60it/s]\n",
      "                   all       0.48       0.96\n",
      "\n",
      "      Epoch    GPU_mem       loss  Instances       Size\n",
      "       5/20         0G   0.008516         10        224: 100%|██████████| 331/331 [01:12<00:00,  4.55it/s]\n",
      "               classes   top1_acc   top5_acc: 100%|██████████| 8/8 [00:01<00:00,  5.49it/s]\n",
      "                   all      0.419      0.947\n",
      "\n",
      "      Epoch    GPU_mem       loss  Instances       Size\n",
      "       6/20         0G   0.006683         10        224: 100%|██████████| 331/331 [01:12<00:00,  4.55it/s]\n",
      "               classes   top1_acc   top5_acc: 100%|██████████| 8/8 [00:01<00:00,  5.55it/s]\n",
      "                   all      0.436      0.947\n",
      "\n",
      "      Epoch    GPU_mem       loss  Instances       Size\n",
      "       7/20         0G   0.006684         10        224: 100%|██████████| 331/331 [01:12<00:00,  4.56it/s]\n",
      "               classes   top1_acc   top5_acc: 100%|██████████| 8/8 [00:01<00:00,  5.45it/s]\n",
      "                   all      0.467      0.921\n",
      "\n",
      "      Epoch    GPU_mem       loss  Instances       Size\n",
      "       8/20         0G   0.004283         10        224: 100%|██████████| 331/331 [01:12<00:00,  4.57it/s]\n",
      "               classes   top1_acc   top5_acc: 100%|██████████| 8/8 [00:01<00:00,  5.47it/s]\n",
      "                   all      0.493      0.921\n",
      "\n",
      "      Epoch    GPU_mem       loss  Instances       Size\n",
      "       9/20         0G    0.00399         10        224: 100%|██████████| 331/331 [01:12<00:00,  4.57it/s]\n",
      "               classes   top1_acc   top5_acc: 100%|██████████| 8/8 [00:01<00:00,  5.53it/s]\n",
      "                   all      0.502      0.925\n",
      "\n",
      "      Epoch    GPU_mem       loss  Instances       Size\n",
      "      10/20         0G   0.003811         10        224: 100%|██████████| 331/331 [01:12<00:00,  4.57it/s]\n",
      "               classes   top1_acc   top5_acc: 100%|██████████| 8/8 [00:01<00:00,  5.48it/s]\n",
      "                   all      0.458      0.916\n",
      "\n",
      "      Epoch    GPU_mem       loss  Instances       Size\n",
      "      11/20         0G   0.003563         10        224: 100%|██████████| 331/331 [01:12<00:00,  4.57it/s]\n",
      "               classes   top1_acc   top5_acc: 100%|██████████| 8/8 [00:01<00:00,  5.42it/s]\n",
      "                   all      0.445      0.921\n",
      "\n",
      "      Epoch    GPU_mem       loss  Instances       Size\n",
      "      12/20         0G   0.003536         10        224: 100%|██████████| 331/331 [01:12<00:00,  4.58it/s]\n",
      "               classes   top1_acc   top5_acc: 100%|██████████| 8/8 [00:01<00:00,  5.45it/s]\n",
      "                   all      0.454      0.916\n",
      "\n",
      "      Epoch    GPU_mem       loss  Instances       Size\n",
      "      13/20         0G   0.003306         10        224: 100%|██████████| 331/331 [01:12<00:00,  4.57it/s]\n",
      "               classes   top1_acc   top5_acc: 100%|██████████| 8/8 [00:01<00:00,  5.39it/s]\n",
      "                   all      0.449      0.921\n",
      "\n",
      "      Epoch    GPU_mem       loss  Instances       Size\n",
      "      14/20         0G   0.003363         10        224: 100%|██████████| 331/331 [01:12<00:00,  4.56it/s]\n",
      "               classes   top1_acc   top5_acc: 100%|██████████| 8/8 [00:01<00:00,  5.47it/s]\n",
      "                   all      0.449      0.921\n",
      "\n",
      "      Epoch    GPU_mem       loss  Instances       Size\n",
      "      15/20         0G   0.003251         10        224: 100%|██████████| 331/331 [01:12<00:00,  4.57it/s]\n",
      "               classes   top1_acc   top5_acc: 100%|██████████| 8/8 [00:01<00:00,  5.51it/s]\n",
      "                   all      0.445      0.921\n",
      "\n",
      "      Epoch    GPU_mem       loss  Instances       Size\n",
      "      16/20         0G    0.00335         10        224: 100%|██████████| 331/331 [01:12<00:00,  4.57it/s]\n",
      "               classes   top1_acc   top5_acc: 100%|██████████| 8/8 [00:01<00:00,  5.53it/s]\n",
      "                   all      0.454      0.921\n",
      "\n",
      "      Epoch    GPU_mem       loss  Instances       Size\n",
      "      17/20         0G   0.003235         10        224: 100%|██████████| 331/331 [01:12<00:00,  4.56it/s]\n",
      "               classes   top1_acc   top5_acc: 100%|██████████| 8/8 [00:01<00:00,  5.37it/s]\n",
      "                   all      0.471      0.921\n",
      "\n",
      "      Epoch    GPU_mem       loss  Instances       Size\n",
      "      18/20         0G   0.003197         10        224: 100%|██████████| 331/331 [01:12<00:00,  4.57it/s]\n",
      "               classes   top1_acc   top5_acc: 100%|██████████| 8/8 [00:01<00:00,  5.52it/s]\n",
      "                   all      0.471      0.916\n",
      "\n",
      "      Epoch    GPU_mem       loss  Instances       Size\n",
      "      19/20         0G   0.003115         10        224: 100%|██████████| 331/331 [01:12<00:00,  4.57it/s]\n",
      "               classes   top1_acc   top5_acc: 100%|██████████| 8/8 [00:01<00:00,  5.42it/s]\n",
      "                   all      0.458      0.921\n",
      "\n",
      "      Epoch    GPU_mem       loss  Instances       Size\n",
      "      20/20         0G    0.00305         10        224: 100%|██████████| 331/331 [01:12<00:00,  4.55it/s]\n",
      "               classes   top1_acc   top5_acc: 100%|██████████| 8/8 [00:01<00:00,  5.17it/s]\n",
      "                   all      0.467      0.921\n",
      "\n",
      "20 epochs completed in 0.414 hours.\n",
      "Optimizer stripped from models\\4\\weights\\last.pt, 3.0MB\n",
      "Optimizer stripped from models\\4\\weights\\best.pt, 3.0MB\n",
      "\n",
      "Validating models\\4\\weights\\best.pt...\n",
      "Ultralytics YOLOv8.0.207  Python-3.8.10 torch-2.1.0+cpu CPU (AMD Ryzen 5 5600 6-Core Processor)\n",
      "YOLOv8n-cls summary (fused): 73 layers, 1442566 parameters, 0 gradients, 3.3 GFLOPs\n",
      "\u001b[34m\u001b[1mtrain:\u001b[0m C:\\Users\\domai\\Desktop\\PFJUPITER\\driver_detection\\processed_dataset\\Mask\\train... found 5290 images in 6 classes  \n",
      "\u001b[34m\u001b[1mval:\u001b[0m C:\\Users\\domai\\Desktop\\PFJUPITER\\driver_detection\\processed_dataset\\Mask\\val... found 227 images in 6 classes  \n",
      "\u001b[34m\u001b[1mtest:\u001b[0m None...\n",
      "               classes   top1_acc   top5_acc: 100%|██████████| 8/8 [00:01<00:00,  5.49it/s]\n",
      "                   all      0.529      0.987\n",
      "Speed: 0.0ms preprocess, 3.4ms inference, 0.0ms loss, 0.0ms postprocess per image\n",
      "Results saved to \u001b[1mmodels\\4\u001b[0m\n",
      "Results saved to \u001b[1mmodels\\4\u001b[0m\n"
     ]
    },
    {
     "data": {
      "text/plain": [
       "ultralytics.utils.metrics.ClassifyMetrics object with attributes:\n",
       "\n",
       "confusion_matrix: <ultralytics.utils.metrics.ConfusionMatrix object at 0x00000271E3F03310>\n",
       "curves: []\n",
       "curves_results: []\n",
       "fitness: 0.757709264755249\n",
       "keys: ['metrics/accuracy_top1', 'metrics/accuracy_top5']\n",
       "results_dict: {'metrics/accuracy_top1': 0.5286343693733215, 'metrics/accuracy_top5': 0.9867841601371765, 'fitness': 0.757709264755249}\n",
       "save_dir: WindowsPath('models/4')\n",
       "speed: {'preprocess': 0.0, 'inference': 3.3876591316928946, 'loss': 0.0, 'postprocess': 0.0}\n",
       "task: 'classify'\n",
       "top1: 0.5286343693733215\n",
       "top5: 0.9867841601371765"
      ]
     },
     "execution_count": 140,
     "metadata": {},
     "output_type": "execute_result"
    }
   ],
   "source": [
    "try:\n",
    "    run = max(os.listdir(CLASS_KWARGS['project']))\n",
    "    run = 1 + int(run)\n",
    "except:\n",
    "    run = 1\n",
    "\n",
    "img_class_model.train(data=PROCESSED_DS_PATH_M, name=run, **CLASS_KWARGS)"
   ]
  },
  {
   "cell_type": "markdown",
   "metadata": {},
   "source": [
    "## Performance Evaluation"
   ]
  },
  {
   "cell_type": "code",
   "execution_count": null,
   "metadata": {},
   "outputs": [],
   "source": [
    "cm_path = os.path.join(CLASS_KWARGS['project'], str(run), 'confusion_matrix.jpg')\n",
    "results_path = os.path.join(CLASS_KWARGS['project'], str(run), 'results.jpg')\n",
    "\n",
    "cm_img = plt.imread(cm_path)\n",
    "results_img = plt.imread(results_path)\n",
    "\n",
    "plt.imshow(cm_img)\n",
    "plt.show()\n",
    "\n",
    "plt.imshow(results_img)\n",
    "plt.show()"
   ]
  },
  {
   "cell_type": "markdown",
   "metadata": {},
   "source": [
    "## Prediction\n"
   ]
  },
  {
   "cell_type": "code",
   "execution_count": 25,
   "metadata": {},
   "outputs": [],
   "source": [
    "def get_model(run, best=False):\n",
    "    weight = 'weights/best.pt' if best else 'weights/last.pt'\n",
    "    path = os.path.join(CLASS_KWARGS['project'], str(run), weight)\n",
    "    return YOLO(path)"
   ]
  },
  {
   "cell_type": "code",
   "execution_count": 51,
   "metadata": {},
   "outputs": [],
   "source": [
    "def predict(image_path):\n",
    "    try:\n",
    "        runs = os.listdir(CLASS_KWARGS['project'])\n",
    "    except:\n",
    "        print(\"No runs found\")\n",
    "        return\n",
    "    i = input(f\"Choose a run from {runs}: \")\n",
    "\n",
    "    while i not in runs:\n",
    "        i = input(f\"Choose a run from {runs}: \")\n",
    "    \n",
    "    model = get_model(i)\n",
    "\n",
    "    model(image_path, **MODEL_KWARGS)"
   ]
  },
  {
   "cell_type": "code",
   "execution_count": 143,
   "metadata": {},
   "outputs": [
    {
     "name": "stderr",
     "output_type": "stream",
     "text": [
      "\n",
      "image 1/41 c:\\Users\\domai\\Desktop\\PFJUPITER\\driver_detection\\Data\\datatest_processed_masked\\datat\\datat2\\0151_video1_jpg.rf.1935373158fdb7cadb1f7514f67ab487.jpg: 224x224 2 1.00, 5 0.00, 4 0.00, 3 0.00, 0 0.00, 10.0ms\n",
      "image 2/41 c:\\Users\\domai\\Desktop\\PFJUPITER\\driver_detection\\Data\\datatest_processed_masked\\datat\\datat2\\0283_video1_jpg.rf.f5a2078cff98647a810ee39e276ef13a.jpg: 224x224 2 1.00, 5 0.00, 0 0.00, 1 0.00, 4 0.00, 10.0ms\n",
      "image 3/41 c:\\Users\\domai\\Desktop\\PFJUPITER\\driver_detection\\Data\\datatest_processed_masked\\datat\\datat2\\1239_video1_jpg.rf.9ceaa7e5dc3fe6c5563f79e71574c18d.jpg: 224x224 4 0.47, 1 0.14, 5 0.13, 0 0.09, 3 0.09, 9.0ms\n",
      "image 4/41 c:\\Users\\domai\\Desktop\\PFJUPITER\\driver_detection\\Data\\datatest_processed_masked\\datat\\datat2\\img_0_jpg.rf.de2446ced26aa599ff593cd179da222a.jpg: 224x224 4 1.00, 2 0.00, 0 0.00, 5 0.00, 1 0.00, 10.0ms\n",
      "image 5/41 c:\\Users\\domai\\Desktop\\PFJUPITER\\driver_detection\\Data\\datatest_processed_masked\\datat\\datat2\\img_1207_jpg.rf.74483f16b9e4fac1b8aa7755ed0ffb36.jpg: 224x224 4 1.00, 2 0.00, 0 0.00, 1 0.00, 3 0.00, 9.0ms\n",
      "image 6/41 c:\\Users\\domai\\Desktop\\PFJUPITER\\driver_detection\\Data\\datatest_processed_masked\\datat\\datat2\\img_124_jpg.rf.af23e7811c63d7671b4997fe5e54d168.jpg: 224x224 4 1.00, 0 0.00, 2 0.00, 3 0.00, 1 0.00, 9.0ms\n",
      "image 7/41 c:\\Users\\domai\\Desktop\\PFJUPITER\\driver_detection\\Data\\datatest_processed_masked\\datat\\datat2\\img_1399_jpg.rf.57a16f9c6ea60c8e87ca6df925f20138.jpg: 224x224 5 0.54, 4 0.46, 1 0.00, 3 0.00, 2 0.00, 10.0ms\n",
      "image 8/41 c:\\Users\\domai\\Desktop\\PFJUPITER\\driver_detection\\Data\\datatest_processed_masked\\datat\\datat2\\img_1472_jpg.rf.49e033e640e913d3d4f250162a228203.jpg: 224x224 1 1.00, 3 0.00, 2 0.00, 5 0.00, 4 0.00, 8.0ms\n",
      "image 9/41 c:\\Users\\domai\\Desktop\\PFJUPITER\\driver_detection\\Data\\datatest_processed_masked\\datat\\datat2\\img_14835_jpg.rf.34f8be10571471515aac8090bedcaa78.jpg: 224x224 1 1.00, 3 0.00, 0 0.00, 2 0.00, 4 0.00, 9.0ms\n",
      "image 10/41 c:\\Users\\domai\\Desktop\\PFJUPITER\\driver_detection\\Data\\datatest_processed_masked\\datat\\datat2\\img_157_jpg.rf.00a59172a6123a7e93a48396298d37f1.jpg: 224x224 4 1.00, 5 0.00, 2 0.00, 0 0.00, 1 0.00, 9.0ms\n",
      "image 11/41 c:\\Users\\domai\\Desktop\\PFJUPITER\\driver_detection\\Data\\datatest_processed_masked\\datat\\datat2\\img_3319_jpg.rf.923c87b9e33ac6d36d8436e2af5025aa.jpg: 224x224 4 1.00, 5 0.00, 2 0.00, 0 0.00, 1 0.00, 9.0ms\n",
      "image 12/41 c:\\Users\\domai\\Desktop\\PFJUPITER\\driver_detection\\Data\\datatest_processed_masked\\datat\\datat2\\img_3757_jpg.rf.a21df3c3994bb44da4551a3c9015dff1.jpg: 224x224 4 1.00, 2 0.00, 0 0.00, 5 0.00, 3 0.00, 9.0ms\n",
      "image 13/41 c:\\Users\\domai\\Desktop\\PFJUPITER\\driver_detection\\Data\\datatest_processed_masked\\datat\\datat2\\img_3979_jpg.rf.7fc34bf942f74edd282cbfa1a2c5e5c6.jpg: 224x224 4 1.00, 2 0.00, 5 0.00, 1 0.00, 3 0.00, 9.0ms\n",
      "image 14/41 c:\\Users\\domai\\Desktop\\PFJUPITER\\driver_detection\\Data\\datatest_processed_masked\\datat\\datat2\\img_71858_jpg.rf.2853c1b7267a11e1e98829cf052b1321.jpg: 224x224 4 1.00, 5 0.00, 2 0.00, 1 0.00, 0 0.00, 9.0ms\n",
      "image 15/41 c:\\Users\\domai\\Desktop\\PFJUPITER\\driver_detection\\Data\\datatest_processed_masked\\datat\\datat2\\img_71858_jpg.rf.90a5e0a362dc83555b47268c1df07ea0.jpg: 224x224 4 1.00, 5 0.00, 2 0.00, 1 0.00, 0 0.00, 9.0ms\n",
      "image 16/41 c:\\Users\\domai\\Desktop\\PFJUPITER\\driver_detection\\Data\\datatest_processed_masked\\datat\\datat2\\img_72093_jpg.rf.5592d414243747fbaeaa2df68991a9c1.jpg: 224x224 4 1.00, 0 0.00, 2 0.00, 1 0.00, 3 0.00, 9.0ms\n",
      "image 17/41 c:\\Users\\domai\\Desktop\\PFJUPITER\\driver_detection\\Data\\datatest_processed_masked\\datat\\datat2\\img_72_jpg.rf.1e12781e79d8fb837f172658ef5c4f51.jpg: 224x224 4 1.00, 2 0.00, 0 0.00, 3 0.00, 1 0.00, 9.0ms\n",
      "image 18/41 c:\\Users\\domai\\Desktop\\PFJUPITER\\driver_detection\\Data\\datatest_processed_masked\\datat\\datat2\\img_7391_jpg.rf.8071d40741412e4fc4c8a215dda06859.jpg: 224x224 4 1.00, 5 0.00, 2 0.00, 1 0.00, 3 0.00, 9.0ms\n",
      "image 19/41 c:\\Users\\domai\\Desktop\\PFJUPITER\\driver_detection\\Data\\datatest_processed_masked\\datat\\datat2\\img_7391_jpg.rf.e535802f37f78f141339baf058323044.jpg: 224x224 4 1.00, 5 0.00, 2 0.00, 1 0.00, 3 0.00, 9.0ms\n",
      "image 20/41 c:\\Users\\domai\\Desktop\\PFJUPITER\\driver_detection\\Data\\datatest_processed_masked\\datat\\datat2\\img_7659_jpg.rf.df62e22cc2c3aa6f4c8a9b35efd98f70.jpg: 224x224 4 1.00, 5 0.00, 2 0.00, 0 0.00, 1 0.00, 8.0ms\n",
      "image 21/41 c:\\Users\\domai\\Desktop\\PFJUPITER\\driver_detection\\Data\\datatest_processed_masked\\datat\\datat2\\img_79938_jpg.rf.1fb2b39136d663ea15aba34ee645672c.jpg: 224x224 1 1.00, 5 0.00, 3 0.00, 2 0.00, 4 0.00, 8.0ms\n",
      "image 22/41 c:\\Users\\domai\\Desktop\\PFJUPITER\\driver_detection\\Data\\datatest_processed_masked\\datat\\datat2\\img_80055_jpg.rf.5022602888fb3d869bd9da8eb998d467.jpg: 224x224 1 1.00, 3 0.00, 5 0.00, 4 0.00, 0 0.00, 10.0ms\n",
      "image 23/41 c:\\Users\\domai\\Desktop\\PFJUPITER\\driver_detection\\Data\\datatest_processed_masked\\datat\\datat2\\img_80055_jpg.rf.ca3f300353613a54da688b9608e773a6.jpg: 224x224 1 1.00, 3 0.00, 5 0.00, 4 0.00, 0 0.00, 9.0ms\n",
      "image 24/41 c:\\Users\\domai\\Desktop\\PFJUPITER\\driver_detection\\Data\\datatest_processed_masked\\datat\\datat2\\img_80378_jpg.rf.b3cd877669c8c528caeb6ad070058004.jpg: 224x224 1 1.00, 3 0.00, 5 0.00, 2 0.00, 4 0.00, 10.0ms\n",
      "image 25/41 c:\\Users\\domai\\Desktop\\PFJUPITER\\driver_detection\\Data\\datatest_processed_masked\\datat\\datat2\\img_80383_jpg.rf.d7bd5a92224c7689d10b69759df63282.jpg: 224x224 1 1.00, 3 0.00, 2 0.00, 0 0.00, 5 0.00, 9.0ms\n",
      "image 26/41 c:\\Users\\domai\\Desktop\\PFJUPITER\\driver_detection\\Data\\datatest_processed_masked\\datat\\datat2\\img_80443_jpg.rf.95e3ca5d7db655a6caf890d0e4f6b9af.jpg: 224x224 1 1.00, 3 0.00, 0 0.00, 2 0.00, 5 0.00, 9.0ms\n",
      "image 27/41 c:\\Users\\domai\\Desktop\\PFJUPITER\\driver_detection\\Data\\datatest_processed_masked\\datat\\datat2\\img_80656_jpg.rf.1964003fadfea16af726583a06e9970e.jpg: 224x224 1 1.00, 3 0.00, 5 0.00, 0 0.00, 2 0.00, 10.0ms\n",
      "image 28/41 c:\\Users\\domai\\Desktop\\PFJUPITER\\driver_detection\\Data\\datatest_processed_masked\\datat\\datat2\\img_81474_jpg.rf.a524224511b427facaf4e10090572c8e.jpg: 224x224 1 1.00, 3 0.00, 2 0.00, 4 0.00, 0 0.00, 10.0ms\n",
      "image 29/41 c:\\Users\\domai\\Desktop\\PFJUPITER\\driver_detection\\Data\\datatest_processed_masked\\datat\\datat2\\img_82068_jpg.rf.001ff5229e38194b47c5357d6a69e614.jpg: 224x224 1 1.00, 5 0.00, 3 0.00, 2 0.00, 4 0.00, 8.0ms\n",
      "image 30/41 c:\\Users\\domai\\Desktop\\PFJUPITER\\driver_detection\\Data\\datatest_processed_masked\\datat\\datat2\\img_82120_jpg.rf.f714887f8e2b5275f28283d469ec6baa.jpg: 224x224 1 1.00, 3 0.00, 0 0.00, 5 0.00, 4 0.00, 9.0ms\n",
      "image 31/41 c:\\Users\\domai\\Desktop\\PFJUPITER\\driver_detection\\Data\\datatest_processed_masked\\datat\\datat2\\img_82572_jpg.rf.3acfca0152461283c9e4431046397871.jpg: 224x224 1 1.00, 3 0.00, 5 0.00, 4 0.00, 2 0.00, 9.0ms\n",
      "image 32/41 c:\\Users\\domai\\Desktop\\PFJUPITER\\driver_detection\\Data\\datatest_processed_masked\\datat\\datat2\\img_82604_jpg.rf.af376ca6e65498da932ad1fb3c6bbd9c.jpg: 224x224 1 1.00, 3 0.00, 5 0.00, 2 0.00, 0 0.00, 9.0ms\n",
      "image 33/41 c:\\Users\\domai\\Desktop\\PFJUPITER\\driver_detection\\Data\\datatest_processed_masked\\datat\\datat2\\img_9314_jpg.rf.0f2d6729cca6012e590ba425c6205b34.jpg: 224x224 4 1.00, 2 0.00, 0 0.00, 5 0.00, 1 0.00, 8.0ms\n",
      "image 34/41 c:\\Users\\domai\\Desktop\\PFJUPITER\\driver_detection\\Data\\datatest_processed_masked\\datat\\datat2\\initest.jpg: 224x224 1 0.83, 5 0.16, 3 0.00, 2 0.00, 4 0.00, 9.0ms\n",
      "image 35/41 c:\\Users\\domai\\Desktop\\PFJUPITER\\driver_detection\\Data\\datatest_processed_masked\\datat\\datat2\\pep.jpg: 224x224 2 1.00, 4 0.00, 5 0.00, 1 0.00, 3 0.00, 9.0ms\n",
      "image 36/41 c:\\Users\\domai\\Desktop\\PFJUPITER\\driver_detection\\Data\\datatest_processed_masked\\datat\\datat2\\ste.jpg: 224x224 5 0.63, 0 0.16, 4 0.12, 1 0.07, 2 0.01, 9.0ms\n",
      "image 37/41 c:\\Users\\domai\\Desktop\\PFJUPITER\\driver_detection\\Data\\datatest_processed_masked\\datat\\datat2\\ste2.jpg: 224x224 4 0.41, 5 0.37, 1 0.15, 0 0.05, 3 0.01, 8.0ms\n",
      "image 38/41 c:\\Users\\domai\\Desktop\\PFJUPITER\\driver_detection\\Data\\datatest_processed_masked\\datat\\datat2\\test.jpeg: 224x224 0 0.38, 1 0.15, 2 0.14, 3 0.13, 4 0.11, 9.0ms\n",
      "image 39/41 c:\\Users\\domai\\Desktop\\PFJUPITER\\driver_detection\\Data\\datatest_processed_masked\\datat\\datat2\\test6_jpg.rf.6f05b1a1e1d929cff465bbcd2ff9f232.jpg: 224x224 5 0.53, 1 0.36, 4 0.10, 3 0.01, 2 0.01, 9.0ms\n",
      "image 40/41 c:\\Users\\domai\\Desktop\\PFJUPITER\\driver_detection\\Data\\datatest_processed_masked\\datat\\datat2\\test7_jpg.rf.04929f3dd8d38add7d9fbca9f260f2cf.jpg: 224x224 2 1.00, 5 0.00, 1 0.00, 4 0.00, 0 0.00, 12.0ms\n",
      "image 41/41 c:\\Users\\domai\\Desktop\\PFJUPITER\\driver_detection\\Data\\datatest_processed_masked\\datat\\datat2\\testes.jpeg: 224x224 5 0.93, 4 0.05, 1 0.02, 2 0.00, 3 0.00, 9.0ms\n",
      "Speed: 0.4ms preprocess, 9.1ms inference, 0.0ms postprocess per image at shape (1, 3, 224, 224)\n",
      "Results saved to \u001b[1mtests2\u001b[0m\n"
     ]
    }
   ],
   "source": [
    "\n",
    "predict('./Data/datatest_processed_masked/datat/datat2/')\n",
    "\n"
   ]
  },
  {
   "cell_type": "code",
   "execution_count": 147,
   "metadata": {},
   "outputs": [
    {
     "name": "stderr",
     "output_type": "stream",
     "text": [
      "\n",
      "image 1/70 c:\\Users\\domai\\Desktop\\PFJUPITER\\driver_detection\\Data\\datanewresult\\data2\\adda\\0004_video1_jpg.rf.b7d8aa6747750bb315b3e8bd48845096.jpg: 384x480 1 person, 50.0ms\n",
      "image 2/70 c:\\Users\\domai\\Desktop\\PFJUPITER\\driver_detection\\Data\\datanewresult\\data2\\adda\\0025_video2_3105_jpg.rf.68180040115d7828c0ab130dec831ab0.jpg: 384x480 1 person, 44.0ms\n",
      "image 3/70 c:\\Users\\domai\\Desktop\\PFJUPITER\\driver_detection\\Data\\datanewresult\\data2\\adda\\0050_video1_3105_jpg.rf.6cd9ea58c85a6f61f5f88311791a0c55.jpg: 384x480 1 person, 45.0ms\n"
     ]
    },
    {
     "name": "stdout",
     "output_type": "stream",
     "text": [
      "./Data/datanewresult\\data2\\adda\n"
     ]
    },
    {
     "name": "stderr",
     "output_type": "stream",
     "text": [
      "image 4/70 c:\\Users\\domai\\Desktop\\PFJUPITER\\driver_detection\\Data\\datanewresult\\data2\\adda\\0064_video1_jpg.rf.e95cd6edec310dba1a994e8544666669.jpg: 384x480 1 person, 48.0ms\n",
      "image 5/70 c:\\Users\\domai\\Desktop\\PFJUPITER\\driver_detection\\Data\\datanewresult\\data2\\adda\\0086_video1_jpg.rf.38e5240aa5416583be583dd0270ac00d.jpg: 384x480 1 person, 46.0ms\n",
      "image 6/70 c:\\Users\\domai\\Desktop\\PFJUPITER\\driver_detection\\Data\\datanewresult\\data2\\adda\\0096_video3_3105_jpg.rf.1b4659a5e7109c79a20e6cbea63fc7e2.jpg: 384x480 1 person, 44.0ms\n",
      "image 7/70 c:\\Users\\domai\\Desktop\\PFJUPITER\\driver_detection\\Data\\datanewresult\\data2\\adda\\0130_video1_3105_jpg.rf.f5f7cb44b29e72cca76a4742e0303a2a.jpg: 384x480 1 person, 45.0ms\n",
      "image 8/70 c:\\Users\\domai\\Desktop\\PFJUPITER\\driver_detection\\Data\\datanewresult\\data2\\adda\\0132_video1_3105_jpg.rf.65f284688e4d3f772f0a4d40317f0c13.jpg: 384x480 1 person, 47.0ms\n",
      "image 9/70 c:\\Users\\domai\\Desktop\\PFJUPITER\\driver_detection\\Data\\datanewresult\\data2\\adda\\0144_video1_jpg.rf.cbd90701f425d6322278b449aafe4a48.jpg: 384x480 1 person, 46.0ms\n",
      "image 10/70 c:\\Users\\domai\\Desktop\\PFJUPITER\\driver_detection\\Data\\datanewresult\\data2\\adda\\0146_video1_jpg.rf.0924d7fe63b27c332747443f3772b1f9.jpg: 384x480 1 person, 48.0ms\n",
      "image 11/70 c:\\Users\\domai\\Desktop\\PFJUPITER\\driver_detection\\Data\\datanewresult\\data2\\adda\\0148_video3_3105_jpg.rf.ddb8da2c60a6add25270d065700651a5.jpg: 384x480 1 person, 49.0ms\n",
      "image 12/70 c:\\Users\\domai\\Desktop\\PFJUPITER\\driver_detection\\Data\\datanewresult\\data2\\adda\\0151_video1_3105_jpg.rf.d6aae892f8550626332869b0032896c2.jpg: 384x480 1 person, 48.0ms\n",
      "image 13/70 c:\\Users\\domai\\Desktop\\PFJUPITER\\driver_detection\\Data\\datanewresult\\data2\\adda\\0153_video1_3105_jpg.rf.a2c3faa6f50ebf0057543bf6cca9a59f.jpg: 384x480 1 person, 48.0ms\n",
      "image 14/70 c:\\Users\\domai\\Desktop\\PFJUPITER\\driver_detection\\Data\\datanewresult\\data2\\adda\\0155_video1_3105_jpg.rf.e948a124212438c2eacadf1d5196f1e8.jpg: 384x480 1 person, 49.0ms\n",
      "image 15/70 c:\\Users\\domai\\Desktop\\PFJUPITER\\driver_detection\\Data\\datanewresult\\data2\\adda\\0164_video1_jpg.rf.52a1658a24136e07052d847721e2ad7c.jpg: 384x480 1 person, 48.0ms\n",
      "image 16/70 c:\\Users\\domai\\Desktop\\PFJUPITER\\driver_detection\\Data\\datanewresult\\data2\\adda\\0201_video3_3105_jpg.rf.c10abcb2116d5a479462e43652cf8c52.jpg: 384x480 1 person, 49.0ms\n",
      "image 17/70 c:\\Users\\domai\\Desktop\\PFJUPITER\\driver_detection\\Data\\datanewresult\\data2\\adda\\0203_video3_3105_jpg.rf.541f097c7004bc1f89bb85fc18ea0b13.jpg: 384x480 1 person, 51.0ms\n",
      "image 18/70 c:\\Users\\domai\\Desktop\\PFJUPITER\\driver_detection\\Data\\datanewresult\\data2\\adda\\0204_video1_3105_jpg.rf.171387aa34e653cc1ddea7e229e369ce.jpg: 384x480 1 person, 118.0ms\n",
      "image 19/70 c:\\Users\\domai\\Desktop\\PFJUPITER\\driver_detection\\Data\\datanewresult\\data2\\adda\\0231_video1_3105_jpg.rf.c7a80440f2e7df66c4df3dc054b7aa2e.jpg: 384x480 1 person, 52.0ms\n",
      "image 20/70 c:\\Users\\domai\\Desktop\\PFJUPITER\\driver_detection\\Data\\datanewresult\\data2\\adda\\0233_video1_3105_jpg.rf.bfb0fd2780d23d8a99b8555152ceb40a.jpg: 384x480 1 person, 51.0ms\n",
      "image 21/70 c:\\Users\\domai\\Desktop\\PFJUPITER\\driver_detection\\Data\\datanewresult\\data2\\adda\\0234_video3_3105_jpg.rf.a7c3cbe009de6a49b9d84e5734d21105.jpg: 384x480 1 person, 48.0ms\n",
      "image 22/70 c:\\Users\\domai\\Desktop\\PFJUPITER\\driver_detection\\Data\\datanewresult\\data2\\adda\\0258_video1_3105_jpg.rf.6f53a362966ae7d1748880ce99170ddf.jpg: 384x480 1 person, 46.0ms\n",
      "image 23/70 c:\\Users\\domai\\Desktop\\PFJUPITER\\driver_detection\\Data\\datanewresult\\data2\\adda\\0269_video2_3105_jpg.rf.33c0d3fbb22d48b427a3bbaca7322865.jpg: 384x480 1 person, 48.0ms\n",
      "image 24/70 c:\\Users\\domai\\Desktop\\PFJUPITER\\driver_detection\\Data\\datanewresult\\data2\\adda\\0275_video2_3105_jpg.rf.24cd178a00e54f1da19a54825ac179e8.jpg: 384x480 1 person, 46.0ms\n",
      "image 25/70 c:\\Users\\domai\\Desktop\\PFJUPITER\\driver_detection\\Data\\datanewresult\\data2\\adda\\0282_video1_3105_jpg.rf.1f67275a9ee3132f8dab4a8adea479c3.jpg: 384x480 1 person, 46.0ms\n",
      "image 26/70 c:\\Users\\domai\\Desktop\\PFJUPITER\\driver_detection\\Data\\datanewresult\\data2\\adda\\0331_video1_3105_jpg.rf.19026f0a0c1cfd3bd9e2f06eee4216f2.jpg: 384x480 1 person, 46.0ms\n",
      "image 27/70 c:\\Users\\domai\\Desktop\\PFJUPITER\\driver_detection\\Data\\datanewresult\\data2\\adda\\0369_video1_jpg.rf.ab77826f3713a2b8956f0c64d39a11be.jpg: 384x480 1 person, 48.0ms\n",
      "image 28/70 c:\\Users\\domai\\Desktop\\PFJUPITER\\driver_detection\\Data\\datanewresult\\data2\\adda\\0375_video1_jpg.rf.36c66f26381ecc310e43be01ab0235f0.jpg: 384x480 1 person, 48.0ms\n",
      "image 29/70 c:\\Users\\domai\\Desktop\\PFJUPITER\\driver_detection\\Data\\datanewresult\\data2\\adda\\0383_video1_3105_jpg.rf.e724ace7104b093c2de031ef31920893.jpg: 384x480 1 person, 48.0ms\n",
      "image 30/70 c:\\Users\\domai\\Desktop\\PFJUPITER\\driver_detection\\Data\\datanewresult\\data2\\adda\\0401_video1_jpg.rf.559b20cb74856a2ac5e42d89a011f866.jpg: 384x480 1 person, 49.0ms\n",
      "image 31/70 c:\\Users\\domai\\Desktop\\PFJUPITER\\driver_detection\\Data\\datanewresult\\data2\\adda\\0424_video1_jpg.rf.1dfd7a4a45a3c0be73f7e8c151e6aea5.jpg: 384x480 1 person, 48.0ms\n",
      "image 32/70 c:\\Users\\domai\\Desktop\\PFJUPITER\\driver_detection\\Data\\datanewresult\\data2\\adda\\0425_video1_jpg.rf.daf623b5bd8e2b723f2bb43e62f3a73a.jpg: 384x480 1 person, 47.0ms\n",
      "image 33/70 c:\\Users\\domai\\Desktop\\PFJUPITER\\driver_detection\\Data\\datanewresult\\data2\\adda\\0436_video1_jpg.rf.13c19f8a7237b414e3f966a1825aba8e.jpg: 384x480 1 person, 49.0ms\n",
      "image 34/70 c:\\Users\\domai\\Desktop\\PFJUPITER\\driver_detection\\Data\\datanewresult\\data2\\adda\\0472_video1_jpg.rf.fc4fe96cf36ad2a0296fcb5d214ffb18.jpg: 384x480 1 person, 47.0ms\n",
      "image 35/70 c:\\Users\\domai\\Desktop\\PFJUPITER\\driver_detection\\Data\\datanewresult\\data2\\adda\\0473_video1_jpg.rf.52ee19f1ac760b702f4ec45b90851c67.jpg: 384x480 1 person, 47.0ms\n",
      "image 36/70 c:\\Users\\domai\\Desktop\\PFJUPITER\\driver_detection\\Data\\datanewresult\\data2\\adda\\0486_video1_jpg.rf.00fa73c45ac9ca0b4c57773058d02442.jpg: 384x480 1 person, 46.0ms\n",
      "image 37/70 c:\\Users\\domai\\Desktop\\PFJUPITER\\driver_detection\\Data\\datanewresult\\data2\\adda\\0491_video1_jpg.rf.8a7212ed96549ceafb6e982f17d8de62.jpg: 384x480 1 person, 47.0ms\n",
      "image 38/70 c:\\Users\\domai\\Desktop\\PFJUPITER\\driver_detection\\Data\\datanewresult\\data2\\adda\\0493_video1_jpg.rf.1b7b7c651dd2e54c1f3212ed47780666.jpg: 384x480 1 person, 47.0ms\n",
      "image 39/70 c:\\Users\\domai\\Desktop\\PFJUPITER\\driver_detection\\Data\\datanewresult\\data2\\adda\\0495_video1_jpg.rf.ad7869695e438da2dab0400fde7af0a1.jpg: 384x480 1 person, 46.0ms\n",
      "image 40/70 c:\\Users\\domai\\Desktop\\PFJUPITER\\driver_detection\\Data\\datanewresult\\data2\\adda\\0497_video1_jpg.rf.9292cd4a1d2eb4b35a8b66bb34702a57.jpg: 384x480 1 person, 46.0ms\n",
      "image 41/70 c:\\Users\\domai\\Desktop\\PFJUPITER\\driver_detection\\Data\\datanewresult\\data2\\adda\\0529_video1_3105_jpg.rf.2376f252577f3b10f010ef41fe4fd47d.jpg: 384x480 1 person, 46.0ms\n",
      "image 42/70 c:\\Users\\domai\\Desktop\\PFJUPITER\\driver_detection\\Data\\datanewresult\\data2\\adda\\0536_video1_3105_jpg.rf.69e8d975d2b08b8931c6a2b63a8fbdac.jpg: 384x480 1 person, 44.0ms\n",
      "image 43/70 c:\\Users\\domai\\Desktop\\PFJUPITER\\driver_detection\\Data\\datanewresult\\data2\\adda\\0587_video1_jpg.rf.c5dc52547d1d516387bcd0825fdf6dad.jpg: 384x480 1 person, 46.0ms\n",
      "image 44/70 c:\\Users\\domai\\Desktop\\PFJUPITER\\driver_detection\\Data\\datanewresult\\data2\\adda\\0618_video3_3105_jpg.rf.a6c491f5197f7f619d1252bdf645f915.jpg: 384x480 1 person, 48.0ms\n",
      "image 45/70 c:\\Users\\domai\\Desktop\\PFJUPITER\\driver_detection\\Data\\datanewresult\\data2\\adda\\0654_video2_3105_jpg.rf.7a39b06be49f4a416a3a5c79194383b7.jpg: 384x480 1 person, 46.0ms\n",
      "image 46/70 c:\\Users\\domai\\Desktop\\PFJUPITER\\driver_detection\\Data\\datanewresult\\data2\\adda\\0723_video1_jpg.rf.ca8465ee8cd51146b4ad7fcd34c15be0.jpg: 384x480 1 person, 47.0ms\n",
      "image 47/70 c:\\Users\\domai\\Desktop\\PFJUPITER\\driver_detection\\Data\\datanewresult\\data2\\adda\\0785_video1_jpg.rf.486dec6a98e74d69eec7d2a4b87ced49.jpg: 384x480 1 person, 63.0ms\n",
      "image 48/70 c:\\Users\\domai\\Desktop\\PFJUPITER\\driver_detection\\Data\\datanewresult\\data2\\adda\\0787_video1_jpg.rf.b58f27922298ab4e4eea4524380629ad.jpg: 384x480 1 person, 50.0ms\n",
      "image 49/70 c:\\Users\\domai\\Desktop\\PFJUPITER\\driver_detection\\Data\\datanewresult\\data2\\adda\\0821_video2_3105_jpg.rf.2aa00a3fed6073998e831d2ea882205a.jpg: 384x480 1 person, 47.0ms\n",
      "image 50/70 c:\\Users\\domai\\Desktop\\PFJUPITER\\driver_detection\\Data\\datanewresult\\data2\\adda\\0828_video2_3105_jpg.rf.d72909d3f5e2b9b4e1c9ce0dc617a4ab.jpg: 384x480 1 person, 48.0ms\n",
      "image 51/70 c:\\Users\\domai\\Desktop\\PFJUPITER\\driver_detection\\Data\\datanewresult\\data2\\adda\\0841_video1_3105_jpg.rf.b92507cca3ac5ee4bc57542aac52b410.jpg: 384x480 1 person, 47.0ms\n",
      "image 52/70 c:\\Users\\domai\\Desktop\\PFJUPITER\\driver_detection\\Data\\datanewresult\\data2\\adda\\0945_video1_jpg.rf.af314fc974ab438dd59a72b12b4cbd8a.jpg: 384x480 1 person, 50.0ms\n",
      "image 53/70 c:\\Users\\domai\\Desktop\\PFJUPITER\\driver_detection\\Data\\datanewresult\\data2\\adda\\0952_video2_3105_jpg.rf.72529f46282f3c4d66dd748a128014a2.jpg: 384x480 1 person, 46.0ms\n",
      "image 54/70 c:\\Users\\domai\\Desktop\\PFJUPITER\\driver_detection\\Data\\datanewresult\\data2\\adda\\1059_video1_3105_jpg.rf.8ef947f277e0ae6267ceca9a9fca735a.jpg: 384x480 1 person, 48.0ms\n",
      "image 55/70 c:\\Users\\domai\\Desktop\\PFJUPITER\\driver_detection\\Data\\datanewresult\\data2\\adda\\1060_video1_3105_jpg.rf.f60c4eca0ed1b39a3f9547fde5479d88.jpg: 384x480 1 person, 47.0ms\n",
      "image 56/70 c:\\Users\\domai\\Desktop\\PFJUPITER\\driver_detection\\Data\\datanewresult\\data2\\adda\\1080_video1_jpg.rf.cddadeea7937964a5cf09364c8a180ac.jpg: 384x480 1 person, 49.0ms\n",
      "image 57/70 c:\\Users\\domai\\Desktop\\PFJUPITER\\driver_detection\\Data\\datanewresult\\data2\\adda\\1319_video1_3105_jpg.rf.061ad6626304bd3754e1582fc8b1c3aa.jpg: 384x480 1 person, 46.0ms\n",
      "image 58/70 c:\\Users\\domai\\Desktop\\PFJUPITER\\driver_detection\\Data\\datanewresult\\data2\\adda\\1345_video1_3105_jpg.rf.7bc866a67d2c759aea8c0dcc49fa122e.jpg: 384x480 1 person, 47.0ms\n",
      "image 59/70 c:\\Users\\domai\\Desktop\\PFJUPITER\\driver_detection\\Data\\datanewresult\\data2\\adda\\1355_video1_3105_jpg.rf.d0911d85977363ebe5663eb8b5be2b5e.jpg: 384x480 1 person, 52.0ms\n",
      "image 60/70 c:\\Users\\domai\\Desktop\\PFJUPITER\\driver_detection\\Data\\datanewresult\\data2\\adda\\1356_video1_3105_jpg.rf.741027a0afd1bb2ea3f08ecb94534d74.jpg: 384x480 1 person, 51.0ms\n",
      "image 61/70 c:\\Users\\domai\\Desktop\\PFJUPITER\\driver_detection\\Data\\datanewresult\\data2\\adda\\1379_video1_3105_jpg.rf.aaf18234a630220c290a12caea391f9c.jpg: 384x480 1 person, 82.0ms\n",
      "image 62/70 c:\\Users\\domai\\Desktop\\PFJUPITER\\driver_detection\\Data\\datanewresult\\data2\\adda\\1452_video2_3105_jpg.rf.706ff2d79612a3f4243e69faeb2c4f6f.jpg: 384x480 1 person, 106.0ms\n",
      "image 63/70 c:\\Users\\domai\\Desktop\\PFJUPITER\\driver_detection\\Data\\datanewresult\\data2\\adda\\1496_video2_3105_jpg.rf.a6d3d60742c99e6c818e4f59441bfb53.jpg: 384x480 1 person, 46.0ms\n",
      "image 64/70 c:\\Users\\domai\\Desktop\\PFJUPITER\\driver_detection\\Data\\datanewresult\\data2\\adda\\1510_video1_3105_jpg.rf.4ff8735ccf9b7fd886793c1560e285c3.jpg: 384x480 1 person, 44.0ms\n",
      "image 65/70 c:\\Users\\domai\\Desktop\\PFJUPITER\\driver_detection\\Data\\datanewresult\\data2\\adda\\1520_video1_3105_jpg.rf.0d6e270a04eadf48271b8c15b647e1e4.jpg: 384x480 1 person, 44.0ms\n",
      "image 66/70 c:\\Users\\domai\\Desktop\\PFJUPITER\\driver_detection\\Data\\datanewresult\\data2\\adda\\1588_video2_3105_jpg.rf.dbfdd84fa0685ddbe34c04d67d97def9.jpg: 384x480 1 person, 48.0ms\n",
      "image 67/70 c:\\Users\\domai\\Desktop\\PFJUPITER\\driver_detection\\Data\\datanewresult\\data2\\adda\\1597_video2_3105_jpg.rf.1740c268ebaa3c403c82983c1008d91c.jpg: 384x480 1 person, 47.0ms\n",
      "image 68/70 c:\\Users\\domai\\Desktop\\PFJUPITER\\driver_detection\\Data\\datanewresult\\data2\\adda\\1685_video2_jpg.rf.09218320ed1b11ae715c19f3a8351c7a.jpg: 384x480 1 person, 79.0ms\n",
      "image 69/70 c:\\Users\\domai\\Desktop\\PFJUPITER\\driver_detection\\Data\\datanewresult\\data2\\adda\\1778_video2_jpg.rf.28795f1c69781d350eaf5b62ed842519.jpg: 384x480 1 person, 71.0ms\n",
      "image 70/70 c:\\Users\\domai\\Desktop\\PFJUPITER\\driver_detection\\Data\\datanewresult\\data2\\adda\\1832_video2_jpg.rf.f7201724df285ae0f064d0f72d48bfda.jpg: 384x480 1 person, 61.0ms\n",
      "Speed: 1.0ms preprocess, 50.9ms inference, 1.7ms postprocess per image at shape (1, 3, 384, 480)\n",
      "Results saved to \u001b[1mData\\datanewresultmask\\data2\\adda\u001b[0m\n"
     ]
    }
   ],
   "source": [
    "#process_images(source_folder='./Data/datanew', destination_folder='./Data/datanewresult/')\n",
    "mask_images(source_folder='./Data/datanewresult', destination_folder='./Data/datanewresultmask/')"
   ]
  }
 ],
 "metadata": {
  "kernelspec": {
   "display_name": "venv",
   "language": "python",
   "name": "python3"
  },
  "language_info": {
   "codemirror_mode": {
    "name": "ipython",
    "version": 3
   },
   "file_extension": ".py",
   "mimetype": "text/x-python",
   "name": "python",
   "nbconvert_exporter": "python",
   "pygments_lexer": "ipython3",
   "version": "3.8.10"
  }
 },
 "nbformat": 4,
 "nbformat_minor": 2
}
