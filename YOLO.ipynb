{
 "cells": [
  {
   "cell_type": "markdown",
   "metadata": {},
   "source": [
    "Image Segmentation use: https://docs.ultralytics.com/modes/predict/#inference-sources\n",
    "\n",
    "For model Training use: https://github.com/computervisioneng/image-classification-yolov8/tree/main/local_env\n",
    "\n",
    "Hyper parameter tuning: https://docs.ultralytics.com/guides/hyperparameter-tuning/\n"
   ]
  },
  {
   "cell_type": "markdown",
   "metadata": {},
   "source": [
    "## Importing Libraries\n",
    "\n",
    "Importing the necessary libraries for the project\n",
    "\n",
    "And initializing constants\n",
    "\n",
    "```python\n",
    "\n",
    "```\n"
   ]
  },
  {
   "cell_type": "code",
   "execution_count": 3,
   "metadata": {},
   "outputs": [
    {
     "name": "stdout",
     "output_type": "stream",
     "text": [
      "Requirement already satisfied: opencv-python-headless in c:\\users\\domai\\appdata\\local\\programs\\python\\python38\\lib\\site-packages (4.8.1.78)\n",
      "Requirement already satisfied: numpy in c:\\users\\domai\\appdata\\local\\programs\\python\\python38\\lib\\site-packages (1.24.4)\n",
      "Requirement already satisfied: ultralytics in c:\\users\\domai\\appdata\\local\\programs\\python\\python38\\lib\\site-packages (8.0.207)\n",
      "Requirement already satisfied: Pillow in c:\\users\\domai\\appdata\\local\\programs\\python\\python38\\lib\\site-packages (10.1.0)\n",
      "Requirement already satisfied: requests>=2.23.0 in c:\\users\\domai\\appdata\\local\\programs\\python\\python38\\lib\\site-packages (from ultralytics) (2.31.0)\n",
      "Requirement already satisfied: py-cpuinfo in c:\\users\\domai\\appdata\\local\\programs\\python\\python38\\lib\\site-packages (from ultralytics) (9.0.0)\n",
      "Requirement already satisfied: torch>=1.8.0 in c:\\users\\domai\\appdata\\local\\programs\\python\\python38\\lib\\site-packages (from ultralytics) (2.1.0)\n",
      "Requirement already satisfied: pyyaml>=5.3.1 in c:\\users\\domai\\appdata\\local\\programs\\python\\python38\\lib\\site-packages (from ultralytics) (6.0.1)\n",
      "Requirement already satisfied: scipy>=1.4.1 in c:\\users\\domai\\appdata\\local\\programs\\python\\python38\\lib\\site-packages (from ultralytics) (1.10.1)\n",
      "Requirement already satisfied: pandas>=1.1.4 in c:\\users\\domai\\appdata\\local\\programs\\python\\python38\\lib\\site-packages (from ultralytics) (2.0.3)\n",
      "Requirement already satisfied: thop>=0.1.1 in c:\\users\\domai\\appdata\\local\\programs\\python\\python38\\lib\\site-packages (from ultralytics) (0.1.1.post2209072238)\n",
      "Requirement already satisfied: opencv-python>=4.6.0 in c:\\users\\domai\\appdata\\local\\programs\\python\\python38\\lib\\site-packages (from ultralytics) (4.8.1.78)\n",
      "Requirement already satisfied: psutil in c:\\users\\domai\\appdata\\local\\programs\\python\\python38\\lib\\site-packages (from ultralytics) (5.9.6)\n",
      "Requirement already satisfied: matplotlib>=3.3.0 in c:\\users\\domai\\appdata\\local\\programs\\python\\python38\\lib\\site-packages (from ultralytics) (3.7.3)\n",
      "Requirement already satisfied: tqdm>=4.64.0 in c:\\users\\domai\\appdata\\local\\programs\\python\\python38\\lib\\site-packages (from ultralytics) (4.66.1)\n",
      "Requirement already satisfied: seaborn>=0.11.0 in c:\\users\\domai\\appdata\\local\\programs\\python\\python38\\lib\\site-packages (from ultralytics) (0.13.0)\n",
      "Requirement already satisfied: torchvision>=0.9.0 in c:\\users\\domai\\appdata\\local\\programs\\python\\python38\\lib\\site-packages (from ultralytics) (0.16.0)\n",
      "Requirement already satisfied: cycler>=0.10 in c:\\users\\domai\\appdata\\local\\programs\\python\\python38\\lib\\site-packages (from matplotlib>=3.3.0->ultralytics) (0.12.1)\n",
      "Requirement already satisfied: python-dateutil>=2.7 in c:\\users\\domai\\appdata\\local\\programs\\python\\python38\\lib\\site-packages (from matplotlib>=3.3.0->ultralytics) (2.8.2)\n",
      "Requirement already satisfied: kiwisolver>=1.0.1 in c:\\users\\domai\\appdata\\local\\programs\\python\\python38\\lib\\site-packages (from matplotlib>=3.3.0->ultralytics) (1.4.5)\n",
      "Requirement already satisfied: importlib-resources>=3.2.0 in c:\\users\\domai\\appdata\\local\\programs\\python\\python38\\lib\\site-packages (from matplotlib>=3.3.0->ultralytics) (6.1.0)\n",
      "Requirement already satisfied: packaging>=20.0 in c:\\users\\domai\\appdata\\local\\programs\\python\\python38\\lib\\site-packages (from matplotlib>=3.3.0->ultralytics) (23.2)\n",
      "Requirement already satisfied: pyparsing>=2.3.1 in c:\\users\\domai\\appdata\\local\\programs\\python\\python38\\lib\\site-packages (from matplotlib>=3.3.0->ultralytics) (3.1.1)\n",
      "Requirement already satisfied: contourpy>=1.0.1 in c:\\users\\domai\\appdata\\local\\programs\\python\\python38\\lib\\site-packages (from matplotlib>=3.3.0->ultralytics) (1.1.1)\n",
      "Requirement already satisfied: fonttools>=4.22.0 in c:\\users\\domai\\appdata\\local\\programs\\python\\python38\\lib\\site-packages (from matplotlib>=3.3.0->ultralytics) (4.44.0)\n",
      "Requirement already satisfied: zipp>=3.1.0 in c:\\users\\domai\\appdata\\local\\programs\\python\\python38\\lib\\site-packages (from importlib-resources>=3.2.0->matplotlib>=3.3.0->ultralytics) (3.17.0)\n",
      "Requirement already satisfied: pytz>=2020.1 in c:\\users\\domai\\appdata\\local\\programs\\python\\python38\\lib\\site-packages (from pandas>=1.1.4->ultralytics) (2023.3.post1)\n",
      "Requirement already satisfied: tzdata>=2022.1 in c:\\users\\domai\\appdata\\local\\programs\\python\\python38\\lib\\site-packages (from pandas>=1.1.4->ultralytics) (2023.3)\n",
      "Requirement already satisfied: six>=1.5 in c:\\users\\domai\\appdata\\local\\programs\\python\\python38\\lib\\site-packages (from python-dateutil>=2.7->matplotlib>=3.3.0->ultralytics) (1.16.0)\n",
      "Requirement already satisfied: urllib3<3,>=1.21.1 in c:\\users\\domai\\appdata\\local\\programs\\python\\python38\\lib\\site-packages (from requests>=2.23.0->ultralytics) (2.0.7)\n",
      "Requirement already satisfied: certifi>=2017.4.17 in c:\\users\\domai\\appdata\\local\\programs\\python\\python38\\lib\\site-packages (from requests>=2.23.0->ultralytics) (2023.7.22)\n",
      "Requirement already satisfied: charset-normalizer<4,>=2 in c:\\users\\domai\\appdata\\local\\programs\\python\\python38\\lib\\site-packages (from requests>=2.23.0->ultralytics) (3.3.2)\n",
      "Requirement already satisfied: idna<4,>=2.5 in c:\\users\\domai\\appdata\\local\\programs\\python\\python38\\lib\\site-packages (from requests>=2.23.0->ultralytics) (3.4)\n",
      "Requirement already satisfied: typing-extensions in c:\\users\\domai\\appdata\\local\\programs\\python\\python38\\lib\\site-packages (from torch>=1.8.0->ultralytics) (4.8.0)\n",
      "Requirement already satisfied: sympy in c:\\users\\domai\\appdata\\local\\programs\\python\\python38\\lib\\site-packages (from torch>=1.8.0->ultralytics) (1.12)\n",
      "Requirement already satisfied: jinja2 in c:\\users\\domai\\appdata\\local\\programs\\python\\python38\\lib\\site-packages (from torch>=1.8.0->ultralytics) (3.1.2)\n",
      "Requirement already satisfied: networkx in c:\\users\\domai\\appdata\\local\\programs\\python\\python38\\lib\\site-packages (from torch>=1.8.0->ultralytics) (3.1)\n",
      "Requirement already satisfied: fsspec in c:\\users\\domai\\appdata\\local\\programs\\python\\python38\\lib\\site-packages (from torch>=1.8.0->ultralytics) (2023.10.0)\n",
      "Requirement already satisfied: filelock in c:\\users\\domai\\appdata\\local\\programs\\python\\python38\\lib\\site-packages (from torch>=1.8.0->ultralytics) (3.13.1)\n",
      "Requirement already satisfied: colorama in c:\\users\\domai\\appdata\\local\\programs\\python\\python38\\lib\\site-packages (from tqdm>=4.64.0->ultralytics) (0.4.6)\n",
      "Requirement already satisfied: MarkupSafe>=2.0 in c:\\users\\domai\\appdata\\local\\programs\\python\\python38\\lib\\site-packages (from jinja2->torch>=1.8.0->ultralytics) (2.1.3)\n",
      "Requirement already satisfied: mpmath>=0.19 in c:\\users\\domai\\appdata\\local\\programs\\python\\python38\\lib\\site-packages (from sympy->torch>=1.8.0->ultralytics) (1.3.0)\n",
      "Note: you may need to restart the kernel to use updated packages.\n"
     ]
    },
    {
     "name": "stderr",
     "output_type": "stream",
     "text": [
      "WARNING: You are using pip version 21.1.1; however, version 23.3.1 is available.\n",
      "You should consider upgrading via the 'c:\\Users\\domai\\AppData\\Local\\Programs\\Python\\Python38\\python.exe -m pip install --upgrade pip' command.\n"
     ]
    }
   ],
   "source": [
    "%pip install opencv-python-headless numpy ultralytics Pillow"
   ]
  },
  {
   "cell_type": "code",
   "execution_count": 2,
   "metadata": {},
   "outputs": [],
   "source": [
    "import cv2\n",
    "import numpy as np\n",
    "import os\n",
    "from ultralytics import YOLO\n",
    "import pandas as pd\n",
    "import matplotlib.pyplot as plt\n",
    "from PIL import Image, ImageEnhance, ImageOps"
   ]
  },
  {
   "cell_type": "code",
   "execution_count": 103,
   "metadata": {},
   "outputs": [],
   "source": [
    "### CONSTANTS\n",
    "# Image properties\n",
    "IMAGE_WIDTH = 640\n",
    "IMAGE_HEIGHT = 480\n",
    "IMAGE_CHANNELS = 3\n",
    "\n",
    "IMAGE_SIZE = (IMAGE_WIDTH, IMAGE_HEIGHT)\n",
    "\n",
    "IMAGE_EXT = ('.jpg', '.jpeg', '.png', '.bmp', '.tif', '.tiff', '.gif')\n",
    "\n",
    "\n",
    "# Director paths\n",
    "PROCESSED_DS_PATH_NM = './processed_dataset/NoMask'\n",
    "PROCESSED_DS_PATH_M = './processed_dataset/Mask'\n",
    "RAW_DS_PATH = './Data'\n",
    "\n",
    "## MODELS\n",
    "# Segmentation\n",
    "SEG_KWARGS = {\n",
    "    'classes': 0,\n",
    "    'imgsz': IMAGE_SIZE,\n",
    "    'boxes':True,\n",
    "    'save':True,\n",
    "    'show_labels':False,\n",
    "    'show_conf':True,\n",
    "    'max_det':1,\n",
    "}\n",
    "# Classification\n",
    "CLASS_KWARGS = {\n",
    "    'epochs': 20,\n",
    "    'project': './models',\n",
    "}\n",
    "MODEL_KWARGS = {\n",
    "    'save': True,\n",
    "    'project': './',\n",
    "    'name': 'tests',\n",
    "}"
   ]
  },
  {
   "cell_type": "markdown",
   "metadata": {},
   "source": [
    "## Preparig data for training\n"
   ]
  },
  {
   "cell_type": "markdown",
   "metadata": {},
   "source": [
    "### Preparing Models\n",
    "\n",
    "```python\n",
    "\n",
    "```\n"
   ]
  },
  {
   "cell_type": "code",
   "execution_count": 4,
   "metadata": {},
   "outputs": [
    {
     "name": "stderr",
     "output_type": "stream",
     "text": [
      "Downloading https://github.com/ultralytics/assets/releases/download/v0.0.0/yolov8n-seg.pt to 'yolov8n-seg.pt'...\n",
      "100%|██████████| 6.73M/6.73M [00:00<00:00, 28.9MB/s]\n",
      "Downloading https://github.com/ultralytics/assets/releases/download/v0.0.0/yolov8n-cls.pt to 'yolov8n-cls.pt'...\n",
      "100%|██████████| 5.28M/5.28M [00:00<00:00, 31.4MB/s]\n"
     ]
    }
   ],
   "source": [
    "img_seg_model = YOLO('yolov8n-seg.pt')\n",
    "img_class_model = YOLO(\"yolov8n-cls.pt\")"
   ]
  },
  {
   "cell_type": "code",
   "execution_count": 55,
   "metadata": {},
   "outputs": [
    {
     "ename": "OSError",
     "evalue": "[Errno 22] Invalid argument: 'processed_dataset\\\\Mask\\x0bal\\x06\\\\sthephany_6_0.jpg'",
     "output_type": "error",
     "traceback": [
      "\u001b[1;31m---------------------------------------------------------------------------\u001b[0m",
      "\u001b[1;31mOSError\u001b[0m                                   Traceback (most recent call last)",
      "\u001b[1;32mc:\\Users\\domai\\Desktop\\PFJUPITER\\driver_detection\\YOLO.ipynb Cell 9\u001b[0m line \u001b[0;36m1\n\u001b[1;32m----> <a href='vscode-notebook-cell:/c%3A/Users/domai/Desktop/PFJUPITER/driver_detection/YOLO.ipynb#X11sZmlsZQ%3D%3D?line=0'>1</a>\u001b[0m \u001b[39mwith\u001b[39;00m Image\u001b[39m.\u001b[39;49mopen(\u001b[39m'\u001b[39;49m\u001b[39mprocessed_dataset\u001b[39;49m\u001b[39m\\\u001b[39;49m\u001b[39mMask\u001b[39;49m\u001b[39m\\v\u001b[39;49;00m\u001b[39mal\u001b[39;49m\u001b[39m\\6\u001b[39;49;00m\u001b[39m\\\u001b[39;49m\u001b[39msthephany_6_0.jpg\u001b[39;49m\u001b[39m'\u001b[39;49m) \u001b[39mas\u001b[39;00m img:\n\u001b[0;32m      <a href='vscode-notebook-cell:/c%3A/Users/domai/Desktop/PFJUPITER/driver_detection/YOLO.ipynb#X11sZmlsZQ%3D%3D?line=1'>2</a>\u001b[0m \n\u001b[0;32m      <a href='vscode-notebook-cell:/c%3A/Users/domai/Desktop/PFJUPITER/driver_detection/YOLO.ipynb#X11sZmlsZQ%3D%3D?line=2'>3</a>\u001b[0m     \u001b[39m# add a border\u001b[39;00m\n\u001b[0;32m      <a href='vscode-notebook-cell:/c%3A/Users/domai/Desktop/PFJUPITER/driver_detection/YOLO.ipynb#X11sZmlsZQ%3D%3D?line=3'>4</a>\u001b[0m     img \u001b[39m=\u001b[39m ImageOps\u001b[39m.\u001b[39mexpand(img,border\u001b[39m=\u001b[39m\u001b[39m50\u001b[39m,fill\u001b[39m=\u001b[39m\u001b[39m'\u001b[39m\u001b[39mblack\u001b[39m\u001b[39m'\u001b[39m)\n\u001b[0;32m      <a href='vscode-notebook-cell:/c%3A/Users/domai/Desktop/PFJUPITER/driver_detection/YOLO.ipynb#X11sZmlsZQ%3D%3D?line=5'>6</a>\u001b[0m     \u001b[39m# Enhancing the sharpness\u001b[39;00m\n",
      "File \u001b[1;32mc:\\Users\\domai\\AppData\\Local\\Programs\\Python\\Python38\\lib\\site-packages\\PIL\\Image.py:3243\u001b[0m, in \u001b[0;36mopen\u001b[1;34m(fp, mode, formats)\u001b[0m\n\u001b[0;32m   3240\u001b[0m     filename \u001b[39m=\u001b[39m fp\n\u001b[0;32m   3242\u001b[0m \u001b[39mif\u001b[39;00m filename:\n\u001b[1;32m-> 3243\u001b[0m     fp \u001b[39m=\u001b[39m builtins\u001b[39m.\u001b[39;49mopen(filename, \u001b[39m\"\u001b[39;49m\u001b[39mrb\u001b[39;49m\u001b[39m\"\u001b[39;49m)\n\u001b[0;32m   3244\u001b[0m     exclusive_fp \u001b[39m=\u001b[39m \u001b[39mTrue\u001b[39;00m\n\u001b[0;32m   3246\u001b[0m \u001b[39mtry\u001b[39;00m:\n",
      "\u001b[1;31mOSError\u001b[0m: [Errno 22] Invalid argument: 'processed_dataset\\\\Mask\\x0bal\\x06\\\\sthephany_6_0.jpg'"
     ]
    }
   ],
   "source": [
    "with Image.open('processed_dataset\\Mask\\val\\6\\sthephany_6_0.jpg') as img:\n",
    "\n",
    "    # add a border\n",
    "    img = ImageOps.expand(img,border=50,fill='black')\n",
    "\n",
    "    # Enhancing the sharpness\n",
    "    enhancer = ImageEnhance.Sharpness(img)\n",
    "    enhanced_img = enhancer.enhance(7)\n",
    "    \n",
    "    \n",
    "    # Save it to a new file\n",
    "    enhanced_img.save('./result.jpg')"
   ]
  },
  {
   "cell_type": "code",
   "execution_count": 85,
   "metadata": {},
   "outputs": [
    {
     "name": "stderr",
     "output_type": "stream",
     "text": [
      "\n"
     ]
    },
    {
     "ename": "FileNotFoundError",
     "evalue": "./result.jpg does not exist",
     "output_type": "error",
     "traceback": [
      "\u001b[1;31m---------------------------------------------------------------------------\u001b[0m",
      "\u001b[1;31mFileNotFoundError\u001b[0m                         Traceback (most recent call last)",
      "\u001b[1;32mc:\\Users\\domai\\Desktop\\PFJUPITER\\driver_detection\\YOLO.ipynb Cell 10\u001b[0m line \u001b[0;36m1\n\u001b[1;32m----> <a href='vscode-notebook-cell:/c%3A/Users/domai/Desktop/PFJUPITER/driver_detection/YOLO.ipynb#X12sZmlsZQ%3D%3D?line=0'>1</a>\u001b[0m img_seg_model(\u001b[39m'\u001b[39;49m\u001b[39m./result.jpg\u001b[39;49m\u001b[39m'\u001b[39;49m, \u001b[39m*\u001b[39;49m\u001b[39m*\u001b[39;49mSEG_KWARGS)\n",
      "File \u001b[1;32mc:\\Users\\domai\\AppData\\Local\\Programs\\Python\\Python38\\lib\\site-packages\\ultralytics\\engine\\model.py:98\u001b[0m, in \u001b[0;36mModel.__call__\u001b[1;34m(self, source, stream, **kwargs)\u001b[0m\n\u001b[0;32m     96\u001b[0m \u001b[39mdef\u001b[39;00m \u001b[39m__call__\u001b[39m(\u001b[39mself\u001b[39m, source\u001b[39m=\u001b[39m\u001b[39mNone\u001b[39;00m, stream\u001b[39m=\u001b[39m\u001b[39mFalse\u001b[39;00m, \u001b[39m*\u001b[39m\u001b[39m*\u001b[39mkwargs):\n\u001b[0;32m     97\u001b[0m \u001b[39m    \u001b[39m\u001b[39m\"\"\"Calls the 'predict' function with given arguments to perform object detection.\"\"\"\u001b[39;00m\n\u001b[1;32m---> 98\u001b[0m     \u001b[39mreturn\u001b[39;00m \u001b[39mself\u001b[39;49m\u001b[39m.\u001b[39;49mpredict(source, stream, \u001b[39m*\u001b[39;49m\u001b[39m*\u001b[39;49mkwargs)\n",
      "File \u001b[1;32mc:\\Users\\domai\\AppData\\Local\\Programs\\Python\\Python38\\lib\\site-packages\\ultralytics\\engine\\model.py:239\u001b[0m, in \u001b[0;36mModel.predict\u001b[1;34m(self, source, stream, predictor, **kwargs)\u001b[0m\n\u001b[0;32m    237\u001b[0m \u001b[39mif\u001b[39;00m prompts \u001b[39mand\u001b[39;00m \u001b[39mhasattr\u001b[39m(\u001b[39mself\u001b[39m\u001b[39m.\u001b[39mpredictor, \u001b[39m'\u001b[39m\u001b[39mset_prompts\u001b[39m\u001b[39m'\u001b[39m):  \u001b[39m# for SAM-type models\u001b[39;00m\n\u001b[0;32m    238\u001b[0m     \u001b[39mself\u001b[39m\u001b[39m.\u001b[39mpredictor\u001b[39m.\u001b[39mset_prompts(prompts)\n\u001b[1;32m--> 239\u001b[0m \u001b[39mreturn\u001b[39;00m \u001b[39mself\u001b[39m\u001b[39m.\u001b[39mpredictor\u001b[39m.\u001b[39mpredict_cli(source\u001b[39m=\u001b[39msource) \u001b[39mif\u001b[39;00m is_cli \u001b[39melse\u001b[39;00m \u001b[39mself\u001b[39;49m\u001b[39m.\u001b[39;49mpredictor(source\u001b[39m=\u001b[39;49msource, stream\u001b[39m=\u001b[39;49mstream)\n",
      "File \u001b[1;32mc:\\Users\\domai\\AppData\\Local\\Programs\\Python\\Python38\\lib\\site-packages\\ultralytics\\engine\\predictor.py:196\u001b[0m, in \u001b[0;36mBasePredictor.__call__\u001b[1;34m(self, source, model, stream, *args, **kwargs)\u001b[0m\n\u001b[0;32m    194\u001b[0m     \u001b[39mreturn\u001b[39;00m \u001b[39mself\u001b[39m\u001b[39m.\u001b[39mstream_inference(source, model, \u001b[39m*\u001b[39margs, \u001b[39m*\u001b[39m\u001b[39m*\u001b[39mkwargs)\n\u001b[0;32m    195\u001b[0m \u001b[39melse\u001b[39;00m:\n\u001b[1;32m--> 196\u001b[0m     \u001b[39mreturn\u001b[39;00m \u001b[39mlist\u001b[39;49m(\u001b[39mself\u001b[39;49m\u001b[39m.\u001b[39;49mstream_inference(source, model, \u001b[39m*\u001b[39;49margs, \u001b[39m*\u001b[39;49m\u001b[39m*\u001b[39;49mkwargs))\n",
      "File \u001b[1;32mc:\\Users\\domai\\AppData\\Local\\Programs\\Python\\Python38\\lib\\site-packages\\torch\\utils\\_contextlib.py:35\u001b[0m, in \u001b[0;36m_wrap_generator.<locals>.generator_context\u001b[1;34m(*args, **kwargs)\u001b[0m\n\u001b[0;32m     32\u001b[0m \u001b[39mtry\u001b[39;00m:\n\u001b[0;32m     33\u001b[0m     \u001b[39m# Issuing `None` to a generator fires it up\u001b[39;00m\n\u001b[0;32m     34\u001b[0m     \u001b[39mwith\u001b[39;00m ctx_factory():\n\u001b[1;32m---> 35\u001b[0m         response \u001b[39m=\u001b[39m gen\u001b[39m.\u001b[39;49msend(\u001b[39mNone\u001b[39;49;00m)\n\u001b[0;32m     37\u001b[0m     \u001b[39mwhile\u001b[39;00m \u001b[39mTrue\u001b[39;00m:\n\u001b[0;32m     38\u001b[0m         \u001b[39mtry\u001b[39;00m:\n\u001b[0;32m     39\u001b[0m             \u001b[39m# Forward the response to our caller and get its next request\u001b[39;00m\n",
      "File \u001b[1;32mc:\\Users\\domai\\AppData\\Local\\Programs\\Python\\Python38\\lib\\site-packages\\ultralytics\\engine\\predictor.py:235\u001b[0m, in \u001b[0;36mBasePredictor.stream_inference\u001b[1;34m(self, source, model, *args, **kwargs)\u001b[0m\n\u001b[0;32m    232\u001b[0m     \u001b[39mself\u001b[39m\u001b[39m.\u001b[39msetup_model(model)\n\u001b[0;32m    234\u001b[0m \u001b[39m# Setup source every time predict is called\u001b[39;00m\n\u001b[1;32m--> 235\u001b[0m \u001b[39mself\u001b[39;49m\u001b[39m.\u001b[39;49msetup_source(source \u001b[39mif\u001b[39;49;00m source \u001b[39mis\u001b[39;49;00m \u001b[39mnot\u001b[39;49;00m \u001b[39mNone\u001b[39;49;00m \u001b[39melse\u001b[39;49;00m \u001b[39mself\u001b[39;49m\u001b[39m.\u001b[39;49margs\u001b[39m.\u001b[39;49msource)\n\u001b[0;32m    237\u001b[0m \u001b[39m# Check if save_dir/ label file exists\u001b[39;00m\n\u001b[0;32m    238\u001b[0m \u001b[39mif\u001b[39;00m \u001b[39mself\u001b[39m\u001b[39m.\u001b[39margs\u001b[39m.\u001b[39msave \u001b[39mor\u001b[39;00m \u001b[39mself\u001b[39m\u001b[39m.\u001b[39margs\u001b[39m.\u001b[39msave_txt:\n",
      "File \u001b[1;32mc:\\Users\\domai\\AppData\\Local\\Programs\\Python\\Python38\\lib\\site-packages\\ultralytics\\engine\\predictor.py:213\u001b[0m, in \u001b[0;36mBasePredictor.setup_source\u001b[1;34m(self, source)\u001b[0m\n\u001b[0;32m    210\u001b[0m \u001b[39mself\u001b[39m\u001b[39m.\u001b[39mimgsz \u001b[39m=\u001b[39m check_imgsz(\u001b[39mself\u001b[39m\u001b[39m.\u001b[39margs\u001b[39m.\u001b[39mimgsz, stride\u001b[39m=\u001b[39m\u001b[39mself\u001b[39m\u001b[39m.\u001b[39mmodel\u001b[39m.\u001b[39mstride, min_dim\u001b[39m=\u001b[39m\u001b[39m2\u001b[39m)  \u001b[39m# check image size\u001b[39;00m\n\u001b[0;32m    211\u001b[0m \u001b[39mself\u001b[39m\u001b[39m.\u001b[39mtransforms \u001b[39m=\u001b[39m \u001b[39mgetattr\u001b[39m(\u001b[39mself\u001b[39m\u001b[39m.\u001b[39mmodel\u001b[39m.\u001b[39mmodel, \u001b[39m'\u001b[39m\u001b[39mtransforms\u001b[39m\u001b[39m'\u001b[39m, classify_transforms(\n\u001b[0;32m    212\u001b[0m     \u001b[39mself\u001b[39m\u001b[39m.\u001b[39mimgsz[\u001b[39m0\u001b[39m])) \u001b[39mif\u001b[39;00m \u001b[39mself\u001b[39m\u001b[39m.\u001b[39margs\u001b[39m.\u001b[39mtask \u001b[39m==\u001b[39m \u001b[39m'\u001b[39m\u001b[39mclassify\u001b[39m\u001b[39m'\u001b[39m \u001b[39melse\u001b[39;00m \u001b[39mNone\u001b[39;00m\n\u001b[1;32m--> 213\u001b[0m \u001b[39mself\u001b[39m\u001b[39m.\u001b[39mdataset \u001b[39m=\u001b[39m load_inference_source(source\u001b[39m=\u001b[39;49msource,\n\u001b[0;32m    214\u001b[0m                                      imgsz\u001b[39m=\u001b[39;49m\u001b[39mself\u001b[39;49m\u001b[39m.\u001b[39;49mimgsz,\n\u001b[0;32m    215\u001b[0m                                      vid_stride\u001b[39m=\u001b[39;49m\u001b[39mself\u001b[39;49m\u001b[39m.\u001b[39;49margs\u001b[39m.\u001b[39;49mvid_stride,\n\u001b[0;32m    216\u001b[0m                                      buffer\u001b[39m=\u001b[39;49m\u001b[39mself\u001b[39;49m\u001b[39m.\u001b[39;49margs\u001b[39m.\u001b[39;49mstream_buffer)\n\u001b[0;32m    217\u001b[0m \u001b[39mself\u001b[39m\u001b[39m.\u001b[39msource_type \u001b[39m=\u001b[39m \u001b[39mself\u001b[39m\u001b[39m.\u001b[39mdataset\u001b[39m.\u001b[39msource_type\n\u001b[0;32m    218\u001b[0m \u001b[39mif\u001b[39;00m \u001b[39mnot\u001b[39;00m \u001b[39mgetattr\u001b[39m(\u001b[39mself\u001b[39m, \u001b[39m'\u001b[39m\u001b[39mstream\u001b[39m\u001b[39m'\u001b[39m, \u001b[39mTrue\u001b[39;00m) \u001b[39mand\u001b[39;00m (\u001b[39mself\u001b[39m\u001b[39m.\u001b[39mdataset\u001b[39m.\u001b[39mmode \u001b[39m==\u001b[39m \u001b[39m'\u001b[39m\u001b[39mstream\u001b[39m\u001b[39m'\u001b[39m \u001b[39mor\u001b[39;00m  \u001b[39m# streams\u001b[39;00m\n\u001b[0;32m    219\u001b[0m                                           \u001b[39mlen\u001b[39m(\u001b[39mself\u001b[39m\u001b[39m.\u001b[39mdataset) \u001b[39m>\u001b[39m \u001b[39m1000\u001b[39m \u001b[39mor\u001b[39;00m  \u001b[39m# images\u001b[39;00m\n\u001b[0;32m    220\u001b[0m                                           \u001b[39many\u001b[39m(\u001b[39mgetattr\u001b[39m(\u001b[39mself\u001b[39m\u001b[39m.\u001b[39mdataset, \u001b[39m'\u001b[39m\u001b[39mvideo_flag\u001b[39m\u001b[39m'\u001b[39m, [\u001b[39mFalse\u001b[39;00m]))):  \u001b[39m# videos\u001b[39;00m\n",
      "File \u001b[1;32mc:\\Users\\domai\\AppData\\Local\\Programs\\Python\\Python38\\lib\\site-packages\\ultralytics\\data\\build.py:172\u001b[0m, in \u001b[0;36mload_inference_source\u001b[1;34m(source, imgsz, vid_stride, buffer)\u001b[0m\n\u001b[0;32m    170\u001b[0m     dataset \u001b[39m=\u001b[39m LoadPilAndNumpy(source, imgsz\u001b[39m=\u001b[39mimgsz)\n\u001b[0;32m    171\u001b[0m \u001b[39melse\u001b[39;00m:\n\u001b[1;32m--> 172\u001b[0m     dataset \u001b[39m=\u001b[39m LoadImages(source, imgsz\u001b[39m=\u001b[39;49mimgsz, vid_stride\u001b[39m=\u001b[39;49mvid_stride)\n\u001b[0;32m    174\u001b[0m \u001b[39m# Attach source types to the dataset\u001b[39;00m\n\u001b[0;32m    175\u001b[0m \u001b[39msetattr\u001b[39m(dataset, \u001b[39m'\u001b[39m\u001b[39msource_type\u001b[39m\u001b[39m'\u001b[39m, source_type)\n",
      "File \u001b[1;32mc:\\Users\\domai\\AppData\\Local\\Programs\\Python\\Python38\\lib\\site-packages\\ultralytics\\data\\loaders.py:287\u001b[0m, in \u001b[0;36mLoadImages.__init__\u001b[1;34m(self, path, imgsz, vid_stride)\u001b[0m\n\u001b[0;32m    285\u001b[0m         files\u001b[39m.\u001b[39mappend(\u001b[39mstr\u001b[39m((parent \u001b[39m/\u001b[39m p)\u001b[39m.\u001b[39mabsolute()))  \u001b[39m# files (relative to *.txt file parent)\u001b[39;00m\n\u001b[0;32m    286\u001b[0m     \u001b[39melse\u001b[39;00m:\n\u001b[1;32m--> 287\u001b[0m         \u001b[39mraise\u001b[39;00m \u001b[39mFileNotFoundError\u001b[39;00m(\u001b[39mf\u001b[39m\u001b[39m'\u001b[39m\u001b[39m{\u001b[39;00mp\u001b[39m}\u001b[39;00m\u001b[39m does not exist\u001b[39m\u001b[39m'\u001b[39m)\n\u001b[0;32m    289\u001b[0m images \u001b[39m=\u001b[39m [x \u001b[39mfor\u001b[39;00m x \u001b[39min\u001b[39;00m files \u001b[39mif\u001b[39;00m x\u001b[39m.\u001b[39msplit(\u001b[39m'\u001b[39m\u001b[39m.\u001b[39m\u001b[39m'\u001b[39m)[\u001b[39m-\u001b[39m\u001b[39m1\u001b[39m]\u001b[39m.\u001b[39mlower() \u001b[39min\u001b[39;00m IMG_FORMATS]\n\u001b[0;32m    290\u001b[0m videos \u001b[39m=\u001b[39m [x \u001b[39mfor\u001b[39;00m x \u001b[39min\u001b[39;00m files \u001b[39mif\u001b[39;00m x\u001b[39m.\u001b[39msplit(\u001b[39m'\u001b[39m\u001b[39m.\u001b[39m\u001b[39m'\u001b[39m)[\u001b[39m-\u001b[39m\u001b[39m1\u001b[39m]\u001b[39m.\u001b[39mlower() \u001b[39min\u001b[39;00m VID_FORMATS]\n",
      "\u001b[1;31mFileNotFoundError\u001b[0m: ./result.jpg does not exist"
     ]
    }
   ],
   "source": [
    "img_seg_model('./result.jpg', **SEG_KWARGS)"
   ]
  },
  {
   "cell_type": "markdown",
   "metadata": {},
   "source": [
    "### Preparing dataset\n",
    "\n",
    "```python\n",
    "\n",
    "```\n"
   ]
  },
  {
   "cell_type": "code",
   "execution_count": 86,
   "metadata": {},
   "outputs": [],
   "source": [
    "def process_images(\n",
    "        source_folder=RAW_DS_PATH, \n",
    "        destination_folder=PROCESSED_DS_PATH_NM, \n",
    "        grayscale=True, \n",
    "        resize=True,\n",
    "        resize_dimensions=IMAGE_SIZE):\n",
    "    if not os.path.exists(source_folder):\n",
    "        print(f\"Source folder does not exist: {source_folder}\")\n",
    "        return\n",
    "    if os.path.exists(destination_folder):\n",
    "        print(f\"Destination folder already exists: {destination_folder}\")\n",
    "        return\n",
    "\n",
    "    os.makedirs(destination_folder, exist_ok=True)\n",
    "\n",
    "    for subdir, dirs, files in os.walk(source_folder):\n",
    "        for file in files:\n",
    "            if file.lower().endswith(IMAGE_EXT):\n",
    "                source_path = os.path.join(subdir, file)\n",
    "                relative_path = os.path.relpath(subdir, source_folder)\n",
    "                destination_subdir = os.path.join(destination_folder, relative_path)\n",
    "                os.makedirs(destination_subdir, exist_ok=True)\n",
    "\n",
    "                destination_path = os.path.join(destination_subdir, file)\n",
    "\n",
    "                image = cv2.imread(source_path)\n",
    "                if image is None:\n",
    "                    print(f\"Unable to read image: {source_path}\")\n",
    "                    continue\n",
    "\n",
    "                if grayscale:\n",
    "                    image = cv2.cvtColor(image, cv2.COLOR_BGR2GRAY)\n",
    "\n",
    "                if resize:\n",
    "                    image = cv2.resize(image, resize_dimensions)\n",
    "\n",
    "                cv2.imwrite(destination_path, image)"
   ]
  },
  {
   "cell_type": "code",
   "execution_count": 123,
   "metadata": {},
   "outputs": [],
   "source": [
    "def mask_images(\n",
    "        source_folder = PROCESSED_DS_PATH_NM,\n",
    "        destination_folder=PROCESSED_DS_PATH_M):\n",
    "    \n",
    "    if not os.path.exists(source_folder):\n",
    "        print(f\"Source folder does not exist: {source_folder}\")\n",
    "        return\n",
    "    if os.path.exists(destination_folder):\n",
    "        print(f\"Destination folder already exists: {destination_folder}\")\n",
    "        return\n",
    "\n",
    "    root_path_length = len(source_folder) + len(os.path.sep)\n",
    "\n",
    "    # Set comprehension to get only directories at depth 2\n",
    "    subdirs = {subdir[root_path_length:] for subdir, dirs, files in os.walk(source_folder)\n",
    "               if subdir.count(os.path.sep) == 2}\n",
    "    \n",
    "    for subdir in subdirs:\n",
    "        img_folder = os.path.join(source_folder, subdir)\n",
    "        print(img_folder)\n",
    "        img_seg_model(img_folder, project=destination_folder, name=subdir, **SEG_KWARGS)\n",
    "    "
   ]
  },
  {
   "cell_type": "code",
   "execution_count": 88,
   "metadata": {},
   "outputs": [],
   "source": [
    "process_images()"
   ]
  },
  {
   "cell_type": "code",
   "execution_count": 104,
   "metadata": {},
   "outputs": [
    {
     "data": {
      "text/plain": [
       "{'classes': 0,\n",
       " 'imgsz': (640, 480),\n",
       " 'boxes': True,\n",
       " 'save': True,\n",
       " 'show_labels': False,\n",
       " 'show_conf': True,\n",
       " 'max_det': 1}"
      ]
     },
     "execution_count": 104,
     "metadata": {},
     "output_type": "execute_result"
    }
   ],
   "source": [
    "SEG_KWARGS"
   ]
  },
  {
   "cell_type": "code",
   "execution_count": 105,
   "metadata": {},
   "outputs": [
    {
     "name": "stdout",
     "output_type": "stream",
     "text": [
      "Destination folder already exists: ./processed_dataset/Mask\n"
     ]
    }
   ],
   "source": [
    "mask_images()"
   ]
  },
  {
   "cell_type": "markdown",
   "metadata": {},
   "source": [
    "## Training\n",
    "\n",
    "```python\n",
    "\n",
    "```\n"
   ]
  },
  {
   "cell_type": "code",
   "execution_count": 106,
   "metadata": {},
   "outputs": [
    {
     "name": "stderr",
     "output_type": "stream",
     "text": [
      "Ultralytics YOLOv8.0.207  Python-3.8.10 torch-2.1.0+cpu CPU (AMD Ryzen 5 5600 6-Core Processor)\n",
      "\u001b[34m\u001b[1mengine\\trainer: \u001b[0mtask=classify, mode=train, model=yolov8n-cls.pt, data=./processed_dataset/Mask, epochs=20, patience=50, batch=16, imgsz=224, save=True, save_period=-1, cache=False, device=None, workers=0, project=./models, name=2, exist_ok=False, pretrained=True, optimizer=auto, verbose=True, seed=0, deterministic=True, single_cls=False, rect=False, cos_lr=False, close_mosaic=10, resume=False, amp=True, fraction=1.0, profile=False, freeze=None, overlap_mask=True, mask_ratio=4, dropout=0.0, val=True, split=val, save_json=False, save_hybrid=False, conf=None, iou=0.7, max_det=300, half=False, dnn=False, plots=True, source=None, show=False, save_txt=False, save_conf=False, save_crop=False, show_labels=True, show_conf=True, vid_stride=1, stream_buffer=False, line_width=None, visualize=False, augment=False, agnostic_nms=False, classes=None, retina_masks=False, boxes=True, format=torchscript, keras=False, optimize=False, int8=False, dynamic=False, simplify=False, opset=None, workspace=4, nms=False, lr0=0.01, lrf=0.01, momentum=0.937, weight_decay=0.0005, warmup_epochs=3.0, warmup_momentum=0.8, warmup_bias_lr=0.0, box=7.5, cls=0.5, dfl=1.5, pose=12.0, kobj=1.0, label_smoothing=0.0, nbs=64, hsv_h=0.015, hsv_s=0.7, hsv_v=0.4, degrees=0.0, translate=0.1, scale=0.5, shear=0.0, perspective=0.0, flipud=0.0, fliplr=0.5, mosaic=1.0, mixup=0.0, copy_paste=0.0, cfg=None, tracker=botsort.yaml, save_dir=models\\2\n",
      "\u001b[34m\u001b[1mtrain:\u001b[0m C:\\Users\\domai\\Desktop\\PFJUPITER\\driver_detection\\processed_dataset\\Mask\\train... found 6336 images in 7 classes  \n",
      "\u001b[34m\u001b[1mval:\u001b[0m C:\\Users\\domai\\Desktop\\PFJUPITER\\driver_detection\\processed_dataset\\Mask\\val... found 225 images in 7 classes  \n",
      "\u001b[34m\u001b[1mtest:\u001b[0m None...\n",
      "Overriding model.yaml nc=6 with nc=7\n",
      "\n",
      "                   from  n    params  module                                       arguments                     \n",
      "  0                  -1  1       464  ultralytics.nn.modules.conv.Conv             [3, 16, 3, 2]                 \n",
      "  1                  -1  1      4672  ultralytics.nn.modules.conv.Conv             [16, 32, 3, 2]                \n",
      "  2                  -1  1      7360  ultralytics.nn.modules.block.C2f             [32, 32, 1, True]             \n",
      "  3                  -1  1     18560  ultralytics.nn.modules.conv.Conv             [32, 64, 3, 2]                \n",
      "  4                  -1  2     49664  ultralytics.nn.modules.block.C2f             [64, 64, 2, True]             \n",
      "  5                  -1  1     73984  ultralytics.nn.modules.conv.Conv             [64, 128, 3, 2]               \n",
      "  6                  -1  2    197632  ultralytics.nn.modules.block.C2f             [128, 128, 2, True]           \n",
      "  7                  -1  1    295424  ultralytics.nn.modules.conv.Conv             [128, 256, 3, 2]              \n",
      "  8                  -1  1    460288  ultralytics.nn.modules.block.C2f             [256, 256, 1, True]           \n",
      "  9                  -1  1    339207  ultralytics.nn.modules.head.Classify         [256, 7]                      \n",
      "YOLOv8n-cls summary: 99 layers, 1447255 parameters, 1447255 gradients, 3.4 GFLOPs\n",
      "Transferred 156/158 items from pretrained weights\n",
      "\u001b[34m\u001b[1mtrain: \u001b[0mScanning C:\\Users\\domai\\Desktop\\PFJUPITER\\driver_detection\\processed_dataset\\Mask\\train... 6336 images, 0 corrupt: 100%|██████████| 6336/6336 [00:03<00:00, 2033.38it/s]\n",
      "\u001b[34m\u001b[1mtrain: \u001b[0mNew cache created: C:\\Users\\domai\\Desktop\\PFJUPITER\\driver_detection\\processed_dataset\\Mask\\train.cache\n",
      "\u001b[34m\u001b[1mval: \u001b[0mScanning C:\\Users\\domai\\Desktop\\PFJUPITER\\driver_detection\\processed_dataset\\Mask\\val... 225 images, 0 corrupt: 100%|██████████| 225/225 [00:00<00:00, 2102.77it/s]\n",
      "\u001b[34m\u001b[1mval: \u001b[0mNew cache created: C:\\Users\\domai\\Desktop\\PFJUPITER\\driver_detection\\processed_dataset\\Mask\\val.cache\n",
      "\u001b[34m\u001b[1moptimizer:\u001b[0m 'optimizer=auto' found, ignoring 'lr0=0.01' and 'momentum=0.937' and determining best 'optimizer', 'lr0' and 'momentum' automatically... \n",
      "\u001b[34m\u001b[1moptimizer:\u001b[0m AdamW(lr=0.000714, momentum=0.9) with parameter groups 26 weight(decay=0.0), 27 weight(decay=0.0005), 27 bias(decay=0.0)\n",
      "Image sizes 224 train, 224 val\n",
      "Using 0 dataloader workers\n",
      "Logging results to \u001b[1mmodels\\2\u001b[0m\n",
      "Starting training for 20 epochs...\n",
      "\n",
      "      Epoch    GPU_mem       loss  Instances       Size\n",
      "       1/20         0G    0.02743         16        224: 100%|██████████| 396/396 [01:28<00:00,  4.49it/s]\n",
      "               classes   top1_acc   top5_acc: 100%|██████████| 8/8 [00:01<00:00,  5.51it/s]\n",
      "                   all       0.32      0.893\n",
      "\n",
      "      Epoch    GPU_mem       loss  Instances       Size\n",
      "       2/20         0G    0.01371         16        224: 100%|██████████| 396/396 [01:26<00:00,  4.57it/s]\n",
      "               classes   top1_acc   top5_acc: 100%|██████████| 8/8 [00:01<00:00,  5.54it/s]\n",
      "                   all      0.302      0.862\n",
      "\n",
      "      Epoch    GPU_mem       loss  Instances       Size\n",
      "       3/20         0G    0.01699         16        224: 100%|██████████| 396/396 [01:26<00:00,  4.60it/s]\n",
      "               classes   top1_acc   top5_acc: 100%|██████████| 8/8 [00:01<00:00,  5.59it/s]\n",
      "                   all      0.307       0.88\n",
      "\n",
      "      Epoch    GPU_mem       loss  Instances       Size\n",
      "       4/20         0G    0.01905         16        224: 100%|██████████| 396/396 [01:25<00:00,  4.61it/s]\n",
      "               classes   top1_acc   top5_acc: 100%|██████████| 8/8 [00:01<00:00,  5.58it/s]\n",
      "                   all      0.404      0.831\n",
      "\n",
      "      Epoch    GPU_mem       loss  Instances       Size\n",
      "       5/20         0G   0.008822         16        224: 100%|██████████| 396/396 [01:25<00:00,  4.61it/s]\n",
      "               classes   top1_acc   top5_acc: 100%|██████████| 8/8 [00:01<00:00,  5.59it/s]\n",
      "                   all      0.338      0.849\n",
      "\n",
      "      Epoch    GPU_mem       loss  Instances       Size\n",
      "       6/20         0G   0.006494         16        224: 100%|██████████| 396/396 [01:26<00:00,  4.60it/s]\n",
      "               classes   top1_acc   top5_acc: 100%|██████████| 8/8 [00:01<00:00,  5.61it/s]\n",
      "                   all      0.364      0.862\n",
      "\n",
      "      Epoch    GPU_mem       loss  Instances       Size\n",
      "       7/20         0G    0.00532         16        224: 100%|██████████| 396/396 [01:26<00:00,  4.59it/s]\n",
      "               classes   top1_acc   top5_acc: 100%|██████████| 8/8 [00:01<00:00,  5.60it/s]\n",
      "                   all      0.347      0.876\n",
      "\n",
      "      Epoch    GPU_mem       loss  Instances       Size\n",
      "       8/20         0G   0.004124         16        224: 100%|██████████| 396/396 [01:26<00:00,  4.60it/s]\n",
      "               classes   top1_acc   top5_acc: 100%|██████████| 8/8 [00:01<00:00,  5.50it/s]\n",
      "                   all      0.351      0.858\n",
      "\n",
      "      Epoch    GPU_mem       loss  Instances       Size\n",
      "       9/20         0G   0.005434         16        224: 100%|██████████| 396/396 [01:26<00:00,  4.58it/s]\n",
      "               classes   top1_acc   top5_acc: 100%|██████████| 8/8 [00:01<00:00,  5.44it/s]\n",
      "                   all      0.387       0.84\n",
      "\n",
      "      Epoch    GPU_mem       loss  Instances       Size\n",
      "      10/20         0G   0.005204         16        224: 100%|██████████| 396/396 [01:25<00:00,  4.62it/s]\n",
      "               classes   top1_acc   top5_acc: 100%|██████████| 8/8 [00:01<00:00,  5.65it/s]\n",
      "                   all      0.338      0.876\n",
      "\n",
      "      Epoch    GPU_mem       loss  Instances       Size\n",
      "      11/20         0G   0.004596         16        224: 100%|██████████| 396/396 [01:25<00:00,  4.63it/s]\n",
      "               classes   top1_acc   top5_acc: 100%|██████████| 8/8 [00:01<00:00,  5.63it/s]\n",
      "                   all      0.284      0.836\n",
      "\n",
      "      Epoch    GPU_mem       loss  Instances       Size\n",
      "      12/20         0G    0.00411         16        224: 100%|██████████| 396/396 [01:25<00:00,  4.62it/s]\n",
      "               classes   top1_acc   top5_acc: 100%|██████████| 8/8 [00:01<00:00,  5.64it/s]\n",
      "                   all      0.284      0.844\n",
      "\n",
      "      Epoch    GPU_mem       loss  Instances       Size\n",
      "      13/20         0G   0.003478         16        224: 100%|██████████| 396/396 [01:25<00:00,  4.62it/s]\n",
      "               classes   top1_acc   top5_acc: 100%|██████████| 8/8 [00:01<00:00,  5.60it/s]\n",
      "                   all      0.298      0.853\n",
      "\n",
      "      Epoch    GPU_mem       loss  Instances       Size\n",
      "      14/20         0G   0.003366         16        224: 100%|██████████| 396/396 [01:25<00:00,  4.62it/s]\n",
      "               classes   top1_acc   top5_acc: 100%|██████████| 8/8 [00:01<00:00,  5.39it/s]\n",
      "                   all      0.293      0.867\n",
      "\n",
      "      Epoch    GPU_mem       loss  Instances       Size\n",
      "      15/20         0G   0.003295         16        224: 100%|██████████| 396/396 [01:25<00:00,  4.62it/s]\n",
      "               classes   top1_acc   top5_acc: 100%|██████████| 8/8 [00:01<00:00,  5.44it/s]\n",
      "                   all      0.351      0.871\n",
      "\n",
      "      Epoch    GPU_mem       loss  Instances       Size\n",
      "      16/20         0G   0.003034         16        224: 100%|██████████| 396/396 [01:26<00:00,  4.59it/s]\n",
      "               classes   top1_acc   top5_acc: 100%|██████████| 8/8 [00:01<00:00,  5.66it/s]\n",
      "                   all       0.32       0.88\n",
      "\n",
      "      Epoch    GPU_mem       loss  Instances       Size\n",
      "      17/20         0G   0.002994         16        224: 100%|██████████| 396/396 [01:25<00:00,  4.63it/s]\n",
      "               classes   top1_acc   top5_acc: 100%|██████████| 8/8 [00:01<00:00,  5.58it/s]\n",
      "                   all      0.342      0.871\n",
      "\n",
      "      Epoch    GPU_mem       loss  Instances       Size\n",
      "      18/20         0G   0.002937         16        224: 100%|██████████| 396/396 [01:25<00:00,  4.62it/s]\n",
      "               classes   top1_acc   top5_acc: 100%|██████████| 8/8 [00:01<00:00,  5.57it/s]\n",
      "                   all      0.333      0.858\n",
      "\n",
      "      Epoch    GPU_mem       loss  Instances       Size\n",
      "      19/20         0G   0.002839         16        224: 100%|██████████| 396/396 [01:25<00:00,  4.62it/s]\n",
      "               classes   top1_acc   top5_acc: 100%|██████████| 8/8 [00:01<00:00,  5.67it/s]\n",
      "                   all      0.351      0.862\n",
      "\n",
      "      Epoch    GPU_mem       loss  Instances       Size\n",
      "      20/20         0G   0.002695         16        224: 100%|██████████| 396/396 [01:27<00:00,  4.54it/s]\n",
      "               classes   top1_acc   top5_acc: 100%|██████████| 8/8 [00:01<00:00,  5.52it/s]\n",
      "                   all      0.338      0.849\n",
      "\n",
      "20 epochs completed in 0.487 hours.\n",
      "Optimizer stripped from models\\2\\weights\\last.pt, 3.0MB\n",
      "Optimizer stripped from models\\2\\weights\\best.pt, 3.0MB\n",
      "\n",
      "Validating models\\2\\weights\\best.pt...\n",
      "Ultralytics YOLOv8.0.207  Python-3.8.10 torch-2.1.0+cpu CPU (AMD Ryzen 5 5600 6-Core Processor)\n",
      "YOLOv8n-cls summary (fused): 73 layers, 1443847 parameters, 0 gradients, 3.3 GFLOPs\n",
      "\u001b[34m\u001b[1mtrain:\u001b[0m C:\\Users\\domai\\Desktop\\PFJUPITER\\driver_detection\\processed_dataset\\Mask\\train... found 6336 images in 7 classes  \n",
      "\u001b[34m\u001b[1mval:\u001b[0m C:\\Users\\domai\\Desktop\\PFJUPITER\\driver_detection\\processed_dataset\\Mask\\val... found 225 images in 7 classes  \n",
      "\u001b[34m\u001b[1mtest:\u001b[0m None...\n",
      "               classes   top1_acc   top5_acc: 100%|██████████| 8/8 [00:01<00:00,  5.31it/s]\n",
      "                   all      0.404      0.831\n",
      "Speed: 0.0ms preprocess, 3.4ms inference, 0.0ms loss, 0.0ms postprocess per image\n",
      "Results saved to \u001b[1mmodels\\2\u001b[0m\n",
      "Results saved to \u001b[1mmodels\\2\u001b[0m\n"
     ]
    },
    {
     "data": {
      "text/plain": [
       "ultralytics.utils.metrics.ClassifyMetrics object with attributes:\n",
       "\n",
       "confusion_matrix: <ultralytics.utils.metrics.ConfusionMatrix object at 0x00000271D0E13430>\n",
       "curves: []\n",
       "curves_results: []\n",
       "fitness: 0.6177777945995331\n",
       "keys: ['metrics/accuracy_top1', 'metrics/accuracy_top5']\n",
       "results_dict: {'metrics/accuracy_top1': 0.40444445610046387, 'metrics/accuracy_top5': 0.8311111330986023, 'fitness': 0.6177777945995331}\n",
       "save_dir: WindowsPath('models/2')\n",
       "speed: {'preprocess': 0.0, 'inference': 3.3999305301242404, 'loss': 0.0, 'postprocess': 0.0}\n",
       "task: 'classify'\n",
       "top1: 0.40444445610046387\n",
       "top5: 0.8311111330986023"
      ]
     },
     "execution_count": 106,
     "metadata": {},
     "output_type": "execute_result"
    }
   ],
   "source": [
    "try:\n",
    "    run = max(os.listdir(CLASS_KWARGS['project']))\n",
    "    run = 1 + int(run)\n",
    "except:\n",
    "    run = 1\n",
    "\n",
    "img_class_model.train(data=PROCESSED_DS_PATH_M, name=run, **CLASS_KWARGS)"
   ]
  },
  {
   "cell_type": "markdown",
   "metadata": {},
   "source": [
    "## Performance Evaluation"
   ]
  },
  {
   "cell_type": "code",
   "execution_count": null,
   "metadata": {},
   "outputs": [],
   "source": [
    "cm_path = os.path.join(CLASS_KWARGS['project'], str(run), 'confusion_matrix.jpg')\n",
    "results_path = os.path.join(CLASS_KWARGS['project'], str(run), 'results.jpg')\n",
    "\n",
    "cm_img = plt.imread(cm_path)\n",
    "results_img = plt.imread(results_path)\n",
    "\n",
    "plt.imshow(cm_img)\n",
    "plt.show()\n",
    "\n",
    "plt.imshow(results_img)\n",
    "plt.show()"
   ]
  },
  {
   "cell_type": "markdown",
   "metadata": {},
   "source": [
    "## Prediction\n"
   ]
  },
  {
   "cell_type": "code",
   "execution_count": 25,
   "metadata": {},
   "outputs": [],
   "source": [
    "def get_model(run, best=False):\n",
    "    weight = 'weights/best.pt' if best else 'weights/last.pt'\n",
    "    path = os.path.join(CLASS_KWARGS['project'], str(run), weight)\n",
    "    return YOLO(path)"
   ]
  },
  {
   "cell_type": "code",
   "execution_count": 51,
   "metadata": {},
   "outputs": [],
   "source": [
    "def predict(image_path):\n",
    "    try:\n",
    "        runs = os.listdir(CLASS_KWARGS['project'])\n",
    "    except:\n",
    "        print(\"No runs found\")\n",
    "        return\n",
    "    i = input(f\"Choose a run from {runs}: \")\n",
    "\n",
    "    while i not in runs:\n",
    "        i = input(f\"Choose a run from {runs}: \")\n",
    "    \n",
    "    model = get_model(i)\n",
    "\n",
    "    model(image_path, **MODEL_KWARGS)"
   ]
  },
  {
   "cell_type": "code",
   "execution_count": 127,
   "metadata": {},
   "outputs": [
    {
     "name": "stderr",
     "output_type": "stream",
     "text": [
      "\n"
     ]
    },
    {
     "ename": "FileNotFoundError",
     "evalue": "No images or videos found in ./Data/datatest_processed_masked/. Supported formats are:\nimages: ('bmp', 'dng', 'jpeg', 'jpg', 'mpo', 'png', 'tif', 'tiff', 'webp', 'pfm')\nvideos: ('asf', 'avi', 'gif', 'm4v', 'mkv', 'mov', 'mp4', 'mpeg', 'mpg', 'ts', 'wmv', 'webm')",
     "output_type": "error",
     "traceback": [
      "\u001b[1;31m---------------------------------------------------------------------------\u001b[0m",
      "\u001b[1;31mFileNotFoundError\u001b[0m                         Traceback (most recent call last)",
      "\u001b[1;32mc:\\Users\\domai\\Desktop\\PFJUPITER\\driver_detection\\YOLO.ipynb Cell 24\u001b[0m line \u001b[0;36m1\n\u001b[1;32m----> <a href='vscode-notebook-cell:/c%3A/Users/domai/Desktop/PFJUPITER/driver_detection/YOLO.ipynb#X32sZmlsZQ%3D%3D?line=0'>1</a>\u001b[0m predict(\u001b[39m'\u001b[39;49m\u001b[39m./Data/datatest_processed_masked/\u001b[39;49m\u001b[39m'\u001b[39;49m)\n",
      "\u001b[1;32mc:\\Users\\domai\\Desktop\\PFJUPITER\\driver_detection\\YOLO.ipynb Cell 24\u001b[0m line \u001b[0;36m1\n\u001b[0;32m     <a href='vscode-notebook-cell:/c%3A/Users/domai/Desktop/PFJUPITER/driver_detection/YOLO.ipynb#X32sZmlsZQ%3D%3D?line=9'>10</a>\u001b[0m     i \u001b[39m=\u001b[39m \u001b[39minput\u001b[39m(\u001b[39mf\u001b[39m\u001b[39m\"\u001b[39m\u001b[39mChoose a run from \u001b[39m\u001b[39m{\u001b[39;00mruns\u001b[39m}\u001b[39;00m\u001b[39m: \u001b[39m\u001b[39m\"\u001b[39m)\n\u001b[0;32m     <a href='vscode-notebook-cell:/c%3A/Users/domai/Desktop/PFJUPITER/driver_detection/YOLO.ipynb#X32sZmlsZQ%3D%3D?line=11'>12</a>\u001b[0m model \u001b[39m=\u001b[39m get_model(i)\n\u001b[1;32m---> <a href='vscode-notebook-cell:/c%3A/Users/domai/Desktop/PFJUPITER/driver_detection/YOLO.ipynb#X32sZmlsZQ%3D%3D?line=13'>14</a>\u001b[0m model(image_path, \u001b[39m*\u001b[39;49m\u001b[39m*\u001b[39;49mMODEL_KWARGS)\n",
      "File \u001b[1;32mc:\\Users\\domai\\AppData\\Local\\Programs\\Python\\Python38\\lib\\site-packages\\ultralytics\\engine\\model.py:98\u001b[0m, in \u001b[0;36mModel.__call__\u001b[1;34m(self, source, stream, **kwargs)\u001b[0m\n\u001b[0;32m     96\u001b[0m \u001b[39mdef\u001b[39;00m \u001b[39m__call__\u001b[39m(\u001b[39mself\u001b[39m, source\u001b[39m=\u001b[39m\u001b[39mNone\u001b[39;00m, stream\u001b[39m=\u001b[39m\u001b[39mFalse\u001b[39;00m, \u001b[39m*\u001b[39m\u001b[39m*\u001b[39mkwargs):\n\u001b[0;32m     97\u001b[0m \u001b[39m    \u001b[39m\u001b[39m\"\"\"Calls the 'predict' function with given arguments to perform object detection.\"\"\"\u001b[39;00m\n\u001b[1;32m---> 98\u001b[0m     \u001b[39mreturn\u001b[39;00m \u001b[39mself\u001b[39;49m\u001b[39m.\u001b[39;49mpredict(source, stream, \u001b[39m*\u001b[39;49m\u001b[39m*\u001b[39;49mkwargs)\n",
      "File \u001b[1;32mc:\\Users\\domai\\AppData\\Local\\Programs\\Python\\Python38\\lib\\site-packages\\ultralytics\\engine\\model.py:239\u001b[0m, in \u001b[0;36mModel.predict\u001b[1;34m(self, source, stream, predictor, **kwargs)\u001b[0m\n\u001b[0;32m    237\u001b[0m \u001b[39mif\u001b[39;00m prompts \u001b[39mand\u001b[39;00m \u001b[39mhasattr\u001b[39m(\u001b[39mself\u001b[39m\u001b[39m.\u001b[39mpredictor, \u001b[39m'\u001b[39m\u001b[39mset_prompts\u001b[39m\u001b[39m'\u001b[39m):  \u001b[39m# for SAM-type models\u001b[39;00m\n\u001b[0;32m    238\u001b[0m     \u001b[39mself\u001b[39m\u001b[39m.\u001b[39mpredictor\u001b[39m.\u001b[39mset_prompts(prompts)\n\u001b[1;32m--> 239\u001b[0m \u001b[39mreturn\u001b[39;00m \u001b[39mself\u001b[39m\u001b[39m.\u001b[39mpredictor\u001b[39m.\u001b[39mpredict_cli(source\u001b[39m=\u001b[39msource) \u001b[39mif\u001b[39;00m is_cli \u001b[39melse\u001b[39;00m \u001b[39mself\u001b[39;49m\u001b[39m.\u001b[39;49mpredictor(source\u001b[39m=\u001b[39;49msource, stream\u001b[39m=\u001b[39;49mstream)\n",
      "File \u001b[1;32mc:\\Users\\domai\\AppData\\Local\\Programs\\Python\\Python38\\lib\\site-packages\\ultralytics\\engine\\predictor.py:196\u001b[0m, in \u001b[0;36mBasePredictor.__call__\u001b[1;34m(self, source, model, stream, *args, **kwargs)\u001b[0m\n\u001b[0;32m    194\u001b[0m     \u001b[39mreturn\u001b[39;00m \u001b[39mself\u001b[39m\u001b[39m.\u001b[39mstream_inference(source, model, \u001b[39m*\u001b[39margs, \u001b[39m*\u001b[39m\u001b[39m*\u001b[39mkwargs)\n\u001b[0;32m    195\u001b[0m \u001b[39melse\u001b[39;00m:\n\u001b[1;32m--> 196\u001b[0m     \u001b[39mreturn\u001b[39;00m \u001b[39mlist\u001b[39;49m(\u001b[39mself\u001b[39;49m\u001b[39m.\u001b[39;49mstream_inference(source, model, \u001b[39m*\u001b[39;49margs, \u001b[39m*\u001b[39;49m\u001b[39m*\u001b[39;49mkwargs))\n",
      "File \u001b[1;32mc:\\Users\\domai\\AppData\\Local\\Programs\\Python\\Python38\\lib\\site-packages\\torch\\utils\\_contextlib.py:35\u001b[0m, in \u001b[0;36m_wrap_generator.<locals>.generator_context\u001b[1;34m(*args, **kwargs)\u001b[0m\n\u001b[0;32m     32\u001b[0m \u001b[39mtry\u001b[39;00m:\n\u001b[0;32m     33\u001b[0m     \u001b[39m# Issuing `None` to a generator fires it up\u001b[39;00m\n\u001b[0;32m     34\u001b[0m     \u001b[39mwith\u001b[39;00m ctx_factory():\n\u001b[1;32m---> 35\u001b[0m         response \u001b[39m=\u001b[39m gen\u001b[39m.\u001b[39;49msend(\u001b[39mNone\u001b[39;49;00m)\n\u001b[0;32m     37\u001b[0m     \u001b[39mwhile\u001b[39;00m \u001b[39mTrue\u001b[39;00m:\n\u001b[0;32m     38\u001b[0m         \u001b[39mtry\u001b[39;00m:\n\u001b[0;32m     39\u001b[0m             \u001b[39m# Forward the response to our caller and get its next request\u001b[39;00m\n",
      "File \u001b[1;32mc:\\Users\\domai\\AppData\\Local\\Programs\\Python\\Python38\\lib\\site-packages\\ultralytics\\engine\\predictor.py:235\u001b[0m, in \u001b[0;36mBasePredictor.stream_inference\u001b[1;34m(self, source, model, *args, **kwargs)\u001b[0m\n\u001b[0;32m    232\u001b[0m     \u001b[39mself\u001b[39m\u001b[39m.\u001b[39msetup_model(model)\n\u001b[0;32m    234\u001b[0m \u001b[39m# Setup source every time predict is called\u001b[39;00m\n\u001b[1;32m--> 235\u001b[0m \u001b[39mself\u001b[39;49m\u001b[39m.\u001b[39;49msetup_source(source \u001b[39mif\u001b[39;49;00m source \u001b[39mis\u001b[39;49;00m \u001b[39mnot\u001b[39;49;00m \u001b[39mNone\u001b[39;49;00m \u001b[39melse\u001b[39;49;00m \u001b[39mself\u001b[39;49m\u001b[39m.\u001b[39;49margs\u001b[39m.\u001b[39;49msource)\n\u001b[0;32m    237\u001b[0m \u001b[39m# Check if save_dir/ label file exists\u001b[39;00m\n\u001b[0;32m    238\u001b[0m \u001b[39mif\u001b[39;00m \u001b[39mself\u001b[39m\u001b[39m.\u001b[39margs\u001b[39m.\u001b[39msave \u001b[39mor\u001b[39;00m \u001b[39mself\u001b[39m\u001b[39m.\u001b[39margs\u001b[39m.\u001b[39msave_txt:\n",
      "File \u001b[1;32mc:\\Users\\domai\\AppData\\Local\\Programs\\Python\\Python38\\lib\\site-packages\\ultralytics\\engine\\predictor.py:213\u001b[0m, in \u001b[0;36mBasePredictor.setup_source\u001b[1;34m(self, source)\u001b[0m\n\u001b[0;32m    210\u001b[0m \u001b[39mself\u001b[39m\u001b[39m.\u001b[39mimgsz \u001b[39m=\u001b[39m check_imgsz(\u001b[39mself\u001b[39m\u001b[39m.\u001b[39margs\u001b[39m.\u001b[39mimgsz, stride\u001b[39m=\u001b[39m\u001b[39mself\u001b[39m\u001b[39m.\u001b[39mmodel\u001b[39m.\u001b[39mstride, min_dim\u001b[39m=\u001b[39m\u001b[39m2\u001b[39m)  \u001b[39m# check image size\u001b[39;00m\n\u001b[0;32m    211\u001b[0m \u001b[39mself\u001b[39m\u001b[39m.\u001b[39mtransforms \u001b[39m=\u001b[39m \u001b[39mgetattr\u001b[39m(\u001b[39mself\u001b[39m\u001b[39m.\u001b[39mmodel\u001b[39m.\u001b[39mmodel, \u001b[39m'\u001b[39m\u001b[39mtransforms\u001b[39m\u001b[39m'\u001b[39m, classify_transforms(\n\u001b[0;32m    212\u001b[0m     \u001b[39mself\u001b[39m\u001b[39m.\u001b[39mimgsz[\u001b[39m0\u001b[39m])) \u001b[39mif\u001b[39;00m \u001b[39mself\u001b[39m\u001b[39m.\u001b[39margs\u001b[39m.\u001b[39mtask \u001b[39m==\u001b[39m \u001b[39m'\u001b[39m\u001b[39mclassify\u001b[39m\u001b[39m'\u001b[39m \u001b[39melse\u001b[39;00m \u001b[39mNone\u001b[39;00m\n\u001b[1;32m--> 213\u001b[0m \u001b[39mself\u001b[39m\u001b[39m.\u001b[39mdataset \u001b[39m=\u001b[39m load_inference_source(source\u001b[39m=\u001b[39;49msource,\n\u001b[0;32m    214\u001b[0m                                      imgsz\u001b[39m=\u001b[39;49m\u001b[39mself\u001b[39;49m\u001b[39m.\u001b[39;49mimgsz,\n\u001b[0;32m    215\u001b[0m                                      vid_stride\u001b[39m=\u001b[39;49m\u001b[39mself\u001b[39;49m\u001b[39m.\u001b[39;49margs\u001b[39m.\u001b[39;49mvid_stride,\n\u001b[0;32m    216\u001b[0m                                      buffer\u001b[39m=\u001b[39;49m\u001b[39mself\u001b[39;49m\u001b[39m.\u001b[39;49margs\u001b[39m.\u001b[39;49mstream_buffer)\n\u001b[0;32m    217\u001b[0m \u001b[39mself\u001b[39m\u001b[39m.\u001b[39msource_type \u001b[39m=\u001b[39m \u001b[39mself\u001b[39m\u001b[39m.\u001b[39mdataset\u001b[39m.\u001b[39msource_type\n\u001b[0;32m    218\u001b[0m \u001b[39mif\u001b[39;00m \u001b[39mnot\u001b[39;00m \u001b[39mgetattr\u001b[39m(\u001b[39mself\u001b[39m, \u001b[39m'\u001b[39m\u001b[39mstream\u001b[39m\u001b[39m'\u001b[39m, \u001b[39mTrue\u001b[39;00m) \u001b[39mand\u001b[39;00m (\u001b[39mself\u001b[39m\u001b[39m.\u001b[39mdataset\u001b[39m.\u001b[39mmode \u001b[39m==\u001b[39m \u001b[39m'\u001b[39m\u001b[39mstream\u001b[39m\u001b[39m'\u001b[39m \u001b[39mor\u001b[39;00m  \u001b[39m# streams\u001b[39;00m\n\u001b[0;32m    219\u001b[0m                                           \u001b[39mlen\u001b[39m(\u001b[39mself\u001b[39m\u001b[39m.\u001b[39mdataset) \u001b[39m>\u001b[39m \u001b[39m1000\u001b[39m \u001b[39mor\u001b[39;00m  \u001b[39m# images\u001b[39;00m\n\u001b[0;32m    220\u001b[0m                                           \u001b[39many\u001b[39m(\u001b[39mgetattr\u001b[39m(\u001b[39mself\u001b[39m\u001b[39m.\u001b[39mdataset, \u001b[39m'\u001b[39m\u001b[39mvideo_flag\u001b[39m\u001b[39m'\u001b[39m, [\u001b[39mFalse\u001b[39;00m]))):  \u001b[39m# videos\u001b[39;00m\n",
      "File \u001b[1;32mc:\\Users\\domai\\AppData\\Local\\Programs\\Python\\Python38\\lib\\site-packages\\ultralytics\\data\\build.py:172\u001b[0m, in \u001b[0;36mload_inference_source\u001b[1;34m(source, imgsz, vid_stride, buffer)\u001b[0m\n\u001b[0;32m    170\u001b[0m     dataset \u001b[39m=\u001b[39m LoadPilAndNumpy(source, imgsz\u001b[39m=\u001b[39mimgsz)\n\u001b[0;32m    171\u001b[0m \u001b[39melse\u001b[39;00m:\n\u001b[1;32m--> 172\u001b[0m     dataset \u001b[39m=\u001b[39m LoadImages(source, imgsz\u001b[39m=\u001b[39;49mimgsz, vid_stride\u001b[39m=\u001b[39;49mvid_stride)\n\u001b[0;32m    174\u001b[0m \u001b[39m# Attach source types to the dataset\u001b[39;00m\n\u001b[0;32m    175\u001b[0m \u001b[39msetattr\u001b[39m(dataset, \u001b[39m'\u001b[39m\u001b[39msource_type\u001b[39m\u001b[39m'\u001b[39m, source_type)\n",
      "File \u001b[1;32mc:\\Users\\domai\\AppData\\Local\\Programs\\Python\\Python38\\lib\\site-packages\\ultralytics\\data\\loaders.py:305\u001b[0m, in \u001b[0;36mLoadImages.__init__\u001b[1;34m(self, path, imgsz, vid_stride)\u001b[0m\n\u001b[0;32m    303\u001b[0m     \u001b[39mself\u001b[39m\u001b[39m.\u001b[39mcap \u001b[39m=\u001b[39m \u001b[39mNone\u001b[39;00m\n\u001b[0;32m    304\u001b[0m \u001b[39mif\u001b[39;00m \u001b[39mself\u001b[39m\u001b[39m.\u001b[39mnf \u001b[39m==\u001b[39m \u001b[39m0\u001b[39m:\n\u001b[1;32m--> 305\u001b[0m     \u001b[39mraise\u001b[39;00m \u001b[39mFileNotFoundError\u001b[39;00m(\u001b[39mf\u001b[39m\u001b[39m'\u001b[39m\u001b[39mNo images or videos found in \u001b[39m\u001b[39m{\u001b[39;00mp\u001b[39m}\u001b[39;00m\u001b[39m. \u001b[39m\u001b[39m'\u001b[39m\n\u001b[0;32m    306\u001b[0m                             \u001b[39mf\u001b[39m\u001b[39m'\u001b[39m\u001b[39mSupported formats are:\u001b[39m\u001b[39m\\n\u001b[39;00m\u001b[39mimages: \u001b[39m\u001b[39m{\u001b[39;00mIMG_FORMATS\u001b[39m}\u001b[39;00m\u001b[39m\\n\u001b[39;00m\u001b[39mvideos: \u001b[39m\u001b[39m{\u001b[39;00mVID_FORMATS\u001b[39m}\u001b[39;00m\u001b[39m'\u001b[39m)\n",
      "\u001b[1;31mFileNotFoundError\u001b[0m: No images or videos found in ./Data/datatest_processed_masked/. Supported formats are:\nimages: ('bmp', 'dng', 'jpeg', 'jpg', 'mpo', 'png', 'tif', 'tiff', 'webp', 'pfm')\nvideos: ('asf', 'avi', 'gif', 'm4v', 'mkv', 'mov', 'mp4', 'mpeg', 'mpg', 'ts', 'wmv', 'webm')"
     ]
    }
   ],
   "source": [
    "\n",
    "predict('./Data/datatest_processed_masked/datat/datat2/')\n",
    "\n"
   ]
  }
 ],
 "metadata": {
  "kernelspec": {
   "display_name": "venv",
   "language": "python",
   "name": "python3"
  },
  "language_info": {
   "codemirror_mode": {
    "name": "ipython",
    "version": 3
   },
   "file_extension": ".py",
   "mimetype": "text/x-python",
   "name": "python",
   "nbconvert_exporter": "python",
   "pygments_lexer": "ipython3",
   "version": "3.8.10"
  }
 },
 "nbformat": 4,
 "nbformat_minor": 2
}
