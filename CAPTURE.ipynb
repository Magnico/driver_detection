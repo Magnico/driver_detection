{
 "cells": [
  {
   "cell_type": "markdown",
   "metadata": {},
   "source": [
    "## Initialize Environment\n"
   ]
  },
  {
   "cell_type": "code",
   "execution_count": 1,
   "metadata": {},
   "outputs": [],
   "source": [
    "!python -m venv venv"
   ]
  },
  {
   "cell_type": "markdown",
   "metadata": {},
   "source": [
    "Remember to change the kernel to the venv\n"
   ]
  },
  {
   "cell_type": "code",
   "execution_count": null,
   "metadata": {},
   "outputs": [],
   "source": [
    "%pip install opencv-python numpy Pillow ultralytics"
   ]
  },
  {
   "cell_type": "markdown",
   "metadata": {},
   "source": [
    "## Import Dependencies\n"
   ]
  },
  {
   "cell_type": "code",
   "execution_count": 2,
   "metadata": {},
   "outputs": [],
   "source": [
    "import cv2\n",
    "from ultralytics import YOLO\n",
    "from PIL import Image"
   ]
  },
  {
   "cell_type": "code",
   "execution_count": 3,
   "metadata": {},
   "outputs": [],
   "source": [
    "SIZE = (WIDTH, HEIGHT) = (640, 480)\n",
    "CLS_MODEL = r'models\\1014\\weights\\last.pt'\n",
    "SEG_MODEL = 'yolov8s-seg.pt'\n",
    "SEG_KWARG = {\n",
    "    'classes':  0,\n",
    "    'imgsz': WIDTH,\n",
    "    'boxes': True,\n",
    "    'save': False,\n",
    "    'show_labels': False,\n",
    "    'show_conf': False,\n",
    "    'max_det': 1,\n",
    "    'verbose': False\n",
    "}"
   ]
  },
  {
   "cell_type": "markdown",
   "metadata": {},
   "source": [
    "## Define Functions\n"
   ]
  },
  {
   "cell_type": "code",
   "execution_count": 4,
   "metadata": {},
   "outputs": [],
   "source": [
    "def init_models(cls=CLS_MODEL, seg=SEG_MODEL):\n",
    "    global img_seg_model, img_class_model\n",
    "    img_seg_model = YOLO(seg)\n",
    "    img_class_model = YOLO(cls)"
   ]
  },
  {
   "cell_type": "code",
   "execution_count": 5,
   "metadata": {},
   "outputs": [],
   "source": [
    "def pre_process(image, size=SIZE):\n",
    "    if image is None:\n",
    "        print(f\"Unable to read image\")\n",
    "        return None\n",
    "\n",
    "    image = cv2.cvtColor(image, cv2.COLOR_BGR2GRAY)\n",
    "\n",
    "    # image = cv2.resize(image, size)\n",
    "\n",
    "    return image"
   ]
  },
  {
   "cell_type": "code",
   "execution_count": 6,
   "metadata": {},
   "outputs": [],
   "source": [
    "def apply_mask(image, _kwarg=SEG_KWARG):\n",
    "    global img_seg_model\n",
    "\n",
    "    # transform image from matlike to pil image\n",
    "    image = Image.fromarray(image)\n",
    "\n",
    "    image = img_seg_model(image, **_kwarg)\n",
    "\n",
    "    return image[0].plot(conf=False, labels=False, pil=True)"
   ]
  },
  {
   "cell_type": "code",
   "execution_count": 7,
   "metadata": {},
   "outputs": [],
   "source": [
    "def predict_distraction(image):\n",
    "    global img_class_model, CLASS_NAMES\n",
    "\n",
    "    img = pre_process(image)\n",
    "\n",
    "    img = apply_mask(img)\n",
    "\n",
    "    cls = img_class_model(img, verbose=False)[0].probs.top1\n",
    "\n",
    "    # take the class name\n",
    "    cls = CLASS_NAMES[cls]\n",
    "\n",
    "    return img, cls"
   ]
  },
  {
   "cell_type": "markdown",
   "metadata": {},
   "source": [
    "## MAIN\n"
   ]
  },
  {
   "cell_type": "code",
   "execution_count": null,
   "metadata": {},
   "outputs": [],
   "source": [
    "# Initialize the camera\n",
    "cap = cv2.VideoCapture(0)\n",
    "\n",
    "# Calculate fps to wait between model predictions\n",
    "times_per_second = 1\n",
    "fps = cap.get(cv2.CAP_PROP_FPS)\n",
    "wait = fps//times_per_second\n",
    "\n",
    "# Initialize the models\n",
    "init_models()\n",
    "\n",
    "# Class names\n",
    "CLASS_NAMES = {\n",
    "    0: 'good ',\n",
    "    1: 'texting ',\n",
    "    2: 'talking ',\n",
    "    3: 'radio ',\n",
    "    4: 'drink ',\n",
    "    5: 'behind ',\n",
    "    6: 'passenger '\n",
    "}\n",
    "\n",
    "# Start the loop\n",
    "frames = 0\n",
    "cls = 'None'\n",
    "while True:\n",
    "\n",
    "    # Read the frame\n",
    "    ret, frame = cap.read()\n",
    "\n",
    "    if not ret:\n",
    "        print(\"No more frames\")\n",
    "        break\n",
    "\n",
    "    frame = cv2.resize(frame, SIZE)\n",
    "\n",
    "    # Predict the distraction\n",
    "    if frames % wait == 0:\n",
    "        frame, cls = predict_distraction(frame)\n",
    "\n",
    "    # Put the class name on the frame and show it\n",
    "    cv2.putText(frame, cls + str(frames), (10, 50),\n",
    "                cv2.FONT_HERSHEY_SIMPLEX, 1, (0, 255, 0), 2)\n",
    "\n",
    "    cv2.imshow('frame', frame)\n",
    "\n",
    "    framef = frame\n",
    "    frames += 1\n",
    "\n",
    "    # Press q to early stop\n",
    "    if cv2.waitKey(1) & 0xFF == ord('q'):\n",
    "        break\n",
    "\n",
    "cap.release()\n",
    "cv2.destroyAllWindows()"
   ]
  }
 ],
 "metadata": {
  "kernelspec": {
   "display_name": "venv",
   "language": "python",
   "name": "python3"
  },
  "language_info": {
   "codemirror_mode": {
    "name": "ipython",
    "version": 3
   },
   "file_extension": ".py",
   "mimetype": "text/x-python",
   "name": "python",
   "nbconvert_exporter": "python",
   "pygments_lexer": "ipython3",
   "version": "3.9.13"
  }
 },
 "nbformat": 4,
 "nbformat_minor": 2
}
