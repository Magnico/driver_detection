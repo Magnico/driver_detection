{
 "cells": [
  {
   "cell_type": "markdown",
   "metadata": {},
   "source": [
    "## Initialize Environment\n"
   ]
  },
  {
   "cell_type": "code",
   "execution_count": 1,
   "metadata": {},
   "outputs": [
    {
     "name": "stderr",
     "output_type": "stream",
     "text": [
      "Error: [Errno 13] Permission denied: 'c:\\\\Users\\\\Magnico\\\\Documents\\\\GitProjects\\\\driver_detection\\\\venv\\\\Scripts\\\\python.exe'\n"
     ]
    }
   ],
   "source": [
    "!python -m venv venv"
   ]
  },
  {
   "cell_type": "markdown",
   "metadata": {},
   "source": [
    "Remember to change the kernel to the venv\n"
   ]
  },
  {
   "cell_type": "code",
   "execution_count": 2,
   "metadata": {},
   "outputs": [
    {
     "name": "stdout",
     "output_type": "stream",
     "text": [
      "Requirement already satisfied: opencv-python in c:\\users\\magnico\\documents\\gitprojects\\driver_detection\\venv\\lib\\site-packages (4.8.1.78)\n",
      "Requirement already satisfied: numpy in c:\\users\\magnico\\documents\\gitprojects\\driver_detection\\venv\\lib\\site-packages (1.26.2)\n",
      "Requirement already satisfied: Pillow in c:\\users\\magnico\\documents\\gitprojects\\driver_detection\\venv\\lib\\site-packages (10.1.0)\n",
      "Requirement already satisfied: ultralytics in c:\\users\\magnico\\documents\\gitprojects\\driver_detection\\venv\\lib\\site-packages (8.0.209)\n",
      "Requirement already satisfied: pandas>=1.1.4 in c:\\users\\magnico\\documents\\gitprojects\\driver_detection\\venv\\lib\\site-packages (from ultralytics) (2.1.3)\n",
      "Requirement already satisfied: matplotlib>=3.3.0 in c:\\users\\magnico\\documents\\gitprojects\\driver_detection\\venv\\lib\\site-packages (from ultralytics) (3.8.1)\n",
      "Requirement already satisfied: thop>=0.1.1 in c:\\users\\magnico\\documents\\gitprojects\\driver_detection\\venv\\lib\\site-packages (from ultralytics) (0.1.1.post2209072238)\n",
      "Requirement already satisfied: tqdm>=4.64.0 in c:\\users\\magnico\\documents\\gitprojects\\driver_detection\\venv\\lib\\site-packages (from ultralytics) (4.66.1)\n",
      "Requirement already satisfied: seaborn>=0.11.0 in c:\\users\\magnico\\documents\\gitprojects\\driver_detection\\venv\\lib\\site-packages (from ultralytics) (0.13.0)\n",
      "Requirement already satisfied: pyyaml>=5.3.1 in c:\\users\\magnico\\documents\\gitprojects\\driver_detection\\venv\\lib\\site-packages (from ultralytics) (6.0.1)\n",
      "Requirement already satisfied: py-cpuinfo in c:\\users\\magnico\\documents\\gitprojects\\driver_detection\\venv\\lib\\site-packages (from ultralytics) (9.0.0)\n",
      "Requirement already satisfied: psutil in c:\\users\\magnico\\documents\\gitprojects\\driver_detection\\venv\\lib\\site-packages (from ultralytics) (5.9.6)\n",
      "Requirement already satisfied: torch>=1.8.0 in c:\\users\\magnico\\documents\\gitprojects\\driver_detection\\venv\\lib\\site-packages (from ultralytics) (2.1.0)\n",
      "Requirement already satisfied: requests>=2.23.0 in c:\\users\\magnico\\documents\\gitprojects\\driver_detection\\venv\\lib\\site-packages (from ultralytics) (2.31.0)\n",
      "Requirement already satisfied: scipy>=1.4.1 in c:\\users\\magnico\\documents\\gitprojects\\driver_detection\\venv\\lib\\site-packages (from ultralytics) (1.11.3)\n",
      "Requirement already satisfied: torchvision>=0.9.0 in c:\\users\\magnico\\documents\\gitprojects\\driver_detection\\venv\\lib\\site-packages (from ultralytics) (0.16.0)\n",
      "Requirement already satisfied: contourpy>=1.0.1 in c:\\users\\magnico\\documents\\gitprojects\\driver_detection\\venv\\lib\\site-packages (from matplotlib>=3.3.0->ultralytics) (1.2.0)\n",
      "Requirement already satisfied: packaging>=20.0 in c:\\users\\magnico\\documents\\gitprojects\\driver_detection\\venv\\lib\\site-packages (from matplotlib>=3.3.0->ultralytics) (23.2)\n",
      "Requirement already satisfied: kiwisolver>=1.3.1 in c:\\users\\magnico\\documents\\gitprojects\\driver_detection\\venv\\lib\\site-packages (from matplotlib>=3.3.0->ultralytics) (1.4.5)\n",
      "Requirement already satisfied: python-dateutil>=2.7 in c:\\users\\magnico\\documents\\gitprojects\\driver_detection\\venv\\lib\\site-packages (from matplotlib>=3.3.0->ultralytics) (2.8.2)\n",
      "Requirement already satisfied: pyparsing>=2.3.1 in c:\\users\\magnico\\documents\\gitprojects\\driver_detection\\venv\\lib\\site-packages (from matplotlib>=3.3.0->ultralytics) (3.1.1)\n",
      "Requirement already satisfied: fonttools>=4.22.0 in c:\\users\\magnico\\documents\\gitprojects\\driver_detection\\venv\\lib\\site-packages (from matplotlib>=3.3.0->ultralytics) (4.44.0)\n",
      "Requirement already satisfied: cycler>=0.10 in c:\\users\\magnico\\documents\\gitprojects\\driver_detection\\venv\\lib\\site-packages (from matplotlib>=3.3.0->ultralytics) (0.12.1)\n",
      "Requirement already satisfied: importlib-resources>=3.2.0 in c:\\users\\magnico\\documents\\gitprojects\\driver_detection\\venv\\lib\\site-packages (from matplotlib>=3.3.0->ultralytics) (6.1.1)\n",
      "Requirement already satisfied: tzdata>=2022.1 in c:\\users\\magnico\\documents\\gitprojects\\driver_detection\\venv\\lib\\site-packages (from pandas>=1.1.4->ultralytics) (2023.3)\n",
      "Requirement already satisfied: pytz>=2020.1 in c:\\users\\magnico\\documents\\gitprojects\\driver_detection\\venv\\lib\\site-packages (from pandas>=1.1.4->ultralytics) (2023.3.post1)\n",
      "Requirement already satisfied: idna<4,>=2.5 in c:\\users\\magnico\\documents\\gitprojects\\driver_detection\\venv\\lib\\site-packages (from requests>=2.23.0->ultralytics) (3.4)\n",
      "Requirement already satisfied: certifi>=2017.4.17 in c:\\users\\magnico\\documents\\gitprojects\\driver_detection\\venv\\lib\\site-packages (from requests>=2.23.0->ultralytics) (2023.7.22)\n",
      "Requirement already satisfied: urllib3<3,>=1.21.1 in c:\\users\\magnico\\documents\\gitprojects\\driver_detection\\venv\\lib\\site-packages (from requests>=2.23.0->ultralytics) (2.1.0)\n",
      "Requirement already satisfied: charset-normalizer<4,>=2 in c:\\users\\magnico\\documents\\gitprojects\\driver_detection\\venv\\lib\\site-packages (from requests>=2.23.0->ultralytics) (3.3.2)\n",
      "Requirement already satisfied: networkx in c:\\users\\magnico\\documents\\gitprojects\\driver_detection\\venv\\lib\\site-packages (from torch>=1.8.0->ultralytics) (3.2.1)\n",
      "Requirement already satisfied: jinja2 in c:\\users\\magnico\\documents\\gitprojects\\driver_detection\\venv\\lib\\site-packages (from torch>=1.8.0->ultralytics) (3.1.2)\n",
      "Requirement already satisfied: typing-extensions in c:\\users\\magnico\\documents\\gitprojects\\driver_detection\\venv\\lib\\site-packages (from torch>=1.8.0->ultralytics) (4.8.0)\n",
      "Requirement already satisfied: fsspec in c:\\users\\magnico\\documents\\gitprojects\\driver_detection\\venv\\lib\\site-packages (from torch>=1.8.0->ultralytics) (2023.10.0)\n",
      "Requirement already satisfied: filelock in c:\\users\\magnico\\documents\\gitprojects\\driver_detection\\venv\\lib\\site-packages (from torch>=1.8.0->ultralytics) (3.13.1)\n",
      "Requirement already satisfied: sympy in c:\\users\\magnico\\documents\\gitprojects\\driver_detection\\venv\\lib\\site-packages (from torch>=1.8.0->ultralytics) (1.12)\n",
      "Requirement already satisfied: colorama in c:\\users\\magnico\\documents\\gitprojects\\driver_detection\\venv\\lib\\site-packages (from tqdm>=4.64.0->ultralytics) (0.4.6)\n",
      "Requirement already satisfied: zipp>=3.1.0 in c:\\users\\magnico\\documents\\gitprojects\\driver_detection\\venv\\lib\\site-packages (from importlib-resources>=3.2.0->matplotlib>=3.3.0->ultralytics) (3.17.0)\n",
      "Requirement already satisfied: six>=1.5 in c:\\users\\magnico\\documents\\gitprojects\\driver_detection\\venv\\lib\\site-packages (from python-dateutil>=2.7->matplotlib>=3.3.0->ultralytics) (1.16.0)\n",
      "Requirement already satisfied: MarkupSafe>=2.0 in c:\\users\\magnico\\documents\\gitprojects\\driver_detection\\venv\\lib\\site-packages (from jinja2->torch>=1.8.0->ultralytics) (2.1.3)\n",
      "Requirement already satisfied: mpmath>=0.19 in c:\\users\\magnico\\documents\\gitprojects\\driver_detection\\venv\\lib\\site-packages (from sympy->torch>=1.8.0->ultralytics) (1.3.0)\n",
      "Note: you may need to restart the kernel to use updated packages.\n"
     ]
    },
    {
     "name": "stderr",
     "output_type": "stream",
     "text": [
      "WARNING: You are using pip version 22.0.4; however, version 23.3.1 is available.\n",
      "You should consider upgrading via the 'c:\\Users\\Magnico\\Documents\\GitProjects\\driver_detection\\venv\\Scripts\\python.exe -m pip install --upgrade pip' command.\n"
     ]
    }
   ],
   "source": [
    "%pip install opencv-python numpy Pillow ultralytics"
   ]
  },
  {
   "cell_type": "markdown",
   "metadata": {},
   "source": [
    "## Import Dependencies\n"
   ]
  },
  {
   "cell_type": "code",
   "execution_count": 3,
   "metadata": {},
   "outputs": [],
   "source": [
    "import cv2\n",
    "import os\n",
    "from datetime import datetime\n",
    "from ultralytics import YOLO\n",
    "import pandas as pd\n",
    "from PIL import Image"
   ]
  },
  {
   "cell_type": "code",
   "execution_count": 4,
   "metadata": {},
   "outputs": [],
   "source": [
    "SIZE = (WIDTH, HEIGHT) = (640, 480)\n",
    "\n",
    "CLS_MODEL = r'models\\1014\\weights\\last.pt'\n",
    "CLASS_NAMES = {\n",
    "    0: 'good',\n",
    "    1: 'texting',\n",
    "    2: 'talking',\n",
    "    3: 'radio',\n",
    "    4: 'drink',\n",
    "    5: 'behind',\n",
    "    6: 'passenger',\n",
    "    7: 'Unknown'\n",
    "}\n",
    "\n",
    "SEG_MODEL = 'yolov8s-seg.pt'\n",
    "SEG_KWARG = {\n",
    "    'classes':  0,\n",
    "    'imgsz': WIDTH,\n",
    "    'boxes': True,\n",
    "    'save': False,\n",
    "    'show_labels': False,\n",
    "    'show_conf': False,\n",
    "    'max_det': 1,\n",
    "    'verbose': False\n",
    "}\n",
    "\n",
    "SAVE_DIR = r'./captures'\n",
    "\n",
    "THRESHOLD = 0.5"
   ]
  },
  {
   "cell_type": "markdown",
   "metadata": {},
   "source": [
    "## Define Functions\n"
   ]
  },
  {
   "cell_type": "code",
   "execution_count": 5,
   "metadata": {},
   "outputs": [],
   "source": [
    "def init_models(cls=CLS_MODEL, seg=SEG_MODEL):\n",
    "    global img_seg_model, img_class_model\n",
    "    img_seg_model = YOLO(seg)\n",
    "    img_class_model = YOLO(cls)\n",
    "\n",
    "def init_dataframe():\n",
    "    global SAVE_DIR, df\n",
    "    \n",
    "    if not os.path.exists(SAVE_DIR):\n",
    "        os.makedirs(SAVE_DIR)\n",
    "\n",
    "    try:\n",
    "        df = pd.read_csv('data.csv')\n",
    "    except:\n",
    "        df = pd.DataFrame(columns=['image_name', 'class', 'confidence', 'time'])\n",
    "        df.to_csv('data.csv', index=False)\n",
    "\n",
    "def init():\n",
    "    init_models()\n",
    "    init_dataframe()"
   ]
  },
  {
   "cell_type": "code",
   "execution_count": 6,
   "metadata": {},
   "outputs": [],
   "source": [
    "def pre_process(image, size=SIZE):\n",
    "    if image is None:\n",
    "        print(f\"Unable to read image\")\n",
    "        return None\n",
    "\n",
    "    image = cv2.cvtColor(image, cv2.COLOR_BGR2GRAY)\n",
    "\n",
    "    # image = cv2.resize(image, size)\n",
    "\n",
    "    return image"
   ]
  },
  {
   "cell_type": "code",
   "execution_count": 7,
   "metadata": {},
   "outputs": [],
   "source": [
    "def apply_mask(image, _kwarg=SEG_KWARG):\n",
    "    global img_seg_model\n",
    "\n",
    "    # transform image from matlike to pil image\n",
    "    image = Image.fromarray(image)\n",
    "\n",
    "    image = img_seg_model(image, **_kwarg)\n",
    "\n",
    "    return image[0].plot(conf=False, labels=False, pil=True)"
   ]
  },
  {
   "cell_type": "code",
   "execution_count": 8,
   "metadata": {},
   "outputs": [],
   "source": [
    "def log_distraction(cls, conf, image):\n",
    "    global SAVE_DIR, df\n",
    "\n",
    "    now = datetime.now()\n",
    "    image_name = f\"{SAVE_DIR}/{cls}_{now.strftime('%Y%m%d%H%M%S')}.jpg\"\n",
    "    cv2.imwrite(image_name, image)\n",
    "\n",
    "\n",
    "    df.loc[-1] = [image_name, cls, conf, now.strftime('%Y-%m-%d %H:%M:%S')]\n",
    "    df.index = df.index + 1\n",
    "    df = df.sort_index()\n",
    "    \n"
   ]
  },
  {
   "cell_type": "code",
   "execution_count": 9,
   "metadata": {},
   "outputs": [],
   "source": [
    "def predict_distraction(image):\n",
    "    global CLASS_NAMES, THRESHOLD, img_class_model\n",
    "\n",
    "    img = pre_process(image)\n",
    "\n",
    "    img = apply_mask(img)\n",
    "\n",
    "    probs = img_class_model(img, verbose=False)[0].probs\n",
    "    cls = probs.top1\n",
    "    conf = probs.top1conf.item()\n",
    "    \n",
    "    cls = CLASS_NAMES[cls if conf >= THRESHOLD else 7]\n",
    "\n",
    "    log_distraction(cls, conf, img)\n",
    "    \n",
    "    return img, cls"
   ]
  },
  {
   "cell_type": "markdown",
   "metadata": {},
   "source": [
    "## MAIN\n"
   ]
  },
  {
   "cell_type": "code",
   "execution_count": 12,
   "metadata": {},
   "outputs": [
    {
     "name": "stdout",
     "output_type": "stream",
     "text": [
      "No more frames\n"
     ]
    }
   ],
   "source": [
    "# Initialize the camera\n",
    "cap = cv2.VideoCapture(0)\n",
    "\n",
    "# Calculate fps to wait between model predictions\n",
    "times_per_second = 3\n",
    "fps = cap.get(cv2.CAP_PROP_FPS)\n",
    "wait = fps//times_per_second\n",
    "\n",
    "# Initialize\n",
    "init()\n",
    "\n",
    "# Start the loop\n",
    "frames = 0\n",
    "cls = 'None'\n",
    "while True:\n",
    "\n",
    "    # Read the frame\n",
    "    ret, frame = cap.read()\n",
    "\n",
    "    if not ret:\n",
    "        print(\"No more frames\")\n",
    "        break\n",
    "\n",
    "    frame = cv2.resize(frame, SIZE)\n",
    "\n",
    "    # Predict the distraction\n",
    "    if frames % wait == 0:\n",
    "        frame, cls = predict_distraction(frame)\n",
    "\n",
    "    # Put the class name on the frame and show it\n",
    "    cv2.putText(frame, cls+ ' - ' + str(frames), (10, 50),\n",
    "                cv2.FONT_HERSHEY_SIMPLEX, 1, (0, 255, 0), 2)\n",
    "\n",
    "    cv2.imshow('frame', frame)\n",
    "\n",
    "    framef = frame\n",
    "    frames += 1\n",
    "\n",
    "    # Press q to early stop\n",
    "    if cv2.waitKey(1) & 0xFF == ord('q'):\n",
    "        break\n",
    "\n",
    "cap.release()\n",
    "cv2.destroyAllWindows()\n",
    "\n",
    "df.to_csv('data.csv', index=False)"
   ]
  },
  {
   "cell_type": "code",
   "execution_count": 14,
   "metadata": {},
   "outputs": [
    {
     "data": {
      "image/png": "[encoded data removed]",
      "text/plain": [
       "<Figure size 640x480 with 1 Axes>"
      ]
     },
     "metadata": {},
     "output_type": "display_data"
    }
   ],
   "source": [
    "def plot_distractions():\n",
    "    data = pd.read_csv('data.csv')\n",
    "\n",
    "    data['class'].value_counts().plot(kind='bar')\n",
    "\n",
    "plot_distractions()"
   ]
  }
 ],
 "metadata": {
  "kernelspec": {
   "display_name": "venv",
   "language": "python",
   "name": "python3"
  },
  "language_info": {
   "codemirror_mode": {
    "name": "ipython",
    "version": 3
   },
   "file_extension": ".py",
   "mimetype": "text/x-python",
   "name": "python",
   "nbconvert_exporter": "python",
   "pygments_lexer": "ipython3",
   "version": "3.9.13"
  }
 },
 "nbformat": 4,
 "nbformat_minor": 2
}
