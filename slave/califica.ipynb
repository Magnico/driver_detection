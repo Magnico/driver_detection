{
 "cells": [
  {
   "cell_type": "code",
   "execution_count": null,
   "metadata": {},
   "outputs": [],
   "source": [
    "import pickle\n",
    "import os\n",
    "import numpy as np\n",
    "import pandas as pd\n",
    "import matplotlib.pyplot as plt"
   ]
  },
  {
   "cell_type": "code",
   "execution_count": null,
   "metadata": {},
   "outputs": [],
   "source": [
    "def update_file(data, file_name):\n",
    "    with open(file_name, 'wb') as f:\n",
    "        pickle.dump(data, f)\n",
    "\n",
    "def get_file(file_name):\n",
    "    if not os.path.exists(file_name):\n",
    "        return {}\n",
    "    with open(file_name, 'rb') as f:\n",
    "        data = pickle.load(f)\n",
    "    return data\n",
    "\n",
    "def show_image(path):\n",
    "    image = plt.imread(path)\n",
    "    plt.imshow(image)\n",
    "    plt.show()"
   ]
  },
  {
   "cell_type": "code",
   "execution_count": null,
   "metadata": {},
   "outputs": [],
   "source": [
    "def main():\n",
    "    # pregunta quien eres 3 dilan 2 enrique 1 alvaro\n",
    "    print('¿Quién eres?')\n",
    "    print('2. Alvaro')\n",
    "    print('3. Dilan')\n",
    "    name = input('>> ')\n",
    "\n",
    "    #valida que name sea uno de esos numeros\n",
    "    while name not in ['1', '2', '3']:\n",
    "        print('Ingresa un número válido')\n",
    "        name = input('>> ')\n",
    "    \n",
    "    i = int(name)\n",
    "\n",
    "    #carga las imagenes\n",
    "    images = []\n",
    "    for file in os.listdir(f'./raw_img/{i}'):\n",
    "        if file not in ['done']:\n",
    "            images.append(file)\n",
    "    \n",
    "    #carga el archivo de labels\n",
    "    img_label_map = get_file(f'./labels{i}.pkl')\n",
    "\n",
    "    #A trabajar\n",
    "    for img in images:\n",
    "        if os.path.exists(f'./raw_img/{i}/done/{img}'):\n",
    "            continue\n",
    "        \n",
    "        show_image(f'./raw_img/{i}/{img}')\n",
    "\n",
    "        print('¿Que cateogia es?')\n",
    "        label = input('>> ')\n",
    "\n",
    "        while label not in ['0', '1', '2', '3', '4', '5', '6', '7']:\n",
    "            print('c0 - Safe Driving\\nc1 - Texting\\nc2 - Talking on the phone\\nc3 - Operating the Radio\\nc4 - Drinking\\nc5 - Reaching Behind\\nc6 - Talking to Passenger')\n",
    "            label = input('c0 - Safe Driving\\nc1 - Texting\\nc2 - Talking on the phone\\nc3 - Operating the Radio\\nc4 - Drinking\\nc5 - Reaching Behind\\nc6 - Talking to Passenger')\n",
    "\n",
    "        label = int(label)\n",
    "        img_label_map[img] = label\n",
    "\n",
    "        os.rename(f'./raw_img/{i}/{img}', f'./raw_img/{i}/done/{img}')\n",
    "\n",
    "        update_file(img_label_map, f'./labels{i}.pkl')\n",
    "\n",
    "    "
   ]
  },
  {
   "cell_type": "code",
   "execution_count": null,
   "metadata": {},
   "outputs": [],
   "source": [
    "main()"
   ]
  },
  {
   "cell_type": "markdown",
   "metadata": {},
   "source": [
    "c0 - Safe Driving\n",
    "\n",
    "c1 - Texting\n",
    "\n",
    "c2 - Talking on the phone\n",
    "\n",
    "c3 - Operating the Radio\n",
    "\n",
    "c4 - Drinking\n",
    "\n",
    "c5 - Reaching Behind\n",
    "\n",
    "c6 - Talking to Passenger\n",
    "\n",
    "c7 - LAS QUE NO SIRVEN"
   ]
  }
 ],
 "metadata": {
  "kernelspec": {
   "display_name": "venv",
   "language": "python",
   "name": "python3"
  },
  "language_info": {
   "codemirror_mode": {
    "name": "ipython",
    "version": 3
   },
   "file_extension": ".py",
   "mimetype": "text/x-python",
   "name": "python",
   "nbconvert_exporter": "python",
   "pygments_lexer": "ipython3",
   "version": "3.10.11"
  }
 },
 "nbformat": 4,
 "nbformat_minor": 2
}
